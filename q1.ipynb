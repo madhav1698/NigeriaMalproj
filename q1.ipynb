{
 "cells": [
  {
   "cell_type": "markdown",
   "id": "5a5c12a1-c1e4-4227-8327-28a305781bb6",
   "metadata": {},
   "source": [
    "How many children under the age of five were tested for malaria with a blood smear\n",
    "test?"
   ]
  },
  {
   "cell_type": "code",
   "execution_count": null,
   "id": "08fca6ac-124b-4c05-b84a-b60115cc8cbc",
   "metadata": {},
   "outputs": [],
   "source": [
    "import pandas as pd"
   ]
  },
  {
   "cell_type": "code",
   "execution_count": 3,
   "id": "447d7398-2ff7-4a92-b53c-0e243e463dce",
   "metadata": {},
   "outputs": [
    {
     "name": "stderr",
     "output_type": "stream",
     "text": [
      "C:\\Users\\catch\\AppData\\Local\\Temp\\ipykernel_11164\\3349521377.py:1: DtypeWarning: Columns (55,73,105,117,169,171,172,186,187,200,201,202,203,204,205,206,207,208,214,215,217,219,239,240,241,242,243,244,245,246,247,248,249,264,266,271,277,278,279,280,281,282,284,285,301,302,305,328,334) have mixed types. Specify dtype option on import or set low_memory=False.\n",
      "  df=pd.read_csv('data.csv') #reading through the data\n"
     ]
    }
   ],
   "source": [
    "df=pd.read_csv('data.csv') #reading through the data\n",
    "under_5_df=df[df['hc1']<=60] #filtering the age column for less than 60 months of age"
   ]
  },
  {
   "cell_type": "code",
   "execution_count": 3,
   "id": "71cfa199-9e77-4c87-98ac-b943b533979b",
   "metadata": {},
   "outputs": [
    {
     "name": "stdout",
     "output_type": "stream",
     "text": [
      "8144\n"
     ]
    }
   ],
   "source": [
    "malaria_result=(under_5_df['hml32'].isin(['positive','negative']).sum()) #finding positive and negative reuslts of blood smear test\n",
    "print(malaria_result)"
   ]
  },
  {
   "cell_type": "code",
   "execution_count": 5,
   "id": "895bff81-62b2-4255-94fb-175be75cd638",
   "metadata": {},
   "outputs": [
    {
     "name": "stdout",
     "output_type": "stream",
     "text": [
      "1936 6208\n",
      "Total tested are 8351, 207 are blank results, 1936 are positive and 6208 are negative\n"
     ]
    }
   ],
   "source": [
    "positive_malaria = (under_5_df['hml32'] == 'positive').sum()\n",
    "negative_malaria = (under_5_df['hml32'] == 'negative').sum()\n",
    "\n",
    "print(positive_malaria,negative_malaria)\n",
    "\n",
    "total_tested=(under_5_df['hml34'].count())#counting total people tested through blood smear\n",
    "print(f'Total tested are {total_tested}, {total_tested-(positive_malaria+negative_malaria)} are blank results, {positive_malaria} are positive and {negative_malaria} are negative')"
   ]
  },
  {
   "cell_type": "code",
   "execution_count": null,
   "id": "570e0b81-0565-4abb-aac2-a8ae07af45ca",
   "metadata": {},
   "outputs": [],
   "source": []
  },
  {
   "cell_type": "code",
   "execution_count": null,
   "id": "2abed711-f499-4bdc-af54-629d737bf6c9",
   "metadata": {},
   "outputs": [],
   "source": []
  }
 ],
 "metadata": {
  "kernelspec": {
   "display_name": "Python 3 (ipykernel)",
   "language": "python",
   "name": "python3"
  },
  "language_info": {
   "codemirror_mode": {
    "name": "ipython",
    "version": 3
   },
   "file_extension": ".py",
   "mimetype": "text/x-python",
   "name": "python",
   "nbconvert_exporter": "python",
   "pygments_lexer": "ipython3",
   "version": "3.9.7"
  }
 },
 "nbformat": 4,
 "nbformat_minor": 5
}
