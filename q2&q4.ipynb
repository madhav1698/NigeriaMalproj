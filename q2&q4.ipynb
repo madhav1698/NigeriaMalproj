{
 "cells": [
  {
   "cell_type": "code",
   "execution_count": 1,
   "id": "c52417e7-92c5-4f70-9b80-234bff5e384c",
   "metadata": {},
   "outputs": [],
   "source": [
    "import pandas as pd\n",
    "import numpy as np"
   ]
  },
  {
   "cell_type": "code",
   "execution_count": 2,
   "id": "f64fac32-3205-469f-9044-5b536203df9f",
   "metadata": {},
   "outputs": [
    {
     "name": "stderr",
     "output_type": "stream",
     "text": [
      "C:\\Users\\catch\\AppData\\Local\\Temp\\ipykernel_12892\\3365866320.py:1: DtypeWarning: Columns (55,73,105,117,169,171,172,186,187,200,201,202,203,204,205,206,207,208,214,215,217,219,239,240,241,242,243,244,245,246,247,248,249,264,266,271,277,278,279,280,281,282,284,285,301,302,305,328,334) have mixed types. Specify dtype option on import or set low_memory=False.\n",
      "  df=pd.read_csv('data.csv')\n"
     ]
    },
    {
     "name": "stdout",
     "output_type": "stream",
     "text": [
      "12867\n"
     ]
    }
   ],
   "source": [
    "df=pd.read_csv('data.csv')\n",
    "under_5_df=df[df['hc1']<=60]\n",
    "complete_col=(under_5_df['hml35'].isin(['positive','negative',np.nan]).sum()) #counting every entry in this column\n",
    "print(complete_col)"
   ]
  },
  {
   "cell_type": "code",
   "execution_count": 3,
   "id": "43f7a2bc-7072-4170-bba5-d1d05476c3c7",
   "metadata": {},
   "outputs": [],
   "source": [
    "positive_malaria = (under_5_df['hml35'] == 'positive').sum()\n",
    "negative_malaria = (under_5_df['hml35'] == 'negative').sum()"
   ]
  },
  {
   "cell_type": "code",
   "execution_count": 4,
   "id": "dbaa49d6-bfdf-4e95-8122-c10e0bd4a758",
   "metadata": {},
   "outputs": [],
   "source": [
    "total_tested=(under_5_df['hml35'].count()) #counting people tested through rapid test\n"
   ]
  },
  {
   "cell_type": "code",
   "execution_count": 5,
   "id": "822d5f7b-b62e-40c1-8619-cb5f72b2e515",
   "metadata": {},
   "outputs": [
    {
     "name": "stdout",
     "output_type": "stream",
     "text": [
      "Total entries in this column are 12867, only 11197 received results,  4258 are positive and 6939 are negative\n"
     ]
    }
   ],
   "source": [
    "print(f'Total entries in this column are {complete_col}, only {total_tested} received results,  {positive_malaria} are positive and {negative_malaria} are negative')\n"
   ]
  },
  {
   "cell_type": "code",
   "execution_count": null,
   "id": "702a6db6-f4c2-465e-8ac1-8a07072c427c",
   "metadata": {},
   "outputs": [],
   "source": []
  }
 ],
 "metadata": {
  "kernelspec": {
   "display_name": "Python 3 (ipykernel)",
   "language": "python",
   "name": "python3"
  },
  "language_info": {
   "codemirror_mode": {
    "name": "ipython",
    "version": 3
   },
   "file_extension": ".py",
   "mimetype": "text/x-python",
   "name": "python",
   "nbconvert_exporter": "python",
   "pygments_lexer": "ipython3",
   "version": "3.9.7"
  }
 },
 "nbformat": 4,
 "nbformat_minor": 5
}
