{
 "cells": [
  {
   "cell_type": "code",
   "execution_count": 3,
   "id": "e6affbed-6bc0-47a8-91ca-57461637a256",
   "metadata": {},
   "outputs": [],
   "source": [
    "import pandas as pd\n",
    "import matplotlib.pyplot as plt\n",
    "import plotly.express as px"
   ]
  },
  {
   "cell_type": "code",
   "execution_count": 4,
   "id": "5cb17a63-77a9-4ddd-858a-d77e98d14736",
   "metadata": {},
   "outputs": [
    {
     "data": {
      "text/html": [
       "<div>\n",
       "<style scoped>\n",
       "    .dataframe tbody tr th:only-of-type {\n",
       "        vertical-align: middle;\n",
       "    }\n",
       "\n",
       "    .dataframe tbody tr th {\n",
       "        vertical-align: top;\n",
       "    }\n",
       "\n",
       "    .dataframe thead th {\n",
       "        text-align: right;\n",
       "    }\n",
       "</style>\n",
       "<table border=\"1\" class=\"dataframe\">\n",
       "  <thead>\n",
       "    <tr style=\"text-align: right;\">\n",
       "      <th></th>\n",
       "      <th>Const</th>\n",
       "      <th>Your Rating</th>\n",
       "      <th>Date Rated</th>\n",
       "      <th>Title</th>\n",
       "      <th>Original Title</th>\n",
       "      <th>URL</th>\n",
       "      <th>Title Type</th>\n",
       "      <th>IMDb Rating</th>\n",
       "      <th>Runtime (mins)</th>\n",
       "      <th>Year</th>\n",
       "      <th>Genres</th>\n",
       "      <th>Num Votes</th>\n",
       "      <th>Release Date</th>\n",
       "      <th>Directors</th>\n",
       "    </tr>\n",
       "  </thead>\n",
       "  <tbody>\n",
       "    <tr>\n",
       "      <th>0</th>\n",
       "      <td>tt0089881</td>\n",
       "      <td>9</td>\n",
       "      <td>2024-07-24</td>\n",
       "      <td>Ran</td>\n",
       "      <td>Ran</td>\n",
       "      <td>https://www.imdb.com/title/tt0089881</td>\n",
       "      <td>Movie</td>\n",
       "      <td>8.2</td>\n",
       "      <td>160.0</td>\n",
       "      <td>1986</td>\n",
       "      <td>Action, War, Drama</td>\n",
       "      <td>137572</td>\n",
       "      <td>1986-03-07</td>\n",
       "      <td>Akira Kurosawa</td>\n",
       "    </tr>\n",
       "    <tr>\n",
       "      <th>1</th>\n",
       "      <td>tt12584954</td>\n",
       "      <td>7</td>\n",
       "      <td>2024-07-23</td>\n",
       "      <td>Twisters</td>\n",
       "      <td>Twisters</td>\n",
       "      <td>https://www.imdb.com/title/tt12584954</td>\n",
       "      <td>Movie</td>\n",
       "      <td>7.1</td>\n",
       "      <td>122.0</td>\n",
       "      <td>2024</td>\n",
       "      <td>Action, Adventure, Thriller</td>\n",
       "      <td>25222</td>\n",
       "      <td>2024-07-17</td>\n",
       "      <td>Lee Isaac Chung</td>\n",
       "    </tr>\n",
       "    <tr>\n",
       "      <th>2</th>\n",
       "      <td>tt0206634</td>\n",
       "      <td>8</td>\n",
       "      <td>2024-07-15</td>\n",
       "      <td>Children of Men</td>\n",
       "      <td>Children of Men</td>\n",
       "      <td>https://www.imdb.com/title/tt0206634</td>\n",
       "      <td>Movie</td>\n",
       "      <td>7.9</td>\n",
       "      <td>109.0</td>\n",
       "      <td>2006</td>\n",
       "      <td>Thriller, Action, Drama, Sci-Fi</td>\n",
       "      <td>533319</td>\n",
       "      <td>2006-09-22</td>\n",
       "      <td>Alfonso Cuarón</td>\n",
       "    </tr>\n",
       "    <tr>\n",
       "      <th>3</th>\n",
       "      <td>tt22022452</td>\n",
       "      <td>8</td>\n",
       "      <td>2024-06-23</td>\n",
       "      <td>Inside Out 2</td>\n",
       "      <td>Inside Out 2</td>\n",
       "      <td>https://www.imdb.com/title/tt22022452</td>\n",
       "      <td>Movie</td>\n",
       "      <td>7.8</td>\n",
       "      <td>96.0</td>\n",
       "      <td>2024</td>\n",
       "      <td>Animation, Adventure, Comedy, Drama, Family, F...</td>\n",
       "      <td>83931</td>\n",
       "      <td>2024-06-14</td>\n",
       "      <td>Kelsey Mann</td>\n",
       "    </tr>\n",
       "    <tr>\n",
       "      <th>4</th>\n",
       "      <td>tt0088680</td>\n",
       "      <td>8</td>\n",
       "      <td>2024-06-21</td>\n",
       "      <td>After Hours</td>\n",
       "      <td>After Hours</td>\n",
       "      <td>https://www.imdb.com/title/tt0088680</td>\n",
       "      <td>Movie</td>\n",
       "      <td>7.6</td>\n",
       "      <td>97.0</td>\n",
       "      <td>1985</td>\n",
       "      <td>Drama, Crime, Thriller, Comedy</td>\n",
       "      <td>82988</td>\n",
       "      <td>1985-12-13</td>\n",
       "      <td>Martin Scorsese</td>\n",
       "    </tr>\n",
       "  </tbody>\n",
       "</table>\n",
       "</div>"
      ],
      "text/plain": [
       "        Const  Your Rating  Date Rated            Title   Original Title  \\\n",
       "0   tt0089881            9  2024-07-24              Ran              Ran   \n",
       "1  tt12584954            7  2024-07-23         Twisters         Twisters   \n",
       "2   tt0206634            8  2024-07-15  Children of Men  Children of Men   \n",
       "3  tt22022452            8  2024-06-23     Inside Out 2     Inside Out 2   \n",
       "4   tt0088680            8  2024-06-21      After Hours      After Hours   \n",
       "\n",
       "                                     URL Title Type  IMDb Rating  \\\n",
       "0   https://www.imdb.com/title/tt0089881      Movie          8.2   \n",
       "1  https://www.imdb.com/title/tt12584954      Movie          7.1   \n",
       "2   https://www.imdb.com/title/tt0206634      Movie          7.9   \n",
       "3  https://www.imdb.com/title/tt22022452      Movie          7.8   \n",
       "4   https://www.imdb.com/title/tt0088680      Movie          7.6   \n",
       "\n",
       "   Runtime (mins)  Year                                             Genres  \\\n",
       "0           160.0  1986                                 Action, War, Drama   \n",
       "1           122.0  2024                        Action, Adventure, Thriller   \n",
       "2           109.0  2006                    Thriller, Action, Drama, Sci-Fi   \n",
       "3            96.0  2024  Animation, Adventure, Comedy, Drama, Family, F...   \n",
       "4            97.0  1985                     Drama, Crime, Thriller, Comedy   \n",
       "\n",
       "   Num Votes Release Date        Directors  \n",
       "0     137572   1986-03-07   Akira Kurosawa  \n",
       "1      25222   2024-07-17  Lee Isaac Chung  \n",
       "2     533319   2006-09-22   Alfonso Cuarón  \n",
       "3      83931   2024-06-14      Kelsey Mann  \n",
       "4      82988   1985-12-13  Martin Scorsese  "
      ]
     },
     "execution_count": 4,
     "metadata": {},
     "output_type": "execute_result"
    }
   ],
   "source": [
    "df=pd.read_csv('imdb_data.csv')\n",
    "df.head()"
   ]
  },
  {
   "cell_type": "code",
   "execution_count": 5,
   "id": "4fc165f3-b54c-4e9f-9ec9-e28d2f7f0c9d",
   "metadata": {},
   "outputs": [
    {
     "data": {
      "application/vnd.plotly.v1+json": {
       "config": {
        "plotlyServerURL": "https://plot.ly"
       },
       "data": [
        {
         "alignmentgroup": "True",
         "bingroup": "x",
         "hovertemplate": "Your Rating=%{x}<br>count=%{y}<extra></extra>",
         "legendgroup": "",
         "marker": {
          "color": "#636efa",
          "pattern": {
           "shape": ""
          }
         },
         "name": "",
         "nbinsx": 10,
         "offsetgroup": "",
         "orientation": "v",
         "showlegend": false,
         "type": "histogram",
         "x": [
          9,
          7,
          8,
          8,
          8,
          9,
          8,
          8,
          8,
          6,
          7,
          8,
          8,
          8,
          9,
          8,
          7,
          8,
          7,
          8,
          7,
          8,
          8,
          7,
          8,
          8,
          8,
          8,
          8,
          9,
          8,
          8,
          8,
          6,
          7,
          8,
          8,
          9,
          9,
          8,
          7,
          8,
          8,
          8,
          8,
          7,
          7,
          6,
          7,
          10,
          7,
          9,
          8,
          7,
          7,
          8,
          8,
          7,
          7,
          8,
          8,
          6,
          9,
          7,
          7,
          8,
          9,
          8,
          8,
          8,
          7,
          7,
          7,
          8,
          8,
          8,
          7,
          7,
          8,
          8,
          6,
          8,
          6,
          7,
          7,
          7,
          6,
          8,
          7,
          8,
          7,
          6,
          8,
          8,
          8,
          8,
          8,
          7,
          8,
          8,
          7,
          9,
          9,
          6,
          8,
          7,
          6,
          8,
          8,
          6,
          7,
          8,
          8,
          9,
          6,
          7,
          8,
          8,
          5,
          7,
          7,
          8,
          8,
          8,
          8,
          8,
          9,
          8,
          8,
          7,
          7,
          7,
          6,
          7,
          8,
          8,
          8,
          8,
          8,
          7,
          8,
          7,
          7,
          7,
          7,
          7,
          8,
          8,
          5,
          6,
          7,
          8,
          8,
          8,
          8,
          6,
          9,
          8,
          6,
          8,
          8,
          8,
          4,
          9,
          9,
          7,
          8,
          5,
          8,
          8,
          8,
          7,
          6,
          6,
          7,
          7,
          8,
          7,
          9,
          8,
          8,
          6,
          8,
          7,
          7,
          7,
          7,
          7,
          7,
          6,
          7,
          6,
          7,
          8,
          5,
          7,
          7,
          7,
          8,
          7,
          8,
          6,
          8,
          9,
          7,
          8,
          6,
          7,
          8,
          7,
          8,
          8,
          9,
          6,
          7,
          7,
          8,
          8,
          6,
          6,
          8,
          6,
          8,
          8,
          8,
          7,
          6,
          7,
          7,
          8,
          7,
          8,
          6,
          6,
          6,
          8,
          8,
          8,
          7,
          6,
          7,
          7,
          7,
          7,
          6,
          8,
          9,
          7,
          7,
          8,
          8,
          7,
          8,
          8,
          8,
          8,
          8,
          8,
          6,
          8,
          7,
          7,
          8,
          8,
          7,
          7,
          7,
          9,
          8,
          6,
          8,
          8,
          7,
          7,
          7,
          8,
          8,
          7,
          8,
          5,
          8,
          8,
          9,
          8,
          8,
          7,
          8,
          8,
          7,
          8,
          7,
          9,
          8,
          8,
          7,
          9,
          6,
          8,
          8,
          8,
          7,
          8,
          6,
          5,
          7,
          8,
          8,
          8,
          8,
          7,
          9,
          7,
          8,
          1,
          8,
          8,
          8,
          8,
          7,
          7,
          8,
          7,
          7,
          8,
          7,
          8,
          6,
          8,
          8,
          8,
          8,
          7,
          7,
          8,
          8,
          9,
          7,
          7,
          8,
          8,
          8,
          7,
          8,
          8,
          7,
          8,
          7,
          8,
          8,
          6,
          8,
          9,
          8,
          8,
          6,
          9,
          8,
          8,
          7,
          7,
          7,
          7,
          8,
          9,
          8,
          8,
          7,
          8,
          8,
          8,
          8,
          8,
          9,
          9,
          8,
          8,
          6,
          7,
          6,
          6,
          8,
          7,
          7,
          8,
          8,
          8,
          7,
          8,
          7,
          8,
          8,
          8,
          7,
          7,
          8,
          7,
          9,
          7,
          6,
          7,
          7,
          8,
          8,
          8,
          8,
          9,
          8,
          8,
          6,
          8,
          8,
          7,
          9,
          9,
          9,
          7,
          7,
          7,
          7,
          7,
          7,
          7,
          9,
          8,
          8,
          9,
          7,
          5,
          7,
          8,
          8,
          5,
          8,
          7,
          8,
          8,
          7,
          8,
          7,
          7,
          6,
          8,
          9,
          8,
          7,
          7,
          7,
          8,
          8,
          7,
          7,
          6,
          7,
          8,
          7,
          7,
          7,
          7,
          7,
          8,
          7,
          8,
          8,
          7,
          8,
          8,
          10,
          7,
          5,
          8,
          7,
          8,
          8,
          7,
          6,
          8,
          9,
          8,
          7,
          7,
          6,
          8,
          7,
          7,
          8,
          7,
          7,
          9,
          9,
          7,
          8,
          8,
          9,
          9,
          5,
          6,
          7,
          8,
          9,
          7,
          7,
          5,
          5,
          6,
          7,
          7,
          7,
          6,
          6,
          7,
          7,
          7,
          7,
          8,
          9,
          8,
          6,
          7,
          8,
          9,
          7,
          9,
          7,
          7,
          8,
          7,
          7,
          7,
          8,
          9,
          7,
          7,
          7,
          8,
          7,
          7,
          8,
          9,
          7,
          7,
          7,
          7,
          7,
          5,
          6,
          6,
          7,
          7,
          7,
          6,
          5,
          7,
          6,
          7,
          8,
          7,
          7,
          8,
          6,
          7,
          7,
          7,
          7,
          7,
          7,
          8,
          7,
          7,
          7,
          7,
          7,
          6,
          9,
          8,
          7,
          7,
          7,
          8,
          8,
          7,
          7,
          6,
          7,
          6,
          8,
          8,
          7,
          8,
          8,
          7,
          8,
          8,
          9,
          8,
          8,
          7,
          8,
          8,
          8,
          7,
          7,
          8,
          8,
          10,
          8,
          8,
          7,
          7,
          8,
          8,
          8,
          8,
          8,
          8,
          8,
          9,
          7,
          6,
          8,
          8,
          8,
          7,
          8,
          7,
          6,
          7,
          7,
          8,
          7,
          8,
          8,
          7,
          7,
          8,
          7,
          8,
          7,
          6,
          7,
          8,
          7,
          9,
          10,
          7,
          7,
          8,
          7,
          8,
          7,
          8,
          7,
          7,
          8,
          8,
          9,
          7,
          8,
          8,
          8,
          9,
          9,
          9,
          9,
          9,
          9,
          8,
          7,
          8,
          8,
          8,
          8,
          7,
          8,
          8,
          7,
          8,
          8,
          9,
          8,
          9,
          9,
          8,
          8,
          8,
          7,
          9,
          8,
          5,
          6,
          7,
          7,
          8,
          7,
          8,
          8,
          7,
          5,
          7,
          7,
          7,
          8,
          6,
          7,
          7,
          7,
          7,
          8,
          7,
          7,
          8,
          8,
          8,
          7,
          7,
          7,
          8,
          6,
          7,
          7,
          8,
          8,
          8,
          9,
          7,
          8,
          7,
          9,
          8,
          8,
          8,
          8,
          8,
          6,
          7,
          7,
          8,
          7,
          8,
          10,
          8,
          8,
          9,
          9,
          6,
          8,
          8,
          8,
          7,
          7,
          9,
          10,
          9,
          8,
          7,
          7,
          9,
          9,
          8,
          7,
          8,
          7,
          9,
          9,
          8,
          8,
          8,
          8,
          6,
          10,
          7,
          9,
          9,
          8,
          8,
          5,
          8,
          9,
          10,
          8,
          7,
          7,
          7,
          8,
          8,
          7,
          6,
          7,
          7,
          8,
          9,
          7,
          8,
          8,
          7,
          8,
          8,
          9,
          8,
          8,
          8,
          8,
          7,
          8,
          8,
          9,
          8,
          8,
          10,
          7,
          9,
          8,
          8,
          7,
          8,
          7,
          8,
          9,
          7,
          8,
          6,
          8,
          9,
          9,
          8,
          4,
          7,
          7,
          6,
          3,
          8,
          8,
          8,
          9,
          7,
          6,
          8,
          9,
          5,
          6,
          8,
          8,
          9,
          6,
          8,
          9,
          8,
          9,
          7,
          8,
          8,
          8,
          5,
          8,
          9,
          8,
          9,
          9,
          8,
          8,
          6,
          8,
          7,
          7,
          7,
          9,
          8,
          8,
          8,
          9,
          8,
          8,
          8,
          8,
          7,
          8,
          8,
          7,
          4,
          6,
          8,
          7,
          8,
          8,
          8,
          9,
          8,
          7,
          8,
          8,
          7,
          8,
          9,
          7,
          6,
          7,
          7,
          7,
          8,
          8,
          7,
          7,
          7,
          8,
          7,
          9,
          8,
          8,
          8,
          6,
          6,
          7,
          7,
          7,
          9,
          7,
          8,
          9,
          9,
          8,
          9,
          9,
          7,
          10,
          10,
          9,
          8,
          7,
          8
         ],
         "xaxis": "x",
         "yaxis": "y"
        }
       ],
       "layout": {
        "autosize": true,
        "barmode": "relative",
        "legend": {
         "tracegroupgap": 0
        },
        "template": {
         "data": {
          "bar": [
           {
            "error_x": {
             "color": "#2a3f5f"
            },
            "error_y": {
             "color": "#2a3f5f"
            },
            "marker": {
             "line": {
              "color": "#E5ECF6",
              "width": 0.5
             },
             "pattern": {
              "fillmode": "overlay",
              "size": 10,
              "solidity": 0.2
             }
            },
            "type": "bar"
           }
          ],
          "barpolar": [
           {
            "marker": {
             "line": {
              "color": "#E5ECF6",
              "width": 0.5
             },
             "pattern": {
              "fillmode": "overlay",
              "size": 10,
              "solidity": 0.2
             }
            },
            "type": "barpolar"
           }
          ],
          "carpet": [
           {
            "aaxis": {
             "endlinecolor": "#2a3f5f",
             "gridcolor": "white",
             "linecolor": "white",
             "minorgridcolor": "white",
             "startlinecolor": "#2a3f5f"
            },
            "baxis": {
             "endlinecolor": "#2a3f5f",
             "gridcolor": "white",
             "linecolor": "white",
             "minorgridcolor": "white",
             "startlinecolor": "#2a3f5f"
            },
            "type": "carpet"
           }
          ],
          "choropleth": [
           {
            "colorbar": {
             "outlinewidth": 0,
             "ticks": ""
            },
            "type": "choropleth"
           }
          ],
          "contour": [
           {
            "colorbar": {
             "outlinewidth": 0,
             "ticks": ""
            },
            "colorscale": [
             [
              0,
              "#0d0887"
             ],
             [
              0.1111111111111111,
              "#46039f"
             ],
             [
              0.2222222222222222,
              "#7201a8"
             ],
             [
              0.3333333333333333,
              "#9c179e"
             ],
             [
              0.4444444444444444,
              "#bd3786"
             ],
             [
              0.5555555555555556,
              "#d8576b"
             ],
             [
              0.6666666666666666,
              "#ed7953"
             ],
             [
              0.7777777777777778,
              "#fb9f3a"
             ],
             [
              0.8888888888888888,
              "#fdca26"
             ],
             [
              1,
              "#f0f921"
             ]
            ],
            "type": "contour"
           }
          ],
          "contourcarpet": [
           {
            "colorbar": {
             "outlinewidth": 0,
             "ticks": ""
            },
            "type": "contourcarpet"
           }
          ],
          "heatmap": [
           {
            "colorbar": {
             "outlinewidth": 0,
             "ticks": ""
            },
            "colorscale": [
             [
              0,
              "#0d0887"
             ],
             [
              0.1111111111111111,
              "#46039f"
             ],
             [
              0.2222222222222222,
              "#7201a8"
             ],
             [
              0.3333333333333333,
              "#9c179e"
             ],
             [
              0.4444444444444444,
              "#bd3786"
             ],
             [
              0.5555555555555556,
              "#d8576b"
             ],
             [
              0.6666666666666666,
              "#ed7953"
             ],
             [
              0.7777777777777778,
              "#fb9f3a"
             ],
             [
              0.8888888888888888,
              "#fdca26"
             ],
             [
              1,
              "#f0f921"
             ]
            ],
            "type": "heatmap"
           }
          ],
          "heatmapgl": [
           {
            "colorbar": {
             "outlinewidth": 0,
             "ticks": ""
            },
            "colorscale": [
             [
              0,
              "#0d0887"
             ],
             [
              0.1111111111111111,
              "#46039f"
             ],
             [
              0.2222222222222222,
              "#7201a8"
             ],
             [
              0.3333333333333333,
              "#9c179e"
             ],
             [
              0.4444444444444444,
              "#bd3786"
             ],
             [
              0.5555555555555556,
              "#d8576b"
             ],
             [
              0.6666666666666666,
              "#ed7953"
             ],
             [
              0.7777777777777778,
              "#fb9f3a"
             ],
             [
              0.8888888888888888,
              "#fdca26"
             ],
             [
              1,
              "#f0f921"
             ]
            ],
            "type": "heatmapgl"
           }
          ],
          "histogram": [
           {
            "marker": {
             "pattern": {
              "fillmode": "overlay",
              "size": 10,
              "solidity": 0.2
             }
            },
            "type": "histogram"
           }
          ],
          "histogram2d": [
           {
            "colorbar": {
             "outlinewidth": 0,
             "ticks": ""
            },
            "colorscale": [
             [
              0,
              "#0d0887"
             ],
             [
              0.1111111111111111,
              "#46039f"
             ],
             [
              0.2222222222222222,
              "#7201a8"
             ],
             [
              0.3333333333333333,
              "#9c179e"
             ],
             [
              0.4444444444444444,
              "#bd3786"
             ],
             [
              0.5555555555555556,
              "#d8576b"
             ],
             [
              0.6666666666666666,
              "#ed7953"
             ],
             [
              0.7777777777777778,
              "#fb9f3a"
             ],
             [
              0.8888888888888888,
              "#fdca26"
             ],
             [
              1,
              "#f0f921"
             ]
            ],
            "type": "histogram2d"
           }
          ],
          "histogram2dcontour": [
           {
            "colorbar": {
             "outlinewidth": 0,
             "ticks": ""
            },
            "colorscale": [
             [
              0,
              "#0d0887"
             ],
             [
              0.1111111111111111,
              "#46039f"
             ],
             [
              0.2222222222222222,
              "#7201a8"
             ],
             [
              0.3333333333333333,
              "#9c179e"
             ],
             [
              0.4444444444444444,
              "#bd3786"
             ],
             [
              0.5555555555555556,
              "#d8576b"
             ],
             [
              0.6666666666666666,
              "#ed7953"
             ],
             [
              0.7777777777777778,
              "#fb9f3a"
             ],
             [
              0.8888888888888888,
              "#fdca26"
             ],
             [
              1,
              "#f0f921"
             ]
            ],
            "type": "histogram2dcontour"
           }
          ],
          "mesh3d": [
           {
            "colorbar": {
             "outlinewidth": 0,
             "ticks": ""
            },
            "type": "mesh3d"
           }
          ],
          "parcoords": [
           {
            "line": {
             "colorbar": {
              "outlinewidth": 0,
              "ticks": ""
             }
            },
            "type": "parcoords"
           }
          ],
          "pie": [
           {
            "automargin": true,
            "type": "pie"
           }
          ],
          "scatter": [
           {
            "marker": {
             "colorbar": {
              "outlinewidth": 0,
              "ticks": ""
             }
            },
            "type": "scatter"
           }
          ],
          "scatter3d": [
           {
            "line": {
             "colorbar": {
              "outlinewidth": 0,
              "ticks": ""
             }
            },
            "marker": {
             "colorbar": {
              "outlinewidth": 0,
              "ticks": ""
             }
            },
            "type": "scatter3d"
           }
          ],
          "scattercarpet": [
           {
            "marker": {
             "colorbar": {
              "outlinewidth": 0,
              "ticks": ""
             }
            },
            "type": "scattercarpet"
           }
          ],
          "scattergeo": [
           {
            "marker": {
             "colorbar": {
              "outlinewidth": 0,
              "ticks": ""
             }
            },
            "type": "scattergeo"
           }
          ],
          "scattergl": [
           {
            "marker": {
             "colorbar": {
              "outlinewidth": 0,
              "ticks": ""
             }
            },
            "type": "scattergl"
           }
          ],
          "scattermapbox": [
           {
            "marker": {
             "colorbar": {
              "outlinewidth": 0,
              "ticks": ""
             }
            },
            "type": "scattermapbox"
           }
          ],
          "scatterpolar": [
           {
            "marker": {
             "colorbar": {
              "outlinewidth": 0,
              "ticks": ""
             }
            },
            "type": "scatterpolar"
           }
          ],
          "scatterpolargl": [
           {
            "marker": {
             "colorbar": {
              "outlinewidth": 0,
              "ticks": ""
             }
            },
            "type": "scatterpolargl"
           }
          ],
          "scatterternary": [
           {
            "marker": {
             "colorbar": {
              "outlinewidth": 0,
              "ticks": ""
             }
            },
            "type": "scatterternary"
           }
          ],
          "surface": [
           {
            "colorbar": {
             "outlinewidth": 0,
             "ticks": ""
            },
            "colorscale": [
             [
              0,
              "#0d0887"
             ],
             [
              0.1111111111111111,
              "#46039f"
             ],
             [
              0.2222222222222222,
              "#7201a8"
             ],
             [
              0.3333333333333333,
              "#9c179e"
             ],
             [
              0.4444444444444444,
              "#bd3786"
             ],
             [
              0.5555555555555556,
              "#d8576b"
             ],
             [
              0.6666666666666666,
              "#ed7953"
             ],
             [
              0.7777777777777778,
              "#fb9f3a"
             ],
             [
              0.8888888888888888,
              "#fdca26"
             ],
             [
              1,
              "#f0f921"
             ]
            ],
            "type": "surface"
           }
          ],
          "table": [
           {
            "cells": {
             "fill": {
              "color": "#EBF0F8"
             },
             "line": {
              "color": "white"
             }
            },
            "header": {
             "fill": {
              "color": "#C8D4E3"
             },
             "line": {
              "color": "white"
             }
            },
            "type": "table"
           }
          ]
         },
         "layout": {
          "annotationdefaults": {
           "arrowcolor": "#2a3f5f",
           "arrowhead": 0,
           "arrowwidth": 1
          },
          "autotypenumbers": "strict",
          "coloraxis": {
           "colorbar": {
            "outlinewidth": 0,
            "ticks": ""
           }
          },
          "colorscale": {
           "diverging": [
            [
             0,
             "#8e0152"
            ],
            [
             0.1,
             "#c51b7d"
            ],
            [
             0.2,
             "#de77ae"
            ],
            [
             0.3,
             "#f1b6da"
            ],
            [
             0.4,
             "#fde0ef"
            ],
            [
             0.5,
             "#f7f7f7"
            ],
            [
             0.6,
             "#e6f5d0"
            ],
            [
             0.7,
             "#b8e186"
            ],
            [
             0.8,
             "#7fbc41"
            ],
            [
             0.9,
             "#4d9221"
            ],
            [
             1,
             "#276419"
            ]
           ],
           "sequential": [
            [
             0,
             "#0d0887"
            ],
            [
             0.1111111111111111,
             "#46039f"
            ],
            [
             0.2222222222222222,
             "#7201a8"
            ],
            [
             0.3333333333333333,
             "#9c179e"
            ],
            [
             0.4444444444444444,
             "#bd3786"
            ],
            [
             0.5555555555555556,
             "#d8576b"
            ],
            [
             0.6666666666666666,
             "#ed7953"
            ],
            [
             0.7777777777777778,
             "#fb9f3a"
            ],
            [
             0.8888888888888888,
             "#fdca26"
            ],
            [
             1,
             "#f0f921"
            ]
           ],
           "sequentialminus": [
            [
             0,
             "#0d0887"
            ],
            [
             0.1111111111111111,
             "#46039f"
            ],
            [
             0.2222222222222222,
             "#7201a8"
            ],
            [
             0.3333333333333333,
             "#9c179e"
            ],
            [
             0.4444444444444444,
             "#bd3786"
            ],
            [
             0.5555555555555556,
             "#d8576b"
            ],
            [
             0.6666666666666666,
             "#ed7953"
            ],
            [
             0.7777777777777778,
             "#fb9f3a"
            ],
            [
             0.8888888888888888,
             "#fdca26"
            ],
            [
             1,
             "#f0f921"
            ]
           ]
          },
          "colorway": [
           "#636efa",
           "#EF553B",
           "#00cc96",
           "#ab63fa",
           "#FFA15A",
           "#19d3f3",
           "#FF6692",
           "#B6E880",
           "#FF97FF",
           "#FECB52"
          ],
          "font": {
           "color": "#2a3f5f"
          },
          "geo": {
           "bgcolor": "white",
           "lakecolor": "white",
           "landcolor": "#E5ECF6",
           "showlakes": true,
           "showland": true,
           "subunitcolor": "white"
          },
          "hoverlabel": {
           "align": "left"
          },
          "hovermode": "closest",
          "mapbox": {
           "style": "light"
          },
          "paper_bgcolor": "white",
          "plot_bgcolor": "#E5ECF6",
          "polar": {
           "angularaxis": {
            "gridcolor": "white",
            "linecolor": "white",
            "ticks": ""
           },
           "bgcolor": "#E5ECF6",
           "radialaxis": {
            "gridcolor": "white",
            "linecolor": "white",
            "ticks": ""
           }
          },
          "scene": {
           "xaxis": {
            "backgroundcolor": "#E5ECF6",
            "gridcolor": "white",
            "gridwidth": 2,
            "linecolor": "white",
            "showbackground": true,
            "ticks": "",
            "zerolinecolor": "white"
           },
           "yaxis": {
            "backgroundcolor": "#E5ECF6",
            "gridcolor": "white",
            "gridwidth": 2,
            "linecolor": "white",
            "showbackground": true,
            "ticks": "",
            "zerolinecolor": "white"
           },
           "zaxis": {
            "backgroundcolor": "#E5ECF6",
            "gridcolor": "white",
            "gridwidth": 2,
            "linecolor": "white",
            "showbackground": true,
            "ticks": "",
            "zerolinecolor": "white"
           }
          },
          "shapedefaults": {
           "line": {
            "color": "#2a3f5f"
           }
          },
          "ternary": {
           "aaxis": {
            "gridcolor": "white",
            "linecolor": "white",
            "ticks": ""
           },
           "baxis": {
            "gridcolor": "white",
            "linecolor": "white",
            "ticks": ""
           },
           "bgcolor": "#E5ECF6",
           "caxis": {
            "gridcolor": "white",
            "linecolor": "white",
            "ticks": ""
           }
          },
          "title": {
           "x": 0.05
          },
          "xaxis": {
           "automargin": true,
           "gridcolor": "white",
           "linecolor": "white",
           "ticks": "",
           "title": {
            "standoff": 15
           },
           "zerolinecolor": "white",
           "zerolinewidth": 2
          },
          "yaxis": {
           "automargin": true,
           "gridcolor": "white",
           "linecolor": "white",
           "ticks": "",
           "title": {
            "standoff": 15
           },
           "zerolinecolor": "white",
           "zerolinewidth": 2
          }
         }
        },
        "title": {
         "text": "Rating Distribution"
        },
        "xaxis": {
         "anchor": "y",
         "autorange": true,
         "domain": [
          0,
          1
         ],
         "range": [
          0.5,
          10.5
         ],
         "title": {
          "text": "Your Rating"
         },
         "type": "linear"
        },
        "yaxis": {
         "anchor": "x",
         "autorange": true,
         "domain": [
          0,
          1
         ],
         "range": [
          0,
          415.7894736842105
         ],
         "title": {
          "text": "count"
         }
        }
       }
      },
      "image/png": "[encoded data removed]",
      "text/html": [
       "<div>                            <div id=\"88991afb-c0ce-4a40-a692-3a0bf2f69646\" class=\"plotly-graph-div\" style=\"height:525px; width:100%;\"></div>            <script type=\"text/javascript\">                require([\"plotly\"], function(Plotly) {                    window.PLOTLYENV=window.PLOTLYENV || {};                                    if (document.getElementById(\"88991afb-c0ce-4a40-a692-3a0bf2f69646\")) {                    Plotly.newPlot(                        \"88991afb-c0ce-4a40-a692-3a0bf2f69646\",                        [{\"alignmentgroup\":\"True\",\"bingroup\":\"x\",\"hovertemplate\":\"Your Rating=%{x}<br>count=%{y}<extra></extra>\",\"legendgroup\":\"\",\"marker\":{\"color\":\"#636efa\",\"pattern\":{\"shape\":\"\"}},\"name\":\"\",\"nbinsx\":10,\"offsetgroup\":\"\",\"orientation\":\"v\",\"showlegend\":false,\"x\":[9,7,8,8,8,9,8,8,8,6,7,8,8,8,9,8,7,8,7,8,7,8,8,7,8,8,8,8,8,9,8,8,8,6,7,8,8,9,9,8,7,8,8,8,8,7,7,6,7,10,7,9,8,7,7,8,8,7,7,8,8,6,9,7,7,8,9,8,8,8,7,7,7,8,8,8,7,7,8,8,6,8,6,7,7,7,6,8,7,8,7,6,8,8,8,8,8,7,8,8,7,9,9,6,8,7,6,8,8,6,7,8,8,9,6,7,8,8,5,7,7,8,8,8,8,8,9,8,8,7,7,7,6,7,8,8,8,8,8,7,8,7,7,7,7,7,8,8,5,6,7,8,8,8,8,6,9,8,6,8,8,8,4,9,9,7,8,5,8,8,8,7,6,6,7,7,8,7,9,8,8,6,8,7,7,7,7,7,7,6,7,6,7,8,5,7,7,7,8,7,8,6,8,9,7,8,6,7,8,7,8,8,9,6,7,7,8,8,6,6,8,6,8,8,8,7,6,7,7,8,7,8,6,6,6,8,8,8,7,6,7,7,7,7,6,8,9,7,7,8,8,7,8,8,8,8,8,8,6,8,7,7,8,8,7,7,7,9,8,6,8,8,7,7,7,8,8,7,8,5,8,8,9,8,8,7,8,8,7,8,7,9,8,8,7,9,6,8,8,8,7,8,6,5,7,8,8,8,8,7,9,7,8,1,8,8,8,8,7,7,8,7,7,8,7,8,6,8,8,8,8,7,7,8,8,9,7,7,8,8,8,7,8,8,7,8,7,8,8,6,8,9,8,8,6,9,8,8,7,7,7,7,8,9,8,8,7,8,8,8,8,8,9,9,8,8,6,7,6,6,8,7,7,8,8,8,7,8,7,8,8,8,7,7,8,7,9,7,6,7,7,8,8,8,8,9,8,8,6,8,8,7,9,9,9,7,7,7,7,7,7,7,9,8,8,9,7,5,7,8,8,5,8,7,8,8,7,8,7,7,6,8,9,8,7,7,7,8,8,7,7,6,7,8,7,7,7,7,7,8,7,8,8,7,8,8,10,7,5,8,7,8,8,7,6,8,9,8,7,7,6,8,7,7,8,7,7,9,9,7,8,8,9,9,5,6,7,8,9,7,7,5,5,6,7,7,7,6,6,7,7,7,7,8,9,8,6,7,8,9,7,9,7,7,8,7,7,7,8,9,7,7,7,8,7,7,8,9,7,7,7,7,7,5,6,6,7,7,7,6,5,7,6,7,8,7,7,8,6,7,7,7,7,7,7,8,7,7,7,7,7,6,9,8,7,7,7,8,8,7,7,6,7,6,8,8,7,8,8,7,8,8,9,8,8,7,8,8,8,7,7,8,8,10,8,8,7,7,8,8,8,8,8,8,8,9,7,6,8,8,8,7,8,7,6,7,7,8,7,8,8,7,7,8,7,8,7,6,7,8,7,9,10,7,7,8,7,8,7,8,7,7,8,8,9,7,8,8,8,9,9,9,9,9,9,8,7,8,8,8,8,7,8,8,7,8,8,9,8,9,9,8,8,8,7,9,8,5,6,7,7,8,7,8,8,7,5,7,7,7,8,6,7,7,7,7,8,7,7,8,8,8,7,7,7,8,6,7,7,8,8,8,9,7,8,7,9,8,8,8,8,8,6,7,7,8,7,8,10,8,8,9,9,6,8,8,8,7,7,9,10,9,8,7,7,9,9,8,7,8,7,9,9,8,8,8,8,6,10,7,9,9,8,8,5,8,9,10,8,7,7,7,8,8,7,6,7,7,8,9,7,8,8,7,8,8,9,8,8,8,8,7,8,8,9,8,8,10,7,9,8,8,7,8,7,8,9,7,8,6,8,9,9,8,4,7,7,6,3,8,8,8,9,7,6,8,9,5,6,8,8,9,6,8,9,8,9,7,8,8,8,5,8,9,8,9,9,8,8,6,8,7,7,7,9,8,8,8,9,8,8,8,8,7,8,8,7,4,6,8,7,8,8,8,9,8,7,8,8,7,8,9,7,6,7,7,7,8,8,7,7,7,8,7,9,8,8,8,6,6,7,7,7,9,7,8,9,9,8,9,9,7,10,10,9,8,7,8],\"xaxis\":\"x\",\"yaxis\":\"y\",\"type\":\"histogram\"}],                        {\"template\":{\"data\":{\"bar\":[{\"error_x\":{\"color\":\"#2a3f5f\"},\"error_y\":{\"color\":\"#2a3f5f\"},\"marker\":{\"line\":{\"color\":\"#E5ECF6\",\"width\":0.5},\"pattern\":{\"fillmode\":\"overlay\",\"size\":10,\"solidity\":0.2}},\"type\":\"bar\"}],\"barpolar\":[{\"marker\":{\"line\":{\"color\":\"#E5ECF6\",\"width\":0.5},\"pattern\":{\"fillmode\":\"overlay\",\"size\":10,\"solidity\":0.2}},\"type\":\"barpolar\"}],\"carpet\":[{\"aaxis\":{\"endlinecolor\":\"#2a3f5f\",\"gridcolor\":\"white\",\"linecolor\":\"white\",\"minorgridcolor\":\"white\",\"startlinecolor\":\"#2a3f5f\"},\"baxis\":{\"endlinecolor\":\"#2a3f5f\",\"gridcolor\":\"white\",\"linecolor\":\"white\",\"minorgridcolor\":\"white\",\"startlinecolor\":\"#2a3f5f\"},\"type\":\"carpet\"}],\"choropleth\":[{\"colorbar\":{\"outlinewidth\":0,\"ticks\":\"\"},\"type\":\"choropleth\"}],\"contour\":[{\"colorbar\":{\"outlinewidth\":0,\"ticks\":\"\"},\"colorscale\":[[0.0,\"#0d0887\"],[0.1111111111111111,\"#46039f\"],[0.2222222222222222,\"#7201a8\"],[0.3333333333333333,\"#9c179e\"],[0.4444444444444444,\"#bd3786\"],[0.5555555555555556,\"#d8576b\"],[0.6666666666666666,\"#ed7953\"],[0.7777777777777778,\"#fb9f3a\"],[0.8888888888888888,\"#fdca26\"],[1.0,\"#f0f921\"]],\"type\":\"contour\"}],\"contourcarpet\":[{\"colorbar\":{\"outlinewidth\":0,\"ticks\":\"\"},\"type\":\"contourcarpet\"}],\"heatmap\":[{\"colorbar\":{\"outlinewidth\":0,\"ticks\":\"\"},\"colorscale\":[[0.0,\"#0d0887\"],[0.1111111111111111,\"#46039f\"],[0.2222222222222222,\"#7201a8\"],[0.3333333333333333,\"#9c179e\"],[0.4444444444444444,\"#bd3786\"],[0.5555555555555556,\"#d8576b\"],[0.6666666666666666,\"#ed7953\"],[0.7777777777777778,\"#fb9f3a\"],[0.8888888888888888,\"#fdca26\"],[1.0,\"#f0f921\"]],\"type\":\"heatmap\"}],\"heatmapgl\":[{\"colorbar\":{\"outlinewidth\":0,\"ticks\":\"\"},\"colorscale\":[[0.0,\"#0d0887\"],[0.1111111111111111,\"#46039f\"],[0.2222222222222222,\"#7201a8\"],[0.3333333333333333,\"#9c179e\"],[0.4444444444444444,\"#bd3786\"],[0.5555555555555556,\"#d8576b\"],[0.6666666666666666,\"#ed7953\"],[0.7777777777777778,\"#fb9f3a\"],[0.8888888888888888,\"#fdca26\"],[1.0,\"#f0f921\"]],\"type\":\"heatmapgl\"}],\"histogram\":[{\"marker\":{\"pattern\":{\"fillmode\":\"overlay\",\"size\":10,\"solidity\":0.2}},\"type\":\"histogram\"}],\"histogram2d\":[{\"colorbar\":{\"outlinewidth\":0,\"ticks\":\"\"},\"colorscale\":[[0.0,\"#0d0887\"],[0.1111111111111111,\"#46039f\"],[0.2222222222222222,\"#7201a8\"],[0.3333333333333333,\"#9c179e\"],[0.4444444444444444,\"#bd3786\"],[0.5555555555555556,\"#d8576b\"],[0.6666666666666666,\"#ed7953\"],[0.7777777777777778,\"#fb9f3a\"],[0.8888888888888888,\"#fdca26\"],[1.0,\"#f0f921\"]],\"type\":\"histogram2d\"}],\"histogram2dcontour\":[{\"colorbar\":{\"outlinewidth\":0,\"ticks\":\"\"},\"colorscale\":[[0.0,\"#0d0887\"],[0.1111111111111111,\"#46039f\"],[0.2222222222222222,\"#7201a8\"],[0.3333333333333333,\"#9c179e\"],[0.4444444444444444,\"#bd3786\"],[0.5555555555555556,\"#d8576b\"],[0.6666666666666666,\"#ed7953\"],[0.7777777777777778,\"#fb9f3a\"],[0.8888888888888888,\"#fdca26\"],[1.0,\"#f0f921\"]],\"type\":\"histogram2dcontour\"}],\"mesh3d\":[{\"colorbar\":{\"outlinewidth\":0,\"ticks\":\"\"},\"type\":\"mesh3d\"}],\"parcoords\":[{\"line\":{\"colorbar\":{\"outlinewidth\":0,\"ticks\":\"\"}},\"type\":\"parcoords\"}],\"pie\":[{\"automargin\":true,\"type\":\"pie\"}],\"scatter\":[{\"marker\":{\"colorbar\":{\"outlinewidth\":0,\"ticks\":\"\"}},\"type\":\"scatter\"}],\"scatter3d\":[{\"line\":{\"colorbar\":{\"outlinewidth\":0,\"ticks\":\"\"}},\"marker\":{\"colorbar\":{\"outlinewidth\":0,\"ticks\":\"\"}},\"type\":\"scatter3d\"}],\"scattercarpet\":[{\"marker\":{\"colorbar\":{\"outlinewidth\":0,\"ticks\":\"\"}},\"type\":\"scattercarpet\"}],\"scattergeo\":[{\"marker\":{\"colorbar\":{\"outlinewidth\":0,\"ticks\":\"\"}},\"type\":\"scattergeo\"}],\"scattergl\":[{\"marker\":{\"colorbar\":{\"outlinewidth\":0,\"ticks\":\"\"}},\"type\":\"scattergl\"}],\"scattermapbox\":[{\"marker\":{\"colorbar\":{\"outlinewidth\":0,\"ticks\":\"\"}},\"type\":\"scattermapbox\"}],\"scatterpolar\":[{\"marker\":{\"colorbar\":{\"outlinewidth\":0,\"ticks\":\"\"}},\"type\":\"scatterpolar\"}],\"scatterpolargl\":[{\"marker\":{\"colorbar\":{\"outlinewidth\":0,\"ticks\":\"\"}},\"type\":\"scatterpolargl\"}],\"scatterternary\":[{\"marker\":{\"colorbar\":{\"outlinewidth\":0,\"ticks\":\"\"}},\"type\":\"scatterternary\"}],\"surface\":[{\"colorbar\":{\"outlinewidth\":0,\"ticks\":\"\"},\"colorscale\":[[0.0,\"#0d0887\"],[0.1111111111111111,\"#46039f\"],[0.2222222222222222,\"#7201a8\"],[0.3333333333333333,\"#9c179e\"],[0.4444444444444444,\"#bd3786\"],[0.5555555555555556,\"#d8576b\"],[0.6666666666666666,\"#ed7953\"],[0.7777777777777778,\"#fb9f3a\"],[0.8888888888888888,\"#fdca26\"],[1.0,\"#f0f921\"]],\"type\":\"surface\"}],\"table\":[{\"cells\":{\"fill\":{\"color\":\"#EBF0F8\"},\"line\":{\"color\":\"white\"}},\"header\":{\"fill\":{\"color\":\"#C8D4E3\"},\"line\":{\"color\":\"white\"}},\"type\":\"table\"}]},\"layout\":{\"annotationdefaults\":{\"arrowcolor\":\"#2a3f5f\",\"arrowhead\":0,\"arrowwidth\":1},\"autotypenumbers\":\"strict\",\"coloraxis\":{\"colorbar\":{\"outlinewidth\":0,\"ticks\":\"\"}},\"colorscale\":{\"diverging\":[[0,\"#8e0152\"],[0.1,\"#c51b7d\"],[0.2,\"#de77ae\"],[0.3,\"#f1b6da\"],[0.4,\"#fde0ef\"],[0.5,\"#f7f7f7\"],[0.6,\"#e6f5d0\"],[0.7,\"#b8e186\"],[0.8,\"#7fbc41\"],[0.9,\"#4d9221\"],[1,\"#276419\"]],\"sequential\":[[0.0,\"#0d0887\"],[0.1111111111111111,\"#46039f\"],[0.2222222222222222,\"#7201a8\"],[0.3333333333333333,\"#9c179e\"],[0.4444444444444444,\"#bd3786\"],[0.5555555555555556,\"#d8576b\"],[0.6666666666666666,\"#ed7953\"],[0.7777777777777778,\"#fb9f3a\"],[0.8888888888888888,\"#fdca26\"],[1.0,\"#f0f921\"]],\"sequentialminus\":[[0.0,\"#0d0887\"],[0.1111111111111111,\"#46039f\"],[0.2222222222222222,\"#7201a8\"],[0.3333333333333333,\"#9c179e\"],[0.4444444444444444,\"#bd3786\"],[0.5555555555555556,\"#d8576b\"],[0.6666666666666666,\"#ed7953\"],[0.7777777777777778,\"#fb9f3a\"],[0.8888888888888888,\"#fdca26\"],[1.0,\"#f0f921\"]]},\"colorway\":[\"#636efa\",\"#EF553B\",\"#00cc96\",\"#ab63fa\",\"#FFA15A\",\"#19d3f3\",\"#FF6692\",\"#B6E880\",\"#FF97FF\",\"#FECB52\"],\"font\":{\"color\":\"#2a3f5f\"},\"geo\":{\"bgcolor\":\"white\",\"lakecolor\":\"white\",\"landcolor\":\"#E5ECF6\",\"showlakes\":true,\"showland\":true,\"subunitcolor\":\"white\"},\"hoverlabel\":{\"align\":\"left\"},\"hovermode\":\"closest\",\"mapbox\":{\"style\":\"light\"},\"paper_bgcolor\":\"white\",\"plot_bgcolor\":\"#E5ECF6\",\"polar\":{\"angularaxis\":{\"gridcolor\":\"white\",\"linecolor\":\"white\",\"ticks\":\"\"},\"bgcolor\":\"#E5ECF6\",\"radialaxis\":{\"gridcolor\":\"white\",\"linecolor\":\"white\",\"ticks\":\"\"}},\"scene\":{\"xaxis\":{\"backgroundcolor\":\"#E5ECF6\",\"gridcolor\":\"white\",\"gridwidth\":2,\"linecolor\":\"white\",\"showbackground\":true,\"ticks\":\"\",\"zerolinecolor\":\"white\"},\"yaxis\":{\"backgroundcolor\":\"#E5ECF6\",\"gridcolor\":\"white\",\"gridwidth\":2,\"linecolor\":\"white\",\"showbackground\":true,\"ticks\":\"\",\"zerolinecolor\":\"white\"},\"zaxis\":{\"backgroundcolor\":\"#E5ECF6\",\"gridcolor\":\"white\",\"gridwidth\":2,\"linecolor\":\"white\",\"showbackground\":true,\"ticks\":\"\",\"zerolinecolor\":\"white\"}},\"shapedefaults\":{\"line\":{\"color\":\"#2a3f5f\"}},\"ternary\":{\"aaxis\":{\"gridcolor\":\"white\",\"linecolor\":\"white\",\"ticks\":\"\"},\"baxis\":{\"gridcolor\":\"white\",\"linecolor\":\"white\",\"ticks\":\"\"},\"bgcolor\":\"#E5ECF6\",\"caxis\":{\"gridcolor\":\"white\",\"linecolor\":\"white\",\"ticks\":\"\"}},\"title\":{\"x\":0.05},\"xaxis\":{\"automargin\":true,\"gridcolor\":\"white\",\"linecolor\":\"white\",\"ticks\":\"\",\"title\":{\"standoff\":15},\"zerolinecolor\":\"white\",\"zerolinewidth\":2},\"yaxis\":{\"automargin\":true,\"gridcolor\":\"white\",\"linecolor\":\"white\",\"ticks\":\"\",\"title\":{\"standoff\":15},\"zerolinecolor\":\"white\",\"zerolinewidth\":2}}},\"xaxis\":{\"anchor\":\"y\",\"domain\":[0.0,1.0],\"title\":{\"text\":\"Your Rating\"}},\"yaxis\":{\"anchor\":\"x\",\"domain\":[0.0,1.0],\"title\":{\"text\":\"count\"}},\"legend\":{\"tracegroupgap\":0},\"title\":{\"text\":\"Rating Distribution\"},\"barmode\":\"relative\"},                        {\"responsive\": true}                    ).then(function(){\n",
       "                            \n",
       "var gd = document.getElementById('88991afb-c0ce-4a40-a692-3a0bf2f69646');\n",
       "var x = new MutationObserver(function (mutations, observer) {{\n",
       "        var display = window.getComputedStyle(gd).display;\n",
       "        if (!display || display === 'none') {{\n",
       "            console.log([gd, 'removed!']);\n",
       "            Plotly.purge(gd);\n",
       "            observer.disconnect();\n",
       "        }}\n",
       "}});\n",
       "\n",
       "// Listen for the removal of the full notebook cells\n",
       "var notebookContainer = gd.closest('#notebook-container');\n",
       "if (notebookContainer) {{\n",
       "    x.observe(notebookContainer, {childList: true});\n",
       "}}\n",
       "\n",
       "// Listen for the clearing of the current output cell\n",
       "var outputEl = gd.closest('.output');\n",
       "if (outputEl) {{\n",
       "    x.observe(outputEl, {childList: true});\n",
       "}}\n",
       "\n",
       "                        })                };                });            </script>        </div>"
      ]
     },
     "metadata": {},
     "output_type": "display_data"
    }
   ],
   "source": [
    "\n",
    "fig = px.histogram(df, x='Your Rating', nbins=10, title='Rating Distribution')\n",
    "fig.show()"
   ]
  },
  {
   "cell_type": "code",
   "execution_count": 6,
   "id": "0f2388dd-06db-498a-9d84-5405dfa0337d",
   "metadata": {},
   "outputs": [
    {
     "data": {
      "application/vnd.plotly.v1+json": {
       "config": {
        "plotlyServerURL": "https://plot.ly"
       },
       "data": [
        {
         "hovertemplate": "Date Rated=%{x}<br>Your Rating=%{y}<extra></extra>",
         "legendgroup": "",
         "line": {
          "color": "#636efa",
          "dash": "solid"
         },
         "marker": {
          "symbol": "circle"
         },
         "mode": "lines+markers",
         "name": "",
         "orientation": "v",
         "showlegend": false,
         "type": "scatter",
         "x": [
          "2024-07-24T00:00:00",
          "2024-07-23T00:00:00",
          "2024-07-15T00:00:00",
          "2024-06-23T00:00:00",
          "2024-06-21T00:00:00",
          "2024-06-01T00:00:00",
          "2024-05-26T00:00:00",
          "2024-05-25T00:00:00",
          "2024-05-24T00:00:00",
          "2024-05-20T00:00:00",
          "2024-05-03T00:00:00",
          "2024-04-28T00:00:00",
          "2024-04-23T00:00:00",
          "2024-04-22T00:00:00",
          "2024-04-18T00:00:00",
          "2024-04-15T00:00:00",
          "2024-04-14T00:00:00",
          "2024-04-13T00:00:00",
          "2024-04-07T00:00:00",
          "2024-04-06T00:00:00",
          "2024-04-06T00:00:00",
          "2024-04-03T00:00:00",
          "2024-04-02T00:00:00",
          "2024-04-02T00:00:00",
          "2024-03-27T00:00:00",
          "2024-03-21T00:00:00",
          "2024-03-18T00:00:00",
          "2024-03-08T00:00:00",
          "2024-03-07T00:00:00",
          "2024-03-02T00:00:00",
          "2024-03-01T00:00:00",
          "2024-02-29T00:00:00",
          "2024-02-29T00:00:00",
          "2024-02-23T00:00:00",
          "2024-02-18T00:00:00",
          "2024-02-14T00:00:00",
          "2024-02-14T00:00:00",
          "2024-02-07T00:00:00",
          "2024-02-07T00:00:00",
          "2024-01-21T00:00:00",
          "2024-01-12T00:00:00",
          "2024-01-05T00:00:00",
          "2024-01-03T00:00:00",
          "2023-12-31T00:00:00",
          "2023-12-29T00:00:00",
          "2023-12-28T00:00:00",
          "2023-12-28T00:00:00",
          "2023-12-23T00:00:00",
          "2023-12-23T00:00:00",
          "2023-12-22T00:00:00",
          "2023-12-22T00:00:00",
          "2023-12-22T00:00:00",
          "2023-12-16T00:00:00",
          "2023-12-14T00:00:00",
          "2023-12-14T00:00:00",
          "2023-12-14T00:00:00",
          "2023-12-14T00:00:00",
          "2023-12-11T00:00:00",
          "2023-12-10T00:00:00",
          "2023-12-05T00:00:00",
          "2023-12-05T00:00:00",
          "2023-12-02T00:00:00",
          "2023-12-02T00:00:00",
          "2023-12-01T00:00:00",
          "2023-11-19T00:00:00",
          "2023-11-16T00:00:00",
          "2023-10-22T00:00:00",
          "2023-10-21T00:00:00",
          "2023-10-21T00:00:00",
          "2023-10-16T00:00:00",
          "2023-10-13T00:00:00",
          "2023-10-06T00:00:00",
          "2023-10-06T00:00:00",
          "2023-10-01T00:00:00",
          "2023-09-30T00:00:00",
          "2023-09-29T00:00:00",
          "2023-09-28T00:00:00",
          "2023-09-22T00:00:00",
          "2023-09-20T00:00:00",
          "2023-09-15T00:00:00",
          "2023-09-11T00:00:00",
          "2023-09-09T00:00:00",
          "2023-09-09T00:00:00",
          "2023-09-09T00:00:00",
          "2023-09-06T00:00:00",
          "2023-09-05T00:00:00",
          "2023-09-04T00:00:00",
          "2023-09-02T00:00:00",
          "2023-08-31T00:00:00",
          "2023-08-29T00:00:00",
          "2023-08-29T00:00:00",
          "2023-08-28T00:00:00",
          "2023-08-27T00:00:00",
          "2023-08-26T00:00:00",
          "2023-08-20T00:00:00",
          "2023-08-16T00:00:00",
          "2023-08-12T00:00:00",
          "2023-08-05T00:00:00",
          "2023-08-05T00:00:00",
          "2023-08-02T00:00:00",
          "2023-07-23T00:00:00",
          "2023-07-21T00:00:00",
          "2023-07-20T00:00:00",
          "2023-07-20T00:00:00",
          "2023-07-10T00:00:00",
          "2023-07-07T00:00:00",
          "2023-07-07T00:00:00",
          "2023-06-25T00:00:00",
          "2023-06-21T00:00:00",
          "2023-06-18T00:00:00",
          "2023-06-15T00:00:00",
          "2023-06-11T00:00:00",
          "2023-06-11T00:00:00",
          "2023-06-03T00:00:00",
          "2023-06-01T00:00:00",
          "2023-05-27T00:00:00",
          "2023-05-26T00:00:00",
          "2023-05-14T00:00:00",
          "2023-05-14T00:00:00",
          "2023-05-14T00:00:00",
          "2023-05-08T00:00:00",
          "2023-05-06T00:00:00",
          "2023-05-03T00:00:00",
          "2023-04-28T00:00:00",
          "2023-04-26T00:00:00",
          "2023-04-18T00:00:00",
          "2023-04-16T00:00:00",
          "2023-04-14T00:00:00",
          "2023-04-07T00:00:00",
          "2023-04-07T00:00:00",
          "2023-04-06T00:00:00",
          "2023-04-01T00:00:00",
          "2023-03-31T00:00:00",
          "2023-03-30T00:00:00",
          "2023-03-24T00:00:00",
          "2023-03-23T00:00:00",
          "2023-03-21T00:00:00",
          "2023-03-21T00:00:00",
          "2023-03-20T00:00:00",
          "2023-03-19T00:00:00",
          "2023-03-18T00:00:00",
          "2023-03-09T00:00:00",
          "2023-03-08T00:00:00",
          "2023-03-06T00:00:00",
          "2023-03-05T00:00:00",
          "2023-03-01T00:00:00",
          "2023-02-27T00:00:00",
          "2023-02-26T00:00:00",
          "2023-02-24T00:00:00",
          "2023-02-23T00:00:00",
          "2023-02-18T00:00:00",
          "2023-02-17T00:00:00",
          "2023-02-08T00:00:00",
          "2023-02-06T00:00:00",
          "2023-02-05T00:00:00",
          "2023-02-05T00:00:00",
          "2023-01-27T00:00:00",
          "2023-01-27T00:00:00",
          "2023-01-27T00:00:00",
          "2023-01-23T00:00:00",
          "2023-01-20T00:00:00",
          "2023-01-18T00:00:00",
          "2023-01-18T00:00:00",
          "2023-01-17T00:00:00",
          "2023-01-17T00:00:00",
          "2023-01-14T00:00:00",
          "2023-01-11T00:00:00",
          "2023-01-02T00:00:00",
          "2022-12-25T00:00:00",
          "2022-12-20T00:00:00",
          "2022-12-19T00:00:00",
          "2022-12-19T00:00:00",
          "2022-12-15T00:00:00",
          "2022-12-11T00:00:00",
          "2022-12-09T00:00:00",
          "2022-12-07T00:00:00",
          "2022-12-04T00:00:00",
          "2022-12-04T00:00:00",
          "2022-11-26T00:00:00",
          "2022-11-26T00:00:00",
          "2022-11-17T00:00:00",
          "2022-11-13T00:00:00",
          "2022-11-11T00:00:00",
          "2022-11-09T00:00:00",
          "2022-11-09T00:00:00",
          "2022-11-08T00:00:00",
          "2022-11-07T00:00:00",
          "2022-11-05T00:00:00",
          "2022-10-28T00:00:00",
          "2022-10-24T00:00:00",
          "2022-10-24T00:00:00",
          "2022-10-24T00:00:00",
          "2022-10-24T00:00:00",
          "2022-10-22T00:00:00",
          "2022-10-21T00:00:00",
          "2022-10-15T00:00:00",
          "2022-10-12T00:00:00",
          "2022-10-10T00:00:00",
          "2022-10-02T00:00:00",
          "2022-10-02T00:00:00",
          "2022-09-23T00:00:00",
          "2022-09-22T00:00:00",
          "2022-08-25T00:00:00",
          "2022-08-22T00:00:00",
          "2022-08-19T00:00:00",
          "2022-08-19T00:00:00",
          "2022-08-04T00:00:00",
          "2022-08-03T00:00:00",
          "2022-07-23T00:00:00",
          "2022-07-21T00:00:00",
          "2022-07-20T00:00:00",
          "2022-07-15T00:00:00",
          "2022-07-14T00:00:00",
          "2022-07-10T00:00:00",
          "2022-07-07T00:00:00",
          "2022-07-02T00:00:00",
          "2022-06-18T00:00:00",
          "2022-06-18T00:00:00",
          "2022-06-13T00:00:00",
          "2022-06-07T00:00:00",
          "2022-05-29T00:00:00",
          "2022-05-12T00:00:00",
          "2022-04-23T00:00:00",
          "2022-04-19T00:00:00",
          "2022-04-13T00:00:00",
          "2022-04-12T00:00:00",
          "2022-04-11T00:00:00",
          "2022-03-30T00:00:00",
          "2022-03-27T00:00:00",
          "2022-03-25T00:00:00",
          "2022-03-24T00:00:00",
          "2022-03-24T00:00:00",
          "2022-03-21T00:00:00",
          "2022-03-21T00:00:00",
          "2022-03-21T00:00:00",
          "2022-03-14T00:00:00",
          "2022-03-06T00:00:00",
          "2022-03-04T00:00:00",
          "2022-03-03T00:00:00",
          "2022-02-27T00:00:00",
          "2022-02-27T00:00:00",
          "2022-02-27T00:00:00",
          "2022-02-24T00:00:00",
          "2022-02-24T00:00:00",
          "2022-02-16T00:00:00",
          "2022-01-18T00:00:00",
          "2022-01-15T00:00:00",
          "2022-01-14T00:00:00",
          "2021-12-28T00:00:00",
          "2021-12-17T00:00:00",
          "2021-12-02T00:00:00",
          "2021-11-26T00:00:00",
          "2021-11-19T00:00:00",
          "2021-11-19T00:00:00",
          "2021-11-19T00:00:00",
          "2021-11-19T00:00:00",
          "2021-11-09T00:00:00",
          "2021-11-07T00:00:00",
          "2021-10-16T00:00:00",
          "2021-10-08T00:00:00",
          "2021-10-01T00:00:00",
          "2021-09-20T00:00:00",
          "2021-09-14T00:00:00",
          "2021-09-13T00:00:00",
          "2021-08-30T00:00:00",
          "2021-08-23T00:00:00",
          "2021-08-21T00:00:00",
          "2021-08-18T00:00:00",
          "2021-08-15T00:00:00",
          "2021-08-14T00:00:00",
          "2021-08-13T00:00:00",
          "2021-08-12T00:00:00",
          "2021-08-10T00:00:00",
          "2021-08-09T00:00:00",
          "2021-08-07T00:00:00",
          "2021-08-06T00:00:00",
          "2021-08-04T00:00:00",
          "2021-08-02T00:00:00",
          "2021-07-30T00:00:00",
          "2021-07-29T00:00:00",
          "2021-07-29T00:00:00",
          "2021-07-22T00:00:00",
          "2021-07-19T00:00:00",
          "2021-07-18T00:00:00",
          "2021-07-14T00:00:00",
          "2021-07-13T00:00:00",
          "2021-07-09T00:00:00",
          "2021-07-08T00:00:00",
          "2021-06-23T00:00:00",
          "2021-06-19T00:00:00",
          "2021-06-18T00:00:00",
          "2021-06-17T00:00:00",
          "2021-06-17T00:00:00",
          "2021-06-16T00:00:00",
          "2021-06-14T00:00:00",
          "2021-06-08T00:00:00",
          "2021-06-05T00:00:00",
          "2021-06-05T00:00:00",
          "2021-06-05T00:00:00",
          "2021-06-04T00:00:00",
          "2021-06-04T00:00:00",
          "2021-06-02T00:00:00",
          "2021-05-31T00:00:00",
          "2021-05-31T00:00:00",
          "2021-05-30T00:00:00",
          "2021-05-30T00:00:00",
          "2021-05-30T00:00:00",
          "2021-05-29T00:00:00",
          "2021-05-27T00:00:00",
          "2021-05-26T00:00:00",
          "2021-05-22T00:00:00",
          "2021-05-20T00:00:00",
          "2021-05-20T00:00:00",
          "2021-05-14T00:00:00",
          "2021-05-13T00:00:00",
          "2021-05-08T00:00:00",
          "2021-05-07T00:00:00",
          "2021-05-04T00:00:00",
          "2021-04-30T00:00:00",
          "2021-04-26T00:00:00",
          "2021-04-23T00:00:00",
          "2021-04-23T00:00:00",
          "2021-04-23T00:00:00",
          "2021-04-10T00:00:00",
          "2021-04-01T00:00:00",
          "2021-04-01T00:00:00",
          "2021-03-30T00:00:00",
          "2021-03-27T00:00:00",
          "2021-03-27T00:00:00",
          "2021-03-23T00:00:00",
          "2021-03-22T00:00:00",
          "2021-03-21T00:00:00",
          "2021-03-19T00:00:00",
          "2021-03-19T00:00:00",
          "2021-03-19T00:00:00",
          "2021-03-11T00:00:00",
          "2021-03-09T00:00:00",
          "2021-03-01T00:00:00",
          "2021-02-18T00:00:00",
          "2021-02-14T00:00:00",
          "2021-02-09T00:00:00",
          "2021-02-05T00:00:00",
          "2021-02-04T00:00:00",
          "2021-02-02T00:00:00",
          "2021-02-02T00:00:00",
          "2021-02-02T00:00:00",
          "2021-01-31T00:00:00",
          "2021-01-28T00:00:00",
          "2021-01-28T00:00:00",
          "2021-01-19T00:00:00",
          "2020-12-30T00:00:00",
          "2020-12-29T00:00:00",
          "2020-12-28T00:00:00",
          "2020-12-28T00:00:00",
          "2020-12-27T00:00:00",
          "2020-12-25T00:00:00",
          "2020-12-25T00:00:00",
          "2020-12-22T00:00:00",
          "2020-12-18T00:00:00",
          "2020-12-09T00:00:00",
          "2020-12-05T00:00:00",
          "2020-12-03T00:00:00",
          "2020-11-28T00:00:00",
          "2020-11-26T00:00:00",
          "2020-11-17T00:00:00",
          "2020-11-17T00:00:00",
          "2020-11-14T00:00:00",
          "2020-11-13T00:00:00",
          "2020-11-08T00:00:00",
          "2020-11-08T00:00:00",
          "2020-11-06T00:00:00",
          "2020-11-02T00:00:00",
          "2020-11-02T00:00:00",
          "2020-10-20T00:00:00",
          "2020-10-16T00:00:00",
          "2020-10-13T00:00:00",
          "2020-10-12T00:00:00",
          "2020-10-09T00:00:00",
          "2020-10-09T00:00:00",
          "2020-10-08T00:00:00",
          "2020-10-08T00:00:00",
          "2020-10-06T00:00:00",
          "2020-10-01T00:00:00",
          "2020-09-25T00:00:00",
          "2020-09-23T00:00:00",
          "2020-09-19T00:00:00",
          "2020-09-12T00:00:00",
          "2020-09-11T00:00:00",
          "2020-09-11T00:00:00",
          "2020-09-07T00:00:00",
          "2020-09-01T00:00:00",
          "2020-09-01T00:00:00",
          "2020-08-31T00:00:00",
          "2020-08-29T00:00:00",
          "2020-08-23T00:00:00",
          "2020-08-22T00:00:00",
          "2020-08-21T00:00:00",
          "2020-08-21T00:00:00",
          "2020-08-15T00:00:00",
          "2020-08-13T00:00:00",
          "2020-08-11T00:00:00",
          "2020-08-08T00:00:00",
          "2020-08-05T00:00:00",
          "2020-08-01T00:00:00",
          "2020-07-26T00:00:00",
          "2020-07-26T00:00:00",
          "2020-07-25T00:00:00",
          "2020-07-25T00:00:00",
          "2020-07-25T00:00:00",
          "2020-07-24T00:00:00",
          "2020-07-20T00:00:00",
          "2020-07-20T00:00:00",
          "2020-07-20T00:00:00",
          "2020-07-19T00:00:00",
          "2020-07-19T00:00:00",
          "2020-07-18T00:00:00",
          "2020-07-15T00:00:00",
          "2020-07-14T00:00:00",
          "2020-07-14T00:00:00",
          "2020-07-14T00:00:00",
          "2020-07-12T00:00:00",
          "2020-07-12T00:00:00",
          "2020-07-09T00:00:00",
          "2020-07-08T00:00:00",
          "2020-07-05T00:00:00",
          "2020-07-05T00:00:00",
          "2020-06-27T00:00:00",
          "2020-06-25T00:00:00",
          "2020-06-23T00:00:00",
          "2020-06-23T00:00:00",
          "2020-06-23T00:00:00",
          "2020-06-18T00:00:00",
          "2020-06-18T00:00:00",
          "2020-06-18T00:00:00",
          "2020-06-16T00:00:00",
          "2020-06-16T00:00:00",
          "2020-06-15T00:00:00",
          "2020-06-14T00:00:00",
          "2020-06-13T00:00:00",
          "2020-06-12T00:00:00",
          "2020-06-05T00:00:00",
          "2020-06-03T00:00:00",
          "2020-06-03T00:00:00",
          "2020-06-03T00:00:00",
          "2020-06-02T00:00:00",
          "2020-06-02T00:00:00",
          "2020-05-28T00:00:00",
          "2020-05-28T00:00:00",
          "2020-05-27T00:00:00",
          "2020-05-27T00:00:00",
          "2020-05-25T00:00:00",
          "2020-05-24T00:00:00",
          "2020-05-24T00:00:00",
          "2020-05-17T00:00:00",
          "2020-05-11T00:00:00",
          "2020-05-07T00:00:00",
          "2020-05-06T00:00:00",
          "2020-05-06T00:00:00",
          "2020-05-03T00:00:00",
          "2020-05-02T00:00:00",
          "2020-05-01T00:00:00",
          "2020-04-30T00:00:00",
          "2020-04-29T00:00:00",
          "2020-04-27T00:00:00",
          "2020-04-27T00:00:00",
          "2020-04-27T00:00:00",
          "2020-04-26T00:00:00",
          "2020-04-26T00:00:00",
          "2020-04-24T00:00:00",
          "2020-04-23T00:00:00",
          "2020-04-21T00:00:00",
          "2020-04-20T00:00:00",
          "2020-04-20T00:00:00",
          "2020-04-18T00:00:00",
          "2020-04-18T00:00:00",
          "2020-04-17T00:00:00",
          "2020-04-16T00:00:00",
          "2020-04-16T00:00:00",
          "2020-04-14T00:00:00",
          "2020-04-09T00:00:00",
          "2020-04-09T00:00:00",
          "2020-04-08T00:00:00",
          "2020-04-03T00:00:00",
          "2020-03-31T00:00:00",
          "2020-03-26T00:00:00",
          "2020-03-22T00:00:00",
          "2020-03-19T00:00:00",
          "2020-03-18T00:00:00",
          "2020-03-18T00:00:00",
          "2020-03-18T00:00:00",
          "2020-03-11T00:00:00",
          "2020-03-11T00:00:00",
          "2020-03-09T00:00:00",
          "2020-03-08T00:00:00",
          "2020-03-07T00:00:00",
          "2020-03-04T00:00:00",
          "2020-03-04T00:00:00",
          "2020-03-03T00:00:00",
          "2020-03-02T00:00:00",
          "2020-03-01T00:00:00",
          "2020-03-01T00:00:00",
          "2020-03-01T00:00:00",
          "2020-03-01T00:00:00",
          "2020-03-01T00:00:00",
          "2020-03-01T00:00:00",
          "2020-02-29T00:00:00",
          "2020-02-29T00:00:00",
          "2020-02-28T00:00:00",
          "2020-02-28T00:00:00",
          "2020-02-21T00:00:00",
          "2020-02-21T00:00:00",
          "2020-02-17T00:00:00",
          "2020-02-17T00:00:00",
          "2020-02-13T00:00:00",
          "2020-02-11T00:00:00",
          "2020-02-11T00:00:00",
          "2020-02-09T00:00:00",
          "2020-02-06T00:00:00",
          "2020-02-06T00:00:00",
          "2020-02-05T00:00:00",
          "2020-02-05T00:00:00",
          "2020-02-04T00:00:00",
          "2020-01-30T00:00:00",
          "2020-01-28T00:00:00",
          "2020-01-28T00:00:00",
          "2020-01-25T00:00:00",
          "2020-01-25T00:00:00",
          "2020-01-25T00:00:00",
          "2020-01-25T00:00:00",
          "2020-01-24T00:00:00",
          "2020-01-24T00:00:00",
          "2020-01-22T00:00:00",
          "2020-01-19T00:00:00",
          "2020-01-18T00:00:00",
          "2020-01-17T00:00:00",
          "2020-01-17T00:00:00",
          "2020-01-05T00:00:00",
          "2019-12-31T00:00:00",
          "2019-12-29T00:00:00",
          "2019-12-29T00:00:00",
          "2019-12-29T00:00:00",
          "2019-12-28T00:00:00",
          "2019-12-28T00:00:00",
          "2019-12-28T00:00:00",
          "2019-12-28T00:00:00",
          "2019-12-24T00:00:00",
          "2019-12-24T00:00:00",
          "2019-12-24T00:00:00",
          "2019-12-24T00:00:00",
          "2019-12-24T00:00:00",
          "2019-12-24T00:00:00",
          "2019-12-24T00:00:00",
          "2019-12-24T00:00:00",
          "2019-12-24T00:00:00",
          "2019-12-24T00:00:00",
          "2019-12-24T00:00:00",
          "2019-12-22T00:00:00",
          "2019-12-22T00:00:00",
          "2019-12-22T00:00:00",
          "2019-12-22T00:00:00",
          "2019-12-18T00:00:00",
          "2019-12-13T00:00:00",
          "2019-12-11T00:00:00",
          "2019-12-09T00:00:00",
          "2019-12-07T00:00:00",
          "2019-12-07T00:00:00",
          "2019-12-05T00:00:00",
          "2019-12-05T00:00:00",
          "2019-12-05T00:00:00",
          "2019-12-01T00:00:00",
          "2019-12-01T00:00:00",
          "2019-11-30T00:00:00",
          "2019-11-30T00:00:00",
          "2019-11-29T00:00:00",
          "2019-11-27T00:00:00",
          "2019-11-27T00:00:00",
          "2019-11-27T00:00:00",
          "2019-11-26T00:00:00",
          "2019-11-25T00:00:00",
          "2019-11-23T00:00:00",
          "2019-11-22T00:00:00",
          "2019-11-22T00:00:00",
          "2019-11-21T00:00:00",
          "2019-11-16T00:00:00",
          "2019-11-16T00:00:00",
          "2019-11-12T00:00:00",
          "2019-11-09T00:00:00",
          "2019-11-07T00:00:00",
          "2019-11-07T00:00:00",
          "2019-11-05T00:00:00",
          "2019-11-05T00:00:00",
          "2019-11-05T00:00:00",
          "2019-11-03T00:00:00",
          "2019-10-20T00:00:00",
          "2019-10-20T00:00:00",
          "2019-10-20T00:00:00",
          "2019-10-20T00:00:00",
          "2019-10-19T00:00:00",
          "2019-10-18T00:00:00",
          "2019-10-06T00:00:00",
          "2019-09-28T00:00:00",
          "2019-09-26T00:00:00",
          "2019-09-23T00:00:00",
          "2019-09-17T00:00:00",
          "2019-09-17T00:00:00",
          "2019-09-11T00:00:00",
          "2019-09-03T00:00:00",
          "2019-09-01T00:00:00",
          "2019-08-19T00:00:00",
          "2019-08-19T00:00:00",
          "2019-08-17T00:00:00",
          "2019-08-17T00:00:00",
          "2019-08-13T00:00:00",
          "2019-08-13T00:00:00",
          "2019-08-13T00:00:00",
          "2019-07-20T00:00:00",
          "2019-07-18T00:00:00",
          "2019-07-18T00:00:00",
          "2019-07-13T00:00:00",
          "2019-06-27T00:00:00",
          "2019-06-27T00:00:00",
          "2019-06-27T00:00:00",
          "2019-06-27T00:00:00",
          "2019-06-19T00:00:00",
          "2019-06-19T00:00:00",
          "2019-06-19T00:00:00",
          "2019-06-16T00:00:00",
          "2019-06-14T00:00:00",
          "2019-06-14T00:00:00",
          "2019-06-13T00:00:00",
          "2019-06-12T00:00:00",
          "2019-06-12T00:00:00",
          "2019-06-09T00:00:00",
          "2019-06-09T00:00:00",
          "2019-06-09T00:00:00",
          "2019-06-09T00:00:00",
          "2019-06-09T00:00:00",
          "2019-06-09T00:00:00",
          "2019-06-09T00:00:00",
          "2019-06-09T00:00:00",
          "2019-06-09T00:00:00",
          "2019-06-07T00:00:00",
          "2019-06-07T00:00:00",
          "2019-06-07T00:00:00",
          "2019-06-05T00:00:00",
          "2019-06-05T00:00:00",
          "2019-06-05T00:00:00",
          "2019-06-05T00:00:00",
          "2019-05-30T00:00:00",
          "2019-05-30T00:00:00",
          "2019-05-23T00:00:00",
          "2019-05-23T00:00:00",
          "2019-05-23T00:00:00",
          "2019-05-22T00:00:00",
          "2019-05-20T00:00:00",
          "2019-05-08T00:00:00",
          "2019-05-04T00:00:00",
          "2019-05-04T00:00:00",
          "2019-05-04T00:00:00",
          "2019-05-04T00:00:00",
          "2019-05-01T00:00:00",
          "2019-04-29T00:00:00",
          "2019-04-24T00:00:00",
          "2019-04-24T00:00:00",
          "2019-04-23T00:00:00",
          "2019-04-18T00:00:00",
          "2019-04-09T00:00:00",
          "2019-04-01T00:00:00",
          "2019-04-01T00:00:00",
          "2019-04-01T00:00:00",
          "2019-04-01T00:00:00",
          "2019-04-01T00:00:00",
          "2019-04-01T00:00:00",
          "2019-04-01T00:00:00",
          "2019-04-01T00:00:00",
          "2019-04-01T00:00:00",
          "2019-03-26T00:00:00",
          "2019-03-10T00:00:00",
          "2019-02-05T00:00:00",
          "2019-02-05T00:00:00",
          "2019-02-05T00:00:00",
          "2019-01-27T00:00:00",
          "2019-01-27T00:00:00",
          "2019-01-22T00:00:00",
          "2019-01-22T00:00:00",
          "2019-01-16T00:00:00",
          "2019-01-11T00:00:00",
          "2019-01-11T00:00:00",
          "2019-01-11T00:00:00",
          "2019-01-11T00:00:00",
          "2019-01-11T00:00:00",
          "2019-01-11T00:00:00",
          "2019-01-11T00:00:00",
          "2019-01-11T00:00:00",
          "2019-01-11T00:00:00",
          "2019-01-11T00:00:00",
          "2019-01-11T00:00:00",
          "2019-01-11T00:00:00",
          "2019-01-11T00:00:00",
          "2019-01-11T00:00:00",
          "2019-01-11T00:00:00",
          "2019-01-11T00:00:00",
          "2019-01-11T00:00:00",
          "2019-01-11T00:00:00",
          "2019-01-11T00:00:00",
          "2019-01-05T00:00:00",
          "2019-01-03T00:00:00",
          "2019-01-03T00:00:00",
          "2019-01-03T00:00:00",
          "2019-01-03T00:00:00",
          "2019-01-03T00:00:00",
          "2018-12-28T00:00:00",
          "2018-12-28T00:00:00",
          "2018-12-28T00:00:00",
          "2018-12-25T00:00:00",
          "2018-12-23T00:00:00",
          "2018-12-20T00:00:00",
          "2018-12-20T00:00:00",
          "2018-12-20T00:00:00",
          "2018-12-20T00:00:00",
          "2018-12-16T00:00:00",
          "2018-12-16T00:00:00",
          "2018-12-16T00:00:00",
          "2018-12-15T00:00:00",
          "2018-12-09T00:00:00",
          "2018-11-25T00:00:00",
          "2018-11-09T00:00:00",
          "2018-11-09T00:00:00",
          "2018-11-08T00:00:00",
          "2018-11-08T00:00:00",
          "2018-11-05T00:00:00",
          "2018-09-20T00:00:00",
          "2018-09-18T00:00:00",
          "2018-09-08T00:00:00",
          "2018-08-31T00:00:00",
          "2018-08-30T00:00:00",
          "2018-08-19T00:00:00",
          "2018-08-19T00:00:00",
          "2018-08-15T00:00:00",
          "2018-07-30T00:00:00",
          "2018-07-10T00:00:00",
          "2018-07-09T00:00:00",
          "2018-07-08T00:00:00",
          "2018-07-05T00:00:00",
          "2018-07-04T00:00:00",
          "2018-06-18T00:00:00",
          "2018-06-15T00:00:00",
          "2018-06-13T00:00:00",
          "2018-05-26T00:00:00",
          "2018-05-23T00:00:00",
          "2018-05-23T00:00:00",
          "2018-05-23T00:00:00",
          "2018-05-23T00:00:00",
          "2018-05-23T00:00:00",
          "2018-03-23T00:00:00",
          "2018-03-23T00:00:00",
          "2018-03-23T00:00:00",
          "2018-03-23T00:00:00",
          "2018-03-08T00:00:00",
          "2018-03-08T00:00:00",
          "2018-03-08T00:00:00",
          "2017-12-18T00:00:00",
          "2017-12-08T00:00:00",
          "2017-11-06T00:00:00",
          "2017-10-05T00:00:00",
          "2017-07-09T00:00:00",
          "2017-06-22T00:00:00",
          "2017-06-17T00:00:00",
          "2017-05-28T00:00:00",
          "2017-03-11T00:00:00",
          "2017-03-11T00:00:00",
          "2017-02-28T00:00:00",
          "2017-02-28T00:00:00",
          "2017-02-25T00:00:00",
          "2017-01-29T00:00:00",
          "2017-01-29T00:00:00",
          "2017-01-29T00:00:00",
          "2017-01-19T00:00:00",
          "2017-01-15T00:00:00",
          "2017-01-12T00:00:00",
          "2017-01-12T00:00:00",
          "2017-01-12T00:00:00",
          "2017-01-12T00:00:00",
          "2017-01-12T00:00:00",
          "2017-01-12T00:00:00",
          "2017-01-12T00:00:00",
          "2017-01-12T00:00:00",
          "2017-01-12T00:00:00",
          "2017-01-10T00:00:00",
          "2017-01-10T00:00:00",
          "2017-01-03T00:00:00",
          "2016-12-30T00:00:00",
          "2016-12-30T00:00:00",
          "2016-12-30T00:00:00",
          "2016-12-30T00:00:00",
          "2016-12-30T00:00:00",
          "2016-12-30T00:00:00",
          "2016-12-30T00:00:00",
          "2016-12-30T00:00:00",
          "2016-12-30T00:00:00",
          "2016-12-30T00:00:00",
          "2016-12-30T00:00:00",
          "2016-12-30T00:00:00",
          "2016-10-11T00:00:00",
          "2016-10-11T00:00:00",
          "2016-06-21T00:00:00",
          "2016-06-17T00:00:00",
          "2016-06-05T00:00:00",
          "2016-04-16T00:00:00",
          "2016-04-09T00:00:00",
          "2016-04-01T00:00:00",
          "2016-04-01T00:00:00",
          "2016-03-15T00:00:00",
          "2016-02-07T00:00:00",
          "2016-01-30T00:00:00",
          "2015-12-30T00:00:00",
          "2015-12-21T00:00:00",
          "2015-12-21T00:00:00",
          "2015-12-15T00:00:00",
          "2015-11-24T00:00:00",
          "2015-11-21T00:00:00",
          "2015-11-17T00:00:00",
          "2015-11-14T00:00:00",
          "2015-10-22T00:00:00",
          "2015-10-13T00:00:00",
          "2015-10-13T00:00:00",
          "2015-10-13T00:00:00",
          "2015-10-13T00:00:00",
          "2015-10-13T00:00:00",
          "2015-10-11T00:00:00",
          "2015-10-11T00:00:00",
          "2015-10-09T00:00:00",
          "2015-10-02T00:00:00",
          "2015-09-25T00:00:00",
          "2015-09-25T00:00:00",
          "2015-09-10T00:00:00",
          "2015-09-08T00:00:00",
          "2015-08-26T00:00:00",
          "2015-08-20T00:00:00",
          "2015-08-20T00:00:00",
          "2015-08-20T00:00:00",
          "2015-08-13T00:00:00",
          "2015-08-05T00:00:00",
          "2015-07-29T00:00:00",
          "2015-07-24T00:00:00",
          "2015-07-24T00:00:00",
          "2015-07-24T00:00:00",
          "2015-07-24T00:00:00",
          "2015-07-24T00:00:00",
          "2015-07-24T00:00:00",
          "2015-07-24T00:00:00",
          "2015-07-24T00:00:00",
          "2015-07-24T00:00:00",
          "2015-07-24T00:00:00",
          "2015-07-24T00:00:00",
          "2015-07-24T00:00:00",
          "2015-07-24T00:00:00",
          "2015-07-24T00:00:00",
          "2015-07-24T00:00:00",
          "2015-07-24T00:00:00",
          "2015-07-24T00:00:00",
          "2015-07-24T00:00:00",
          "2015-07-24T00:00:00",
          "2015-07-15T00:00:00",
          "2015-07-06T00:00:00",
          "2015-07-06T00:00:00",
          "2015-06-27T00:00:00",
          "2015-06-27T00:00:00",
          "2015-06-27T00:00:00",
          "2015-06-27T00:00:00",
          "2015-06-27T00:00:00",
          "2015-06-27T00:00:00",
          "2015-06-05T00:00:00",
          "2015-06-05T00:00:00",
          "2015-06-05T00:00:00",
          "2015-06-05T00:00:00",
          "2015-06-05T00:00:00",
          "2015-06-05T00:00:00",
          "2015-05-30T00:00:00",
          "2015-05-29T00:00:00",
          "2015-05-29T00:00:00",
          "2015-05-29T00:00:00",
          "2015-05-19T00:00:00",
          "2015-05-19T00:00:00",
          "2015-05-19T00:00:00",
          "2015-05-19T00:00:00",
          "2015-05-19T00:00:00",
          "2015-05-09T00:00:00",
          "2015-05-09T00:00:00",
          "2015-05-09T00:00:00",
          "2015-05-09T00:00:00",
          "2015-05-09T00:00:00",
          "2015-05-01T00:00:00",
          "2015-05-01T00:00:00",
          "2015-05-01T00:00:00",
          "2015-05-01T00:00:00",
          "2015-05-01T00:00:00",
          "2015-04-28T00:00:00",
          "2015-04-28T00:00:00",
          "2015-04-28T00:00:00",
          "2015-04-28T00:00:00",
          "2015-04-28T00:00:00",
          "2015-04-24T00:00:00",
          "2015-04-24T00:00:00",
          "2015-04-24T00:00:00",
          "2015-04-24T00:00:00",
          "2015-04-24T00:00:00",
          "2015-04-24T00:00:00",
          "2015-04-08T00:00:00",
          "2015-01-09T00:00:00",
          "2015-01-09T00:00:00",
          "2015-01-09T00:00:00",
          "2015-01-09T00:00:00",
          "2015-01-09T00:00:00",
          "2015-01-09T00:00:00",
          "2015-01-05T00:00:00",
          "2015-01-05T00:00:00",
          "2015-01-05T00:00:00",
          "2015-01-05T00:00:00",
          "2015-01-05T00:00:00",
          "2015-01-05T00:00:00",
          "2015-01-05T00:00:00",
          "2015-01-05T00:00:00",
          "2015-01-05T00:00:00",
          "2015-01-05T00:00:00",
          "2015-01-05T00:00:00",
          "2014-07-18T00:00:00",
          "2013-12-25T00:00:00"
         ],
         "xaxis": "x",
         "y": [
          9,
          7,
          8,
          8,
          8,
          9,
          8,
          8,
          8,
          6,
          7,
          8,
          8,
          8,
          9,
          8,
          7,
          8,
          7,
          8,
          7,
          8,
          8,
          7,
          8,
          8,
          8,
          8,
          8,
          9,
          8,
          8,
          8,
          6,
          7,
          8,
          8,
          9,
          9,
          8,
          7,
          8,
          8,
          8,
          8,
          7,
          7,
          6,
          7,
          10,
          7,
          9,
          8,
          7,
          7,
          8,
          8,
          7,
          7,
          8,
          8,
          6,
          9,
          7,
          7,
          8,
          9,
          8,
          8,
          8,
          7,
          7,
          7,
          8,
          8,
          8,
          7,
          7,
          8,
          8,
          6,
          8,
          6,
          7,
          7,
          7,
          6,
          8,
          7,
          8,
          7,
          6,
          8,
          8,
          8,
          8,
          8,
          7,
          8,
          8,
          7,
          9,
          9,
          6,
          8,
          7,
          6,
          8,
          8,
          6,
          7,
          8,
          8,
          9,
          6,
          7,
          8,
          8,
          5,
          7,
          7,
          8,
          8,
          8,
          8,
          8,
          9,
          8,
          8,
          7,
          7,
          7,
          6,
          7,
          8,
          8,
          8,
          8,
          8,
          7,
          8,
          7,
          7,
          7,
          7,
          7,
          8,
          8,
          5,
          6,
          7,
          8,
          8,
          8,
          8,
          6,
          9,
          8,
          6,
          8,
          8,
          8,
          4,
          9,
          9,
          7,
          8,
          5,
          8,
          8,
          8,
          7,
          6,
          6,
          7,
          7,
          8,
          7,
          9,
          8,
          8,
          6,
          8,
          7,
          7,
          7,
          7,
          7,
          7,
          6,
          7,
          6,
          7,
          8,
          5,
          7,
          7,
          7,
          8,
          7,
          8,
          6,
          8,
          9,
          7,
          8,
          6,
          7,
          8,
          7,
          8,
          8,
          9,
          6,
          7,
          7,
          8,
          8,
          6,
          6,
          8,
          6,
          8,
          8,
          8,
          7,
          6,
          7,
          7,
          8,
          7,
          8,
          6,
          6,
          6,
          8,
          8,
          8,
          7,
          6,
          7,
          7,
          7,
          7,
          6,
          8,
          9,
          7,
          7,
          8,
          8,
          7,
          8,
          8,
          8,
          8,
          8,
          8,
          6,
          8,
          7,
          7,
          8,
          8,
          7,
          7,
          7,
          9,
          8,
          6,
          8,
          8,
          7,
          7,
          7,
          8,
          8,
          7,
          8,
          5,
          8,
          8,
          9,
          8,
          8,
          7,
          8,
          8,
          7,
          8,
          7,
          9,
          8,
          8,
          7,
          9,
          6,
          8,
          8,
          8,
          7,
          8,
          6,
          5,
          7,
          8,
          8,
          8,
          8,
          7,
          9,
          7,
          8,
          1,
          8,
          8,
          8,
          8,
          7,
          7,
          8,
          7,
          7,
          8,
          7,
          8,
          6,
          8,
          8,
          8,
          8,
          7,
          7,
          8,
          8,
          9,
          7,
          7,
          8,
          8,
          8,
          7,
          8,
          8,
          7,
          8,
          7,
          8,
          8,
          6,
          8,
          9,
          8,
          8,
          6,
          9,
          8,
          8,
          7,
          7,
          7,
          7,
          8,
          9,
          8,
          8,
          7,
          8,
          8,
          8,
          8,
          8,
          9,
          9,
          8,
          8,
          6,
          7,
          6,
          6,
          8,
          7,
          7,
          8,
          8,
          8,
          7,
          8,
          7,
          8,
          8,
          8,
          7,
          7,
          8,
          7,
          9,
          7,
          6,
          7,
          7,
          8,
          8,
          8,
          8,
          9,
          8,
          8,
          6,
          8,
          8,
          7,
          9,
          9,
          9,
          7,
          7,
          7,
          7,
          7,
          7,
          7,
          9,
          8,
          8,
          9,
          7,
          5,
          7,
          8,
          8,
          5,
          8,
          7,
          8,
          8,
          7,
          8,
          7,
          7,
          6,
          8,
          9,
          8,
          7,
          7,
          7,
          8,
          8,
          7,
          7,
          6,
          7,
          8,
          7,
          7,
          7,
          7,
          7,
          8,
          7,
          8,
          8,
          7,
          8,
          8,
          10,
          7,
          5,
          8,
          7,
          8,
          8,
          7,
          6,
          8,
          9,
          8,
          7,
          7,
          6,
          8,
          7,
          7,
          8,
          7,
          7,
          9,
          9,
          7,
          8,
          8,
          9,
          9,
          5,
          6,
          7,
          8,
          9,
          7,
          7,
          5,
          5,
          6,
          7,
          7,
          7,
          6,
          6,
          7,
          7,
          7,
          7,
          8,
          9,
          8,
          6,
          7,
          8,
          9,
          7,
          9,
          7,
          7,
          8,
          7,
          7,
          7,
          8,
          9,
          7,
          7,
          7,
          8,
          7,
          7,
          8,
          9,
          7,
          7,
          7,
          7,
          7,
          5,
          6,
          6,
          7,
          7,
          7,
          6,
          5,
          7,
          6,
          7,
          8,
          7,
          7,
          8,
          6,
          7,
          7,
          7,
          7,
          7,
          7,
          8,
          7,
          7,
          7,
          7,
          7,
          6,
          9,
          8,
          7,
          7,
          7,
          8,
          8,
          7,
          7,
          6,
          7,
          6,
          8,
          8,
          7,
          8,
          8,
          7,
          8,
          8,
          9,
          8,
          8,
          7,
          8,
          8,
          8,
          7,
          7,
          8,
          8,
          10,
          8,
          8,
          7,
          7,
          8,
          8,
          8,
          8,
          8,
          8,
          8,
          9,
          7,
          6,
          8,
          8,
          8,
          7,
          8,
          7,
          6,
          7,
          7,
          8,
          7,
          8,
          8,
          7,
          7,
          8,
          7,
          8,
          7,
          6,
          7,
          8,
          7,
          9,
          10,
          7,
          7,
          8,
          7,
          8,
          7,
          8,
          7,
          7,
          8,
          8,
          9,
          7,
          8,
          8,
          8,
          9,
          9,
          9,
          9,
          9,
          9,
          8,
          7,
          8,
          8,
          8,
          8,
          7,
          8,
          8,
          7,
          8,
          8,
          9,
          8,
          9,
          9,
          8,
          8,
          8,
          7,
          9,
          8,
          5,
          6,
          7,
          7,
          8,
          7,
          8,
          8,
          7,
          5,
          7,
          7,
          7,
          8,
          6,
          7,
          7,
          7,
          7,
          8,
          7,
          7,
          8,
          8,
          8,
          7,
          7,
          7,
          8,
          6,
          7,
          7,
          8,
          8,
          8,
          9,
          7,
          8,
          7,
          9,
          8,
          8,
          8,
          8,
          8,
          6,
          7,
          7,
          8,
          7,
          8,
          10,
          8,
          8,
          9,
          9,
          6,
          8,
          8,
          8,
          7,
          7,
          9,
          10,
          9,
          8,
          7,
          7,
          9,
          9,
          8,
          7,
          8,
          7,
          9,
          9,
          8,
          8,
          8,
          8,
          6,
          10,
          7,
          9,
          9,
          8,
          8,
          5,
          8,
          9,
          10,
          8,
          7,
          7,
          7,
          8,
          8,
          7,
          6,
          7,
          7,
          8,
          9,
          7,
          8,
          8,
          7,
          8,
          8,
          9,
          8,
          8,
          8,
          8,
          7,
          8,
          8,
          9,
          8,
          8,
          10,
          7,
          9,
          8,
          8,
          7,
          8,
          7,
          8,
          9,
          7,
          8,
          6,
          8,
          9,
          9,
          8,
          4,
          7,
          7,
          6,
          3,
          8,
          8,
          8,
          9,
          7,
          6,
          8,
          9,
          5,
          6,
          8,
          8,
          9,
          6,
          8,
          9,
          8,
          9,
          7,
          8,
          8,
          8,
          5,
          8,
          9,
          8,
          9,
          9,
          8,
          8,
          6,
          8,
          7,
          7,
          7,
          9,
          8,
          8,
          8,
          9,
          8,
          8,
          8,
          8,
          7,
          8,
          8,
          7,
          4,
          6,
          8,
          7,
          8,
          8,
          8,
          9,
          8,
          7,
          8,
          8,
          7,
          8,
          9,
          7,
          6,
          7,
          7,
          7,
          8,
          8,
          7,
          7,
          7,
          8,
          7,
          9,
          8,
          8,
          8,
          6,
          6,
          7,
          7,
          7,
          9,
          7,
          8,
          9,
          9,
          8,
          9,
          9,
          7,
          10,
          10,
          9,
          8,
          7,
          8
         ],
         "yaxis": "y"
        }
       ],
       "layout": {
        "autosize": true,
        "legend": {
         "tracegroupgap": 0
        },
        "template": {
         "data": {
          "bar": [
           {
            "error_x": {
             "color": "#2a3f5f"
            },
            "error_y": {
             "color": "#2a3f5f"
            },
            "marker": {
             "line": {
              "color": "#E5ECF6",
              "width": 0.5
             },
             "pattern": {
              "fillmode": "overlay",
              "size": 10,
              "solidity": 0.2
             }
            },
            "type": "bar"
           }
          ],
          "barpolar": [
           {
            "marker": {
             "line": {
              "color": "#E5ECF6",
              "width": 0.5
             },
             "pattern": {
              "fillmode": "overlay",
              "size": 10,
              "solidity": 0.2
             }
            },
            "type": "barpolar"
           }
          ],
          "carpet": [
           {
            "aaxis": {
             "endlinecolor": "#2a3f5f",
             "gridcolor": "white",
             "linecolor": "white",
             "minorgridcolor": "white",
             "startlinecolor": "#2a3f5f"
            },
            "baxis": {
             "endlinecolor": "#2a3f5f",
             "gridcolor": "white",
             "linecolor": "white",
             "minorgridcolor": "white",
             "startlinecolor": "#2a3f5f"
            },
            "type": "carpet"
           }
          ],
          "choropleth": [
           {
            "colorbar": {
             "outlinewidth": 0,
             "ticks": ""
            },
            "type": "choropleth"
           }
          ],
          "contour": [
           {
            "colorbar": {
             "outlinewidth": 0,
             "ticks": ""
            },
            "colorscale": [
             [
              0,
              "#0d0887"
             ],
             [
              0.1111111111111111,
              "#46039f"
             ],
             [
              0.2222222222222222,
              "#7201a8"
             ],
             [
              0.3333333333333333,
              "#9c179e"
             ],
             [
              0.4444444444444444,
              "#bd3786"
             ],
             [
              0.5555555555555556,
              "#d8576b"
             ],
             [
              0.6666666666666666,
              "#ed7953"
             ],
             [
              0.7777777777777778,
              "#fb9f3a"
             ],
             [
              0.8888888888888888,
              "#fdca26"
             ],
             [
              1,
              "#f0f921"
             ]
            ],
            "type": "contour"
           }
          ],
          "contourcarpet": [
           {
            "colorbar": {
             "outlinewidth": 0,
             "ticks": ""
            },
            "type": "contourcarpet"
           }
          ],
          "heatmap": [
           {
            "colorbar": {
             "outlinewidth": 0,
             "ticks": ""
            },
            "colorscale": [
             [
              0,
              "#0d0887"
             ],
             [
              0.1111111111111111,
              "#46039f"
             ],
             [
              0.2222222222222222,
              "#7201a8"
             ],
             [
              0.3333333333333333,
              "#9c179e"
             ],
             [
              0.4444444444444444,
              "#bd3786"
             ],
             [
              0.5555555555555556,
              "#d8576b"
             ],
             [
              0.6666666666666666,
              "#ed7953"
             ],
             [
              0.7777777777777778,
              "#fb9f3a"
             ],
             [
              0.8888888888888888,
              "#fdca26"
             ],
             [
              1,
              "#f0f921"
             ]
            ],
            "type": "heatmap"
           }
          ],
          "heatmapgl": [
           {
            "colorbar": {
             "outlinewidth": 0,
             "ticks": ""
            },
            "colorscale": [
             [
              0,
              "#0d0887"
             ],
             [
              0.1111111111111111,
              "#46039f"
             ],
             [
              0.2222222222222222,
              "#7201a8"
             ],
             [
              0.3333333333333333,
              "#9c179e"
             ],
             [
              0.4444444444444444,
              "#bd3786"
             ],
             [
              0.5555555555555556,
              "#d8576b"
             ],
             [
              0.6666666666666666,
              "#ed7953"
             ],
             [
              0.7777777777777778,
              "#fb9f3a"
             ],
             [
              0.8888888888888888,
              "#fdca26"
             ],
             [
              1,
              "#f0f921"
             ]
            ],
            "type": "heatmapgl"
           }
          ],
          "histogram": [
           {
            "marker": {
             "pattern": {
              "fillmode": "overlay",
              "size": 10,
              "solidity": 0.2
             }
            },
            "type": "histogram"
           }
          ],
          "histogram2d": [
           {
            "colorbar": {
             "outlinewidth": 0,
             "ticks": ""
            },
            "colorscale": [
             [
              0,
              "#0d0887"
             ],
             [
              0.1111111111111111,
              "#46039f"
             ],
             [
              0.2222222222222222,
              "#7201a8"
             ],
             [
              0.3333333333333333,
              "#9c179e"
             ],
             [
              0.4444444444444444,
              "#bd3786"
             ],
             [
              0.5555555555555556,
              "#d8576b"
             ],
             [
              0.6666666666666666,
              "#ed7953"
             ],
             [
              0.7777777777777778,
              "#fb9f3a"
             ],
             [
              0.8888888888888888,
              "#fdca26"
             ],
             [
              1,
              "#f0f921"
             ]
            ],
            "type": "histogram2d"
           }
          ],
          "histogram2dcontour": [
           {
            "colorbar": {
             "outlinewidth": 0,
             "ticks": ""
            },
            "colorscale": [
             [
              0,
              "#0d0887"
             ],
             [
              0.1111111111111111,
              "#46039f"
             ],
             [
              0.2222222222222222,
              "#7201a8"
             ],
             [
              0.3333333333333333,
              "#9c179e"
             ],
             [
              0.4444444444444444,
              "#bd3786"
             ],
             [
              0.5555555555555556,
              "#d8576b"
             ],
             [
              0.6666666666666666,
              "#ed7953"
             ],
             [
              0.7777777777777778,
              "#fb9f3a"
             ],
             [
              0.8888888888888888,
              "#fdca26"
             ],
             [
              1,
              "#f0f921"
             ]
            ],
            "type": "histogram2dcontour"
           }
          ],
          "mesh3d": [
           {
            "colorbar": {
             "outlinewidth": 0,
             "ticks": ""
            },
            "type": "mesh3d"
           }
          ],
          "parcoords": [
           {
            "line": {
             "colorbar": {
              "outlinewidth": 0,
              "ticks": ""
             }
            },
            "type": "parcoords"
           }
          ],
          "pie": [
           {
            "automargin": true,
            "type": "pie"
           }
          ],
          "scatter": [
           {
            "marker": {
             "colorbar": {
              "outlinewidth": 0,
              "ticks": ""
             }
            },
            "type": "scatter"
           }
          ],
          "scatter3d": [
           {
            "line": {
             "colorbar": {
              "outlinewidth": 0,
              "ticks": ""
             }
            },
            "marker": {
             "colorbar": {
              "outlinewidth": 0,
              "ticks": ""
             }
            },
            "type": "scatter3d"
           }
          ],
          "scattercarpet": [
           {
            "marker": {
             "colorbar": {
              "outlinewidth": 0,
              "ticks": ""
             }
            },
            "type": "scattercarpet"
           }
          ],
          "scattergeo": [
           {
            "marker": {
             "colorbar": {
              "outlinewidth": 0,
              "ticks": ""
             }
            },
            "type": "scattergeo"
           }
          ],
          "scattergl": [
           {
            "marker": {
             "colorbar": {
              "outlinewidth": 0,
              "ticks": ""
             }
            },
            "type": "scattergl"
           }
          ],
          "scattermapbox": [
           {
            "marker": {
             "colorbar": {
              "outlinewidth": 0,
              "ticks": ""
             }
            },
            "type": "scattermapbox"
           }
          ],
          "scatterpolar": [
           {
            "marker": {
             "colorbar": {
              "outlinewidth": 0,
              "ticks": ""
             }
            },
            "type": "scatterpolar"
           }
          ],
          "scatterpolargl": [
           {
            "marker": {
             "colorbar": {
              "outlinewidth": 0,
              "ticks": ""
             }
            },
            "type": "scatterpolargl"
           }
          ],
          "scatterternary": [
           {
            "marker": {
             "colorbar": {
              "outlinewidth": 0,
              "ticks": ""
             }
            },
            "type": "scatterternary"
           }
          ],
          "surface": [
           {
            "colorbar": {
             "outlinewidth": 0,
             "ticks": ""
            },
            "colorscale": [
             [
              0,
              "#0d0887"
             ],
             [
              0.1111111111111111,
              "#46039f"
             ],
             [
              0.2222222222222222,
              "#7201a8"
             ],
             [
              0.3333333333333333,
              "#9c179e"
             ],
             [
              0.4444444444444444,
              "#bd3786"
             ],
             [
              0.5555555555555556,
              "#d8576b"
             ],
             [
              0.6666666666666666,
              "#ed7953"
             ],
             [
              0.7777777777777778,
              "#fb9f3a"
             ],
             [
              0.8888888888888888,
              "#fdca26"
             ],
             [
              1,
              "#f0f921"
             ]
            ],
            "type": "surface"
           }
          ],
          "table": [
           {
            "cells": {
             "fill": {
              "color": "#EBF0F8"
             },
             "line": {
              "color": "white"
             }
            },
            "header": {
             "fill": {
              "color": "#C8D4E3"
             },
             "line": {
              "color": "white"
             }
            },
            "type": "table"
           }
          ]
         },
         "layout": {
          "annotationdefaults": {
           "arrowcolor": "#2a3f5f",
           "arrowhead": 0,
           "arrowwidth": 1
          },
          "autotypenumbers": "strict",
          "coloraxis": {
           "colorbar": {
            "outlinewidth": 0,
            "ticks": ""
           }
          },
          "colorscale": {
           "diverging": [
            [
             0,
             "#8e0152"
            ],
            [
             0.1,
             "#c51b7d"
            ],
            [
             0.2,
             "#de77ae"
            ],
            [
             0.3,
             "#f1b6da"
            ],
            [
             0.4,
             "#fde0ef"
            ],
            [
             0.5,
             "#f7f7f7"
            ],
            [
             0.6,
             "#e6f5d0"
            ],
            [
             0.7,
             "#b8e186"
            ],
            [
             0.8,
             "#7fbc41"
            ],
            [
             0.9,
             "#4d9221"
            ],
            [
             1,
             "#276419"
            ]
           ],
           "sequential": [
            [
             0,
             "#0d0887"
            ],
            [
             0.1111111111111111,
             "#46039f"
            ],
            [
             0.2222222222222222,
             "#7201a8"
            ],
            [
             0.3333333333333333,
             "#9c179e"
            ],
            [
             0.4444444444444444,
             "#bd3786"
            ],
            [
             0.5555555555555556,
             "#d8576b"
            ],
            [
             0.6666666666666666,
             "#ed7953"
            ],
            [
             0.7777777777777778,
             "#fb9f3a"
            ],
            [
             0.8888888888888888,
             "#fdca26"
            ],
            [
             1,
             "#f0f921"
            ]
           ],
           "sequentialminus": [
            [
             0,
             "#0d0887"
            ],
            [
             0.1111111111111111,
             "#46039f"
            ],
            [
             0.2222222222222222,
             "#7201a8"
            ],
            [
             0.3333333333333333,
             "#9c179e"
            ],
            [
             0.4444444444444444,
             "#bd3786"
            ],
            [
             0.5555555555555556,
             "#d8576b"
            ],
            [
             0.6666666666666666,
             "#ed7953"
            ],
            [
             0.7777777777777778,
             "#fb9f3a"
            ],
            [
             0.8888888888888888,
             "#fdca26"
            ],
            [
             1,
             "#f0f921"
            ]
           ]
          },
          "colorway": [
           "#636efa",
           "#EF553B",
           "#00cc96",
           "#ab63fa",
           "#FFA15A",
           "#19d3f3",
           "#FF6692",
           "#B6E880",
           "#FF97FF",
           "#FECB52"
          ],
          "font": {
           "color": "#2a3f5f"
          },
          "geo": {
           "bgcolor": "white",
           "lakecolor": "white",
           "landcolor": "#E5ECF6",
           "showlakes": true,
           "showland": true,
           "subunitcolor": "white"
          },
          "hoverlabel": {
           "align": "left"
          },
          "hovermode": "closest",
          "mapbox": {
           "style": "light"
          },
          "paper_bgcolor": "white",
          "plot_bgcolor": "#E5ECF6",
          "polar": {
           "angularaxis": {
            "gridcolor": "white",
            "linecolor": "white",
            "ticks": ""
           },
           "bgcolor": "#E5ECF6",
           "radialaxis": {
            "gridcolor": "white",
            "linecolor": "white",
            "ticks": ""
           }
          },
          "scene": {
           "xaxis": {
            "backgroundcolor": "#E5ECF6",
            "gridcolor": "white",
            "gridwidth": 2,
            "linecolor": "white",
            "showbackground": true,
            "ticks": "",
            "zerolinecolor": "white"
           },
           "yaxis": {
            "backgroundcolor": "#E5ECF6",
            "gridcolor": "white",
            "gridwidth": 2,
            "linecolor": "white",
            "showbackground": true,
            "ticks": "",
            "zerolinecolor": "white"
           },
           "zaxis": {
            "backgroundcolor": "#E5ECF6",
            "gridcolor": "white",
            "gridwidth": 2,
            "linecolor": "white",
            "showbackground": true,
            "ticks": "",
            "zerolinecolor": "white"
           }
          },
          "shapedefaults": {
           "line": {
            "color": "#2a3f5f"
           }
          },
          "ternary": {
           "aaxis": {
            "gridcolor": "white",
            "linecolor": "white",
            "ticks": ""
           },
           "baxis": {
            "gridcolor": "white",
            "linecolor": "white",
            "ticks": ""
           },
           "bgcolor": "#E5ECF6",
           "caxis": {
            "gridcolor": "white",
            "linecolor": "white",
            "ticks": ""
           }
          },
          "title": {
           "x": 0.05
          },
          "xaxis": {
           "automargin": true,
           "gridcolor": "white",
           "linecolor": "white",
           "ticks": "",
           "title": {
            "standoff": 15
           },
           "zerolinecolor": "white",
           "zerolinewidth": 2
          },
          "yaxis": {
           "automargin": true,
           "gridcolor": "white",
           "linecolor": "white",
           "ticks": "",
           "title": {
            "standoff": 15
           },
           "zerolinecolor": "white",
           "zerolinewidth": 2
          }
         }
        },
        "title": {
         "text": "Ratings Over Time"
        },
        "xaxis": {
         "anchor": "y",
         "autorange": false,
         "domain": [
          0,
          1
         ],
         "range": [
          "2021-09-21 08:08:55.2394",
          "2023-11-03 16:36:22.1301"
         ],
         "title": {
          "text": "Date Rated"
         },
         "type": "date"
        },
        "yaxis": {
         "anchor": "x",
         "autorange": true,
         "domain": [
          0,
          1
         ],
         "range": [
          0.25728155339805825,
          10.742718446601941
         ],
         "title": {
          "text": "Your Rating"
         },
         "type": "linear"
        }
       }
      },
      "image/png": "[encoded data removed]",
      "text/html": [
       "<div>                            <div id=\"daa31260-5c59-48a6-bc12-d32e0db8ae3e\" class=\"plotly-graph-div\" style=\"height:525px; width:100%;\"></div>            <script type=\"text/javascript\">                require([\"plotly\"], function(Plotly) {                    window.PLOTLYENV=window.PLOTLYENV || {};                                    if (document.getElementById(\"daa31260-5c59-48a6-bc12-d32e0db8ae3e\")) {                    Plotly.newPlot(                        \"daa31260-5c59-48a6-bc12-d32e0db8ae3e\",                        [{\"hovertemplate\":\"Date Rated=%{x}<br>Your Rating=%{y}<extra></extra>\",\"legendgroup\":\"\",\"line\":{\"color\":\"#636efa\",\"dash\":\"solid\"},\"marker\":{\"symbol\":\"circle\"},\"mode\":\"lines+markers\",\"name\":\"\",\"orientation\":\"v\",\"showlegend\":false,\"x\":[\"2024-07-24T00:00:00\",\"2024-07-23T00:00:00\",\"2024-07-15T00:00:00\",\"2024-06-23T00:00:00\",\"2024-06-21T00:00:00\",\"2024-06-01T00:00:00\",\"2024-05-26T00:00:00\",\"2024-05-25T00:00:00\",\"2024-05-24T00:00:00\",\"2024-05-20T00:00:00\",\"2024-05-03T00:00:00\",\"2024-04-28T00:00:00\",\"2024-04-23T00:00:00\",\"2024-04-22T00:00:00\",\"2024-04-18T00:00:00\",\"2024-04-15T00:00:00\",\"2024-04-14T00:00:00\",\"2024-04-13T00:00:00\",\"2024-04-07T00:00:00\",\"2024-04-06T00:00:00\",\"2024-04-06T00:00:00\",\"2024-04-03T00:00:00\",\"2024-04-02T00:00:00\",\"2024-04-02T00:00:00\",\"2024-03-27T00:00:00\",\"2024-03-21T00:00:00\",\"2024-03-18T00:00:00\",\"2024-03-08T00:00:00\",\"2024-03-07T00:00:00\",\"2024-03-02T00:00:00\",\"2024-03-01T00:00:00\",\"2024-02-29T00:00:00\",\"2024-02-29T00:00:00\",\"2024-02-23T00:00:00\",\"2024-02-18T00:00:00\",\"2024-02-14T00:00:00\",\"2024-02-14T00:00:00\",\"2024-02-07T00:00:00\",\"2024-02-07T00:00:00\",\"2024-01-21T00:00:00\",\"2024-01-12T00:00:00\",\"2024-01-05T00:00:00\",\"2024-01-03T00:00:00\",\"2023-12-31T00:00:00\",\"2023-12-29T00:00:00\",\"2023-12-28T00:00:00\",\"2023-12-28T00:00:00\",\"2023-12-23T00:00:00\",\"2023-12-23T00:00:00\",\"2023-12-22T00:00:00\",\"2023-12-22T00:00:00\",\"2023-12-22T00:00:00\",\"2023-12-16T00:00:00\",\"2023-12-14T00:00:00\",\"2023-12-14T00:00:00\",\"2023-12-14T00:00:00\",\"2023-12-14T00:00:00\",\"2023-12-11T00:00:00\",\"2023-12-10T00:00:00\",\"2023-12-05T00:00:00\",\"2023-12-05T00:00:00\",\"2023-12-02T00:00:00\",\"2023-12-02T00:00:00\",\"2023-12-01T00:00:00\",\"2023-11-19T00:00:00\",\"2023-11-16T00:00:00\",\"2023-10-22T00:00:00\",\"2023-10-21T00:00:00\",\"2023-10-21T00:00:00\",\"2023-10-16T00:00:00\",\"2023-10-13T00:00:00\",\"2023-10-06T00:00:00\",\"2023-10-06T00:00:00\",\"2023-10-01T00:00:00\",\"2023-09-30T00:00:00\",\"2023-09-29T00:00:00\",\"2023-09-28T00:00:00\",\"2023-09-22T00:00:00\",\"2023-09-20T00:00:00\",\"2023-09-15T00:00:00\",\"2023-09-11T00:00:00\",\"2023-09-09T00:00:00\",\"2023-09-09T00:00:00\",\"2023-09-09T00:00:00\",\"2023-09-06T00:00:00\",\"2023-09-05T00:00:00\",\"2023-09-04T00:00:00\",\"2023-09-02T00:00:00\",\"2023-08-31T00:00:00\",\"2023-08-29T00:00:00\",\"2023-08-29T00:00:00\",\"2023-08-28T00:00:00\",\"2023-08-27T00:00:00\",\"2023-08-26T00:00:00\",\"2023-08-20T00:00:00\",\"2023-08-16T00:00:00\",\"2023-08-12T00:00:00\",\"2023-08-05T00:00:00\",\"2023-08-05T00:00:00\",\"2023-08-02T00:00:00\",\"2023-07-23T00:00:00\",\"2023-07-21T00:00:00\",\"2023-07-20T00:00:00\",\"2023-07-20T00:00:00\",\"2023-07-10T00:00:00\",\"2023-07-07T00:00:00\",\"2023-07-07T00:00:00\",\"2023-06-25T00:00:00\",\"2023-06-21T00:00:00\",\"2023-06-18T00:00:00\",\"2023-06-15T00:00:00\",\"2023-06-11T00:00:00\",\"2023-06-11T00:00:00\",\"2023-06-03T00:00:00\",\"2023-06-01T00:00:00\",\"2023-05-27T00:00:00\",\"2023-05-26T00:00:00\",\"2023-05-14T00:00:00\",\"2023-05-14T00:00:00\",\"2023-05-14T00:00:00\",\"2023-05-08T00:00:00\",\"2023-05-06T00:00:00\",\"2023-05-03T00:00:00\",\"2023-04-28T00:00:00\",\"2023-04-26T00:00:00\",\"2023-04-18T00:00:00\",\"2023-04-16T00:00:00\",\"2023-04-14T00:00:00\",\"2023-04-07T00:00:00\",\"2023-04-07T00:00:00\",\"2023-04-06T00:00:00\",\"2023-04-01T00:00:00\",\"2023-03-31T00:00:00\",\"2023-03-30T00:00:00\",\"2023-03-24T00:00:00\",\"2023-03-23T00:00:00\",\"2023-03-21T00:00:00\",\"2023-03-21T00:00:00\",\"2023-03-20T00:00:00\",\"2023-03-19T00:00:00\",\"2023-03-18T00:00:00\",\"2023-03-09T00:00:00\",\"2023-03-08T00:00:00\",\"2023-03-06T00:00:00\",\"2023-03-05T00:00:00\",\"2023-03-01T00:00:00\",\"2023-02-27T00:00:00\",\"2023-02-26T00:00:00\",\"2023-02-24T00:00:00\",\"2023-02-23T00:00:00\",\"2023-02-18T00:00:00\",\"2023-02-17T00:00:00\",\"2023-02-08T00:00:00\",\"2023-02-06T00:00:00\",\"2023-02-05T00:00:00\",\"2023-02-05T00:00:00\",\"2023-01-27T00:00:00\",\"2023-01-27T00:00:00\",\"2023-01-27T00:00:00\",\"2023-01-23T00:00:00\",\"2023-01-20T00:00:00\",\"2023-01-18T00:00:00\",\"2023-01-18T00:00:00\",\"2023-01-17T00:00:00\",\"2023-01-17T00:00:00\",\"2023-01-14T00:00:00\",\"2023-01-11T00:00:00\",\"2023-01-02T00:00:00\",\"2022-12-25T00:00:00\",\"2022-12-20T00:00:00\",\"2022-12-19T00:00:00\",\"2022-12-19T00:00:00\",\"2022-12-15T00:00:00\",\"2022-12-11T00:00:00\",\"2022-12-09T00:00:00\",\"2022-12-07T00:00:00\",\"2022-12-04T00:00:00\",\"2022-12-04T00:00:00\",\"2022-11-26T00:00:00\",\"2022-11-26T00:00:00\",\"2022-11-17T00:00:00\",\"2022-11-13T00:00:00\",\"2022-11-11T00:00:00\",\"2022-11-09T00:00:00\",\"2022-11-09T00:00:00\",\"2022-11-08T00:00:00\",\"2022-11-07T00:00:00\",\"2022-11-05T00:00:00\",\"2022-10-28T00:00:00\",\"2022-10-24T00:00:00\",\"2022-10-24T00:00:00\",\"2022-10-24T00:00:00\",\"2022-10-24T00:00:00\",\"2022-10-22T00:00:00\",\"2022-10-21T00:00:00\",\"2022-10-15T00:00:00\",\"2022-10-12T00:00:00\",\"2022-10-10T00:00:00\",\"2022-10-02T00:00:00\",\"2022-10-02T00:00:00\",\"2022-09-23T00:00:00\",\"2022-09-22T00:00:00\",\"2022-08-25T00:00:00\",\"2022-08-22T00:00:00\",\"2022-08-19T00:00:00\",\"2022-08-19T00:00:00\",\"2022-08-04T00:00:00\",\"2022-08-03T00:00:00\",\"2022-07-23T00:00:00\",\"2022-07-21T00:00:00\",\"2022-07-20T00:00:00\",\"2022-07-15T00:00:00\",\"2022-07-14T00:00:00\",\"2022-07-10T00:00:00\",\"2022-07-07T00:00:00\",\"2022-07-02T00:00:00\",\"2022-06-18T00:00:00\",\"2022-06-18T00:00:00\",\"2022-06-13T00:00:00\",\"2022-06-07T00:00:00\",\"2022-05-29T00:00:00\",\"2022-05-12T00:00:00\",\"2022-04-23T00:00:00\",\"2022-04-19T00:00:00\",\"2022-04-13T00:00:00\",\"2022-04-12T00:00:00\",\"2022-04-11T00:00:00\",\"2022-03-30T00:00:00\",\"2022-03-27T00:00:00\",\"2022-03-25T00:00:00\",\"2022-03-24T00:00:00\",\"2022-03-24T00:00:00\",\"2022-03-21T00:00:00\",\"2022-03-21T00:00:00\",\"2022-03-21T00:00:00\",\"2022-03-14T00:00:00\",\"2022-03-06T00:00:00\",\"2022-03-04T00:00:00\",\"2022-03-03T00:00:00\",\"2022-02-27T00:00:00\",\"2022-02-27T00:00:00\",\"2022-02-27T00:00:00\",\"2022-02-24T00:00:00\",\"2022-02-24T00:00:00\",\"2022-02-16T00:00:00\",\"2022-01-18T00:00:00\",\"2022-01-15T00:00:00\",\"2022-01-14T00:00:00\",\"2021-12-28T00:00:00\",\"2021-12-17T00:00:00\",\"2021-12-02T00:00:00\",\"2021-11-26T00:00:00\",\"2021-11-19T00:00:00\",\"2021-11-19T00:00:00\",\"2021-11-19T00:00:00\",\"2021-11-19T00:00:00\",\"2021-11-09T00:00:00\",\"2021-11-07T00:00:00\",\"2021-10-16T00:00:00\",\"2021-10-08T00:00:00\",\"2021-10-01T00:00:00\",\"2021-09-20T00:00:00\",\"2021-09-14T00:00:00\",\"2021-09-13T00:00:00\",\"2021-08-30T00:00:00\",\"2021-08-23T00:00:00\",\"2021-08-21T00:00:00\",\"2021-08-18T00:00:00\",\"2021-08-15T00:00:00\",\"2021-08-14T00:00:00\",\"2021-08-13T00:00:00\",\"2021-08-12T00:00:00\",\"2021-08-10T00:00:00\",\"2021-08-09T00:00:00\",\"2021-08-07T00:00:00\",\"2021-08-06T00:00:00\",\"2021-08-04T00:00:00\",\"2021-08-02T00:00:00\",\"2021-07-30T00:00:00\",\"2021-07-29T00:00:00\",\"2021-07-29T00:00:00\",\"2021-07-22T00:00:00\",\"2021-07-19T00:00:00\",\"2021-07-18T00:00:00\",\"2021-07-14T00:00:00\",\"2021-07-13T00:00:00\",\"2021-07-09T00:00:00\",\"2021-07-08T00:00:00\",\"2021-06-23T00:00:00\",\"2021-06-19T00:00:00\",\"2021-06-18T00:00:00\",\"2021-06-17T00:00:00\",\"2021-06-17T00:00:00\",\"2021-06-16T00:00:00\",\"2021-06-14T00:00:00\",\"2021-06-08T00:00:00\",\"2021-06-05T00:00:00\",\"2021-06-05T00:00:00\",\"2021-06-05T00:00:00\",\"2021-06-04T00:00:00\",\"2021-06-04T00:00:00\",\"2021-06-02T00:00:00\",\"2021-05-31T00:00:00\",\"2021-05-31T00:00:00\",\"2021-05-30T00:00:00\",\"2021-05-30T00:00:00\",\"2021-05-30T00:00:00\",\"2021-05-29T00:00:00\",\"2021-05-27T00:00:00\",\"2021-05-26T00:00:00\",\"2021-05-22T00:00:00\",\"2021-05-20T00:00:00\",\"2021-05-20T00:00:00\",\"2021-05-14T00:00:00\",\"2021-05-13T00:00:00\",\"2021-05-08T00:00:00\",\"2021-05-07T00:00:00\",\"2021-05-04T00:00:00\",\"2021-04-30T00:00:00\",\"2021-04-26T00:00:00\",\"2021-04-23T00:00:00\",\"2021-04-23T00:00:00\",\"2021-04-23T00:00:00\",\"2021-04-10T00:00:00\",\"2021-04-01T00:00:00\",\"2021-04-01T00:00:00\",\"2021-03-30T00:00:00\",\"2021-03-27T00:00:00\",\"2021-03-27T00:00:00\",\"2021-03-23T00:00:00\",\"2021-03-22T00:00:00\",\"2021-03-21T00:00:00\",\"2021-03-19T00:00:00\",\"2021-03-19T00:00:00\",\"2021-03-19T00:00:00\",\"2021-03-11T00:00:00\",\"2021-03-09T00:00:00\",\"2021-03-01T00:00:00\",\"2021-02-18T00:00:00\",\"2021-02-14T00:00:00\",\"2021-02-09T00:00:00\",\"2021-02-05T00:00:00\",\"2021-02-04T00:00:00\",\"2021-02-02T00:00:00\",\"2021-02-02T00:00:00\",\"2021-02-02T00:00:00\",\"2021-01-31T00:00:00\",\"2021-01-28T00:00:00\",\"2021-01-28T00:00:00\",\"2021-01-19T00:00:00\",\"2020-12-30T00:00:00\",\"2020-12-29T00:00:00\",\"2020-12-28T00:00:00\",\"2020-12-28T00:00:00\",\"2020-12-27T00:00:00\",\"2020-12-25T00:00:00\",\"2020-12-25T00:00:00\",\"2020-12-22T00:00:00\",\"2020-12-18T00:00:00\",\"2020-12-09T00:00:00\",\"2020-12-05T00:00:00\",\"2020-12-03T00:00:00\",\"2020-11-28T00:00:00\",\"2020-11-26T00:00:00\",\"2020-11-17T00:00:00\",\"2020-11-17T00:00:00\",\"2020-11-14T00:00:00\",\"2020-11-13T00:00:00\",\"2020-11-08T00:00:00\",\"2020-11-08T00:00:00\",\"2020-11-06T00:00:00\",\"2020-11-02T00:00:00\",\"2020-11-02T00:00:00\",\"2020-10-20T00:00:00\",\"2020-10-16T00:00:00\",\"2020-10-13T00:00:00\",\"2020-10-12T00:00:00\",\"2020-10-09T00:00:00\",\"2020-10-09T00:00:00\",\"2020-10-08T00:00:00\",\"2020-10-08T00:00:00\",\"2020-10-06T00:00:00\",\"2020-10-01T00:00:00\",\"2020-09-25T00:00:00\",\"2020-09-23T00:00:00\",\"2020-09-19T00:00:00\",\"2020-09-12T00:00:00\",\"2020-09-11T00:00:00\",\"2020-09-11T00:00:00\",\"2020-09-07T00:00:00\",\"2020-09-01T00:00:00\",\"2020-09-01T00:00:00\",\"2020-08-31T00:00:00\",\"2020-08-29T00:00:00\",\"2020-08-23T00:00:00\",\"2020-08-22T00:00:00\",\"2020-08-21T00:00:00\",\"2020-08-21T00:00:00\",\"2020-08-15T00:00:00\",\"2020-08-13T00:00:00\",\"2020-08-11T00:00:00\",\"2020-08-08T00:00:00\",\"2020-08-05T00:00:00\",\"2020-08-01T00:00:00\",\"2020-07-26T00:00:00\",\"2020-07-26T00:00:00\",\"2020-07-25T00:00:00\",\"2020-07-25T00:00:00\",\"2020-07-25T00:00:00\",\"2020-07-24T00:00:00\",\"2020-07-20T00:00:00\",\"2020-07-20T00:00:00\",\"2020-07-20T00:00:00\",\"2020-07-19T00:00:00\",\"2020-07-19T00:00:00\",\"2020-07-18T00:00:00\",\"2020-07-15T00:00:00\",\"2020-07-14T00:00:00\",\"2020-07-14T00:00:00\",\"2020-07-14T00:00:00\",\"2020-07-12T00:00:00\",\"2020-07-12T00:00:00\",\"2020-07-09T00:00:00\",\"2020-07-08T00:00:00\",\"2020-07-05T00:00:00\",\"2020-07-05T00:00:00\",\"2020-06-27T00:00:00\",\"2020-06-25T00:00:00\",\"2020-06-23T00:00:00\",\"2020-06-23T00:00:00\",\"2020-06-23T00:00:00\",\"2020-06-18T00:00:00\",\"2020-06-18T00:00:00\",\"2020-06-18T00:00:00\",\"2020-06-16T00:00:00\",\"2020-06-16T00:00:00\",\"2020-06-15T00:00:00\",\"2020-06-14T00:00:00\",\"2020-06-13T00:00:00\",\"2020-06-12T00:00:00\",\"2020-06-05T00:00:00\",\"2020-06-03T00:00:00\",\"2020-06-03T00:00:00\",\"2020-06-03T00:00:00\",\"2020-06-02T00:00:00\",\"2020-06-02T00:00:00\",\"2020-05-28T00:00:00\",\"2020-05-28T00:00:00\",\"2020-05-27T00:00:00\",\"2020-05-27T00:00:00\",\"2020-05-25T00:00:00\",\"2020-05-24T00:00:00\",\"2020-05-24T00:00:00\",\"2020-05-17T00:00:00\",\"2020-05-11T00:00:00\",\"2020-05-07T00:00:00\",\"2020-05-06T00:00:00\",\"2020-05-06T00:00:00\",\"2020-05-03T00:00:00\",\"2020-05-02T00:00:00\",\"2020-05-01T00:00:00\",\"2020-04-30T00:00:00\",\"2020-04-29T00:00:00\",\"2020-04-27T00:00:00\",\"2020-04-27T00:00:00\",\"2020-04-27T00:00:00\",\"2020-04-26T00:00:00\",\"2020-04-26T00:00:00\",\"2020-04-24T00:00:00\",\"2020-04-23T00:00:00\",\"2020-04-21T00:00:00\",\"2020-04-20T00:00:00\",\"2020-04-20T00:00:00\",\"2020-04-18T00:00:00\",\"2020-04-18T00:00:00\",\"2020-04-17T00:00:00\",\"2020-04-16T00:00:00\",\"2020-04-16T00:00:00\",\"2020-04-14T00:00:00\",\"2020-04-09T00:00:00\",\"2020-04-09T00:00:00\",\"2020-04-08T00:00:00\",\"2020-04-03T00:00:00\",\"2020-03-31T00:00:00\",\"2020-03-26T00:00:00\",\"2020-03-22T00:00:00\",\"2020-03-19T00:00:00\",\"2020-03-18T00:00:00\",\"2020-03-18T00:00:00\",\"2020-03-18T00:00:00\",\"2020-03-11T00:00:00\",\"2020-03-11T00:00:00\",\"2020-03-09T00:00:00\",\"2020-03-08T00:00:00\",\"2020-03-07T00:00:00\",\"2020-03-04T00:00:00\",\"2020-03-04T00:00:00\",\"2020-03-03T00:00:00\",\"2020-03-02T00:00:00\",\"2020-03-01T00:00:00\",\"2020-03-01T00:00:00\",\"2020-03-01T00:00:00\",\"2020-03-01T00:00:00\",\"2020-03-01T00:00:00\",\"2020-03-01T00:00:00\",\"2020-02-29T00:00:00\",\"2020-02-29T00:00:00\",\"2020-02-28T00:00:00\",\"2020-02-28T00:00:00\",\"2020-02-21T00:00:00\",\"2020-02-21T00:00:00\",\"2020-02-17T00:00:00\",\"2020-02-17T00:00:00\",\"2020-02-13T00:00:00\",\"2020-02-11T00:00:00\",\"2020-02-11T00:00:00\",\"2020-02-09T00:00:00\",\"2020-02-06T00:00:00\",\"2020-02-06T00:00:00\",\"2020-02-05T00:00:00\",\"2020-02-05T00:00:00\",\"2020-02-04T00:00:00\",\"2020-01-30T00:00:00\",\"2020-01-28T00:00:00\",\"2020-01-28T00:00:00\",\"2020-01-25T00:00:00\",\"2020-01-25T00:00:00\",\"2020-01-25T00:00:00\",\"2020-01-25T00:00:00\",\"2020-01-24T00:00:00\",\"2020-01-24T00:00:00\",\"2020-01-22T00:00:00\",\"2020-01-19T00:00:00\",\"2020-01-18T00:00:00\",\"2020-01-17T00:00:00\",\"2020-01-17T00:00:00\",\"2020-01-05T00:00:00\",\"2019-12-31T00:00:00\",\"2019-12-29T00:00:00\",\"2019-12-29T00:00:00\",\"2019-12-29T00:00:00\",\"2019-12-28T00:00:00\",\"2019-12-28T00:00:00\",\"2019-12-28T00:00:00\",\"2019-12-28T00:00:00\",\"2019-12-24T00:00:00\",\"2019-12-24T00:00:00\",\"2019-12-24T00:00:00\",\"2019-12-24T00:00:00\",\"2019-12-24T00:00:00\",\"2019-12-24T00:00:00\",\"2019-12-24T00:00:00\",\"2019-12-24T00:00:00\",\"2019-12-24T00:00:00\",\"2019-12-24T00:00:00\",\"2019-12-24T00:00:00\",\"2019-12-22T00:00:00\",\"2019-12-22T00:00:00\",\"2019-12-22T00:00:00\",\"2019-12-22T00:00:00\",\"2019-12-18T00:00:00\",\"2019-12-13T00:00:00\",\"2019-12-11T00:00:00\",\"2019-12-09T00:00:00\",\"2019-12-07T00:00:00\",\"2019-12-07T00:00:00\",\"2019-12-05T00:00:00\",\"2019-12-05T00:00:00\",\"2019-12-05T00:00:00\",\"2019-12-01T00:00:00\",\"2019-12-01T00:00:00\",\"2019-11-30T00:00:00\",\"2019-11-30T00:00:00\",\"2019-11-29T00:00:00\",\"2019-11-27T00:00:00\",\"2019-11-27T00:00:00\",\"2019-11-27T00:00:00\",\"2019-11-26T00:00:00\",\"2019-11-25T00:00:00\",\"2019-11-23T00:00:00\",\"2019-11-22T00:00:00\",\"2019-11-22T00:00:00\",\"2019-11-21T00:00:00\",\"2019-11-16T00:00:00\",\"2019-11-16T00:00:00\",\"2019-11-12T00:00:00\",\"2019-11-09T00:00:00\",\"2019-11-07T00:00:00\",\"2019-11-07T00:00:00\",\"2019-11-05T00:00:00\",\"2019-11-05T00:00:00\",\"2019-11-05T00:00:00\",\"2019-11-03T00:00:00\",\"2019-10-20T00:00:00\",\"2019-10-20T00:00:00\",\"2019-10-20T00:00:00\",\"2019-10-20T00:00:00\",\"2019-10-19T00:00:00\",\"2019-10-18T00:00:00\",\"2019-10-06T00:00:00\",\"2019-09-28T00:00:00\",\"2019-09-26T00:00:00\",\"2019-09-23T00:00:00\",\"2019-09-17T00:00:00\",\"2019-09-17T00:00:00\",\"2019-09-11T00:00:00\",\"2019-09-03T00:00:00\",\"2019-09-01T00:00:00\",\"2019-08-19T00:00:00\",\"2019-08-19T00:00:00\",\"2019-08-17T00:00:00\",\"2019-08-17T00:00:00\",\"2019-08-13T00:00:00\",\"2019-08-13T00:00:00\",\"2019-08-13T00:00:00\",\"2019-07-20T00:00:00\",\"2019-07-18T00:00:00\",\"2019-07-18T00:00:00\",\"2019-07-13T00:00:00\",\"2019-06-27T00:00:00\",\"2019-06-27T00:00:00\",\"2019-06-27T00:00:00\",\"2019-06-27T00:00:00\",\"2019-06-19T00:00:00\",\"2019-06-19T00:00:00\",\"2019-06-19T00:00:00\",\"2019-06-16T00:00:00\",\"2019-06-14T00:00:00\",\"2019-06-14T00:00:00\",\"2019-06-13T00:00:00\",\"2019-06-12T00:00:00\",\"2019-06-12T00:00:00\",\"2019-06-09T00:00:00\",\"2019-06-09T00:00:00\",\"2019-06-09T00:00:00\",\"2019-06-09T00:00:00\",\"2019-06-09T00:00:00\",\"2019-06-09T00:00:00\",\"2019-06-09T00:00:00\",\"2019-06-09T00:00:00\",\"2019-06-09T00:00:00\",\"2019-06-07T00:00:00\",\"2019-06-07T00:00:00\",\"2019-06-07T00:00:00\",\"2019-06-05T00:00:00\",\"2019-06-05T00:00:00\",\"2019-06-05T00:00:00\",\"2019-06-05T00:00:00\",\"2019-05-30T00:00:00\",\"2019-05-30T00:00:00\",\"2019-05-23T00:00:00\",\"2019-05-23T00:00:00\",\"2019-05-23T00:00:00\",\"2019-05-22T00:00:00\",\"2019-05-20T00:00:00\",\"2019-05-08T00:00:00\",\"2019-05-04T00:00:00\",\"2019-05-04T00:00:00\",\"2019-05-04T00:00:00\",\"2019-05-04T00:00:00\",\"2019-05-01T00:00:00\",\"2019-04-29T00:00:00\",\"2019-04-24T00:00:00\",\"2019-04-24T00:00:00\",\"2019-04-23T00:00:00\",\"2019-04-18T00:00:00\",\"2019-04-09T00:00:00\",\"2019-04-01T00:00:00\",\"2019-04-01T00:00:00\",\"2019-04-01T00:00:00\",\"2019-04-01T00:00:00\",\"2019-04-01T00:00:00\",\"2019-04-01T00:00:00\",\"2019-04-01T00:00:00\",\"2019-04-01T00:00:00\",\"2019-04-01T00:00:00\",\"2019-03-26T00:00:00\",\"2019-03-10T00:00:00\",\"2019-02-05T00:00:00\",\"2019-02-05T00:00:00\",\"2019-02-05T00:00:00\",\"2019-01-27T00:00:00\",\"2019-01-27T00:00:00\",\"2019-01-22T00:00:00\",\"2019-01-22T00:00:00\",\"2019-01-16T00:00:00\",\"2019-01-11T00:00:00\",\"2019-01-11T00:00:00\",\"2019-01-11T00:00:00\",\"2019-01-11T00:00:00\",\"2019-01-11T00:00:00\",\"2019-01-11T00:00:00\",\"2019-01-11T00:00:00\",\"2019-01-11T00:00:00\",\"2019-01-11T00:00:00\",\"2019-01-11T00:00:00\",\"2019-01-11T00:00:00\",\"2019-01-11T00:00:00\",\"2019-01-11T00:00:00\",\"2019-01-11T00:00:00\",\"2019-01-11T00:00:00\",\"2019-01-11T00:00:00\",\"2019-01-11T00:00:00\",\"2019-01-11T00:00:00\",\"2019-01-11T00:00:00\",\"2019-01-05T00:00:00\",\"2019-01-03T00:00:00\",\"2019-01-03T00:00:00\",\"2019-01-03T00:00:00\",\"2019-01-03T00:00:00\",\"2019-01-03T00:00:00\",\"2018-12-28T00:00:00\",\"2018-12-28T00:00:00\",\"2018-12-28T00:00:00\",\"2018-12-25T00:00:00\",\"2018-12-23T00:00:00\",\"2018-12-20T00:00:00\",\"2018-12-20T00:00:00\",\"2018-12-20T00:00:00\",\"2018-12-20T00:00:00\",\"2018-12-16T00:00:00\",\"2018-12-16T00:00:00\",\"2018-12-16T00:00:00\",\"2018-12-15T00:00:00\",\"2018-12-09T00:00:00\",\"2018-11-25T00:00:00\",\"2018-11-09T00:00:00\",\"2018-11-09T00:00:00\",\"2018-11-08T00:00:00\",\"2018-11-08T00:00:00\",\"2018-11-05T00:00:00\",\"2018-09-20T00:00:00\",\"2018-09-18T00:00:00\",\"2018-09-08T00:00:00\",\"2018-08-31T00:00:00\",\"2018-08-30T00:00:00\",\"2018-08-19T00:00:00\",\"2018-08-19T00:00:00\",\"2018-08-15T00:00:00\",\"2018-07-30T00:00:00\",\"2018-07-10T00:00:00\",\"2018-07-09T00:00:00\",\"2018-07-08T00:00:00\",\"2018-07-05T00:00:00\",\"2018-07-04T00:00:00\",\"2018-06-18T00:00:00\",\"2018-06-15T00:00:00\",\"2018-06-13T00:00:00\",\"2018-05-26T00:00:00\",\"2018-05-23T00:00:00\",\"2018-05-23T00:00:00\",\"2018-05-23T00:00:00\",\"2018-05-23T00:00:00\",\"2018-05-23T00:00:00\",\"2018-03-23T00:00:00\",\"2018-03-23T00:00:00\",\"2018-03-23T00:00:00\",\"2018-03-23T00:00:00\",\"2018-03-08T00:00:00\",\"2018-03-08T00:00:00\",\"2018-03-08T00:00:00\",\"2017-12-18T00:00:00\",\"2017-12-08T00:00:00\",\"2017-11-06T00:00:00\",\"2017-10-05T00:00:00\",\"2017-07-09T00:00:00\",\"2017-06-22T00:00:00\",\"2017-06-17T00:00:00\",\"2017-05-28T00:00:00\",\"2017-03-11T00:00:00\",\"2017-03-11T00:00:00\",\"2017-02-28T00:00:00\",\"2017-02-28T00:00:00\",\"2017-02-25T00:00:00\",\"2017-01-29T00:00:00\",\"2017-01-29T00:00:00\",\"2017-01-29T00:00:00\",\"2017-01-19T00:00:00\",\"2017-01-15T00:00:00\",\"2017-01-12T00:00:00\",\"2017-01-12T00:00:00\",\"2017-01-12T00:00:00\",\"2017-01-12T00:00:00\",\"2017-01-12T00:00:00\",\"2017-01-12T00:00:00\",\"2017-01-12T00:00:00\",\"2017-01-12T00:00:00\",\"2017-01-12T00:00:00\",\"2017-01-10T00:00:00\",\"2017-01-10T00:00:00\",\"2017-01-03T00:00:00\",\"2016-12-30T00:00:00\",\"2016-12-30T00:00:00\",\"2016-12-30T00:00:00\",\"2016-12-30T00:00:00\",\"2016-12-30T00:00:00\",\"2016-12-30T00:00:00\",\"2016-12-30T00:00:00\",\"2016-12-30T00:00:00\",\"2016-12-30T00:00:00\",\"2016-12-30T00:00:00\",\"2016-12-30T00:00:00\",\"2016-12-30T00:00:00\",\"2016-10-11T00:00:00\",\"2016-10-11T00:00:00\",\"2016-06-21T00:00:00\",\"2016-06-17T00:00:00\",\"2016-06-05T00:00:00\",\"2016-04-16T00:00:00\",\"2016-04-09T00:00:00\",\"2016-04-01T00:00:00\",\"2016-04-01T00:00:00\",\"2016-03-15T00:00:00\",\"2016-02-07T00:00:00\",\"2016-01-30T00:00:00\",\"2015-12-30T00:00:00\",\"2015-12-21T00:00:00\",\"2015-12-21T00:00:00\",\"2015-12-15T00:00:00\",\"2015-11-24T00:00:00\",\"2015-11-21T00:00:00\",\"2015-11-17T00:00:00\",\"2015-11-14T00:00:00\",\"2015-10-22T00:00:00\",\"2015-10-13T00:00:00\",\"2015-10-13T00:00:00\",\"2015-10-13T00:00:00\",\"2015-10-13T00:00:00\",\"2015-10-13T00:00:00\",\"2015-10-11T00:00:00\",\"2015-10-11T00:00:00\",\"2015-10-09T00:00:00\",\"2015-10-02T00:00:00\",\"2015-09-25T00:00:00\",\"2015-09-25T00:00:00\",\"2015-09-10T00:00:00\",\"2015-09-08T00:00:00\",\"2015-08-26T00:00:00\",\"2015-08-20T00:00:00\",\"2015-08-20T00:00:00\",\"2015-08-20T00:00:00\",\"2015-08-13T00:00:00\",\"2015-08-05T00:00:00\",\"2015-07-29T00:00:00\",\"2015-07-24T00:00:00\",\"2015-07-24T00:00:00\",\"2015-07-24T00:00:00\",\"2015-07-24T00:00:00\",\"2015-07-24T00:00:00\",\"2015-07-24T00:00:00\",\"2015-07-24T00:00:00\",\"2015-07-24T00:00:00\",\"2015-07-24T00:00:00\",\"2015-07-24T00:00:00\",\"2015-07-24T00:00:00\",\"2015-07-24T00:00:00\",\"2015-07-24T00:00:00\",\"2015-07-24T00:00:00\",\"2015-07-24T00:00:00\",\"2015-07-24T00:00:00\",\"2015-07-24T00:00:00\",\"2015-07-24T00:00:00\",\"2015-07-24T00:00:00\",\"2015-07-15T00:00:00\",\"2015-07-06T00:00:00\",\"2015-07-06T00:00:00\",\"2015-06-27T00:00:00\",\"2015-06-27T00:00:00\",\"2015-06-27T00:00:00\",\"2015-06-27T00:00:00\",\"2015-06-27T00:00:00\",\"2015-06-27T00:00:00\",\"2015-06-05T00:00:00\",\"2015-06-05T00:00:00\",\"2015-06-05T00:00:00\",\"2015-06-05T00:00:00\",\"2015-06-05T00:00:00\",\"2015-06-05T00:00:00\",\"2015-05-30T00:00:00\",\"2015-05-29T00:00:00\",\"2015-05-29T00:00:00\",\"2015-05-29T00:00:00\",\"2015-05-19T00:00:00\",\"2015-05-19T00:00:00\",\"2015-05-19T00:00:00\",\"2015-05-19T00:00:00\",\"2015-05-19T00:00:00\",\"2015-05-09T00:00:00\",\"2015-05-09T00:00:00\",\"2015-05-09T00:00:00\",\"2015-05-09T00:00:00\",\"2015-05-09T00:00:00\",\"2015-05-01T00:00:00\",\"2015-05-01T00:00:00\",\"2015-05-01T00:00:00\",\"2015-05-01T00:00:00\",\"2015-05-01T00:00:00\",\"2015-04-28T00:00:00\",\"2015-04-28T00:00:00\",\"2015-04-28T00:00:00\",\"2015-04-28T00:00:00\",\"2015-04-28T00:00:00\",\"2015-04-24T00:00:00\",\"2015-04-24T00:00:00\",\"2015-04-24T00:00:00\",\"2015-04-24T00:00:00\",\"2015-04-24T00:00:00\",\"2015-04-24T00:00:00\",\"2015-04-08T00:00:00\",\"2015-01-09T00:00:00\",\"2015-01-09T00:00:00\",\"2015-01-09T00:00:00\",\"2015-01-09T00:00:00\",\"2015-01-09T00:00:00\",\"2015-01-09T00:00:00\",\"2015-01-05T00:00:00\",\"2015-01-05T00:00:00\",\"2015-01-05T00:00:00\",\"2015-01-05T00:00:00\",\"2015-01-05T00:00:00\",\"2015-01-05T00:00:00\",\"2015-01-05T00:00:00\",\"2015-01-05T00:00:00\",\"2015-01-05T00:00:00\",\"2015-01-05T00:00:00\",\"2015-01-05T00:00:00\",\"2014-07-18T00:00:00\",\"2013-12-25T00:00:00\"],\"xaxis\":\"x\",\"y\":[9,7,8,8,8,9,8,8,8,6,7,8,8,8,9,8,7,8,7,8,7,8,8,7,8,8,8,8,8,9,8,8,8,6,7,8,8,9,9,8,7,8,8,8,8,7,7,6,7,10,7,9,8,7,7,8,8,7,7,8,8,6,9,7,7,8,9,8,8,8,7,7,7,8,8,8,7,7,8,8,6,8,6,7,7,7,6,8,7,8,7,6,8,8,8,8,8,7,8,8,7,9,9,6,8,7,6,8,8,6,7,8,8,9,6,7,8,8,5,7,7,8,8,8,8,8,9,8,8,7,7,7,6,7,8,8,8,8,8,7,8,7,7,7,7,7,8,8,5,6,7,8,8,8,8,6,9,8,6,8,8,8,4,9,9,7,8,5,8,8,8,7,6,6,7,7,8,7,9,8,8,6,8,7,7,7,7,7,7,6,7,6,7,8,5,7,7,7,8,7,8,6,8,9,7,8,6,7,8,7,8,8,9,6,7,7,8,8,6,6,8,6,8,8,8,7,6,7,7,8,7,8,6,6,6,8,8,8,7,6,7,7,7,7,6,8,9,7,7,8,8,7,8,8,8,8,8,8,6,8,7,7,8,8,7,7,7,9,8,6,8,8,7,7,7,8,8,7,8,5,8,8,9,8,8,7,8,8,7,8,7,9,8,8,7,9,6,8,8,8,7,8,6,5,7,8,8,8,8,7,9,7,8,1,8,8,8,8,7,7,8,7,7,8,7,8,6,8,8,8,8,7,7,8,8,9,7,7,8,8,8,7,8,8,7,8,7,8,8,6,8,9,8,8,6,9,8,8,7,7,7,7,8,9,8,8,7,8,8,8,8,8,9,9,8,8,6,7,6,6,8,7,7,8,8,8,7,8,7,8,8,8,7,7,8,7,9,7,6,7,7,8,8,8,8,9,8,8,6,8,8,7,9,9,9,7,7,7,7,7,7,7,9,8,8,9,7,5,7,8,8,5,8,7,8,8,7,8,7,7,6,8,9,8,7,7,7,8,8,7,7,6,7,8,7,7,7,7,7,8,7,8,8,7,8,8,10,7,5,8,7,8,8,7,6,8,9,8,7,7,6,8,7,7,8,7,7,9,9,7,8,8,9,9,5,6,7,8,9,7,7,5,5,6,7,7,7,6,6,7,7,7,7,8,9,8,6,7,8,9,7,9,7,7,8,7,7,7,8,9,7,7,7,8,7,7,8,9,7,7,7,7,7,5,6,6,7,7,7,6,5,7,6,7,8,7,7,8,6,7,7,7,7,7,7,8,7,7,7,7,7,6,9,8,7,7,7,8,8,7,7,6,7,6,8,8,7,8,8,7,8,8,9,8,8,7,8,8,8,7,7,8,8,10,8,8,7,7,8,8,8,8,8,8,8,9,7,6,8,8,8,7,8,7,6,7,7,8,7,8,8,7,7,8,7,8,7,6,7,8,7,9,10,7,7,8,7,8,7,8,7,7,8,8,9,7,8,8,8,9,9,9,9,9,9,8,7,8,8,8,8,7,8,8,7,8,8,9,8,9,9,8,8,8,7,9,8,5,6,7,7,8,7,8,8,7,5,7,7,7,8,6,7,7,7,7,8,7,7,8,8,8,7,7,7,8,6,7,7,8,8,8,9,7,8,7,9,8,8,8,8,8,6,7,7,8,7,8,10,8,8,9,9,6,8,8,8,7,7,9,10,9,8,7,7,9,9,8,7,8,7,9,9,8,8,8,8,6,10,7,9,9,8,8,5,8,9,10,8,7,7,7,8,8,7,6,7,7,8,9,7,8,8,7,8,8,9,8,8,8,8,7,8,8,9,8,8,10,7,9,8,8,7,8,7,8,9,7,8,6,8,9,9,8,4,7,7,6,3,8,8,8,9,7,6,8,9,5,6,8,8,9,6,8,9,8,9,7,8,8,8,5,8,9,8,9,9,8,8,6,8,7,7,7,9,8,8,8,9,8,8,8,8,7,8,8,7,4,6,8,7,8,8,8,9,8,7,8,8,7,8,9,7,6,7,7,7,8,8,7,7,7,8,7,9,8,8,8,6,6,7,7,7,9,7,8,9,9,8,9,9,7,10,10,9,8,7,8],\"yaxis\":\"y\",\"type\":\"scatter\"}],                        {\"template\":{\"data\":{\"bar\":[{\"error_x\":{\"color\":\"#2a3f5f\"},\"error_y\":{\"color\":\"#2a3f5f\"},\"marker\":{\"line\":{\"color\":\"#E5ECF6\",\"width\":0.5},\"pattern\":{\"fillmode\":\"overlay\",\"size\":10,\"solidity\":0.2}},\"type\":\"bar\"}],\"barpolar\":[{\"marker\":{\"line\":{\"color\":\"#E5ECF6\",\"width\":0.5},\"pattern\":{\"fillmode\":\"overlay\",\"size\":10,\"solidity\":0.2}},\"type\":\"barpolar\"}],\"carpet\":[{\"aaxis\":{\"endlinecolor\":\"#2a3f5f\",\"gridcolor\":\"white\",\"linecolor\":\"white\",\"minorgridcolor\":\"white\",\"startlinecolor\":\"#2a3f5f\"},\"baxis\":{\"endlinecolor\":\"#2a3f5f\",\"gridcolor\":\"white\",\"linecolor\":\"white\",\"minorgridcolor\":\"white\",\"startlinecolor\":\"#2a3f5f\"},\"type\":\"carpet\"}],\"choropleth\":[{\"colorbar\":{\"outlinewidth\":0,\"ticks\":\"\"},\"type\":\"choropleth\"}],\"contour\":[{\"colorbar\":{\"outlinewidth\":0,\"ticks\":\"\"},\"colorscale\":[[0.0,\"#0d0887\"],[0.1111111111111111,\"#46039f\"],[0.2222222222222222,\"#7201a8\"],[0.3333333333333333,\"#9c179e\"],[0.4444444444444444,\"#bd3786\"],[0.5555555555555556,\"#d8576b\"],[0.6666666666666666,\"#ed7953\"],[0.7777777777777778,\"#fb9f3a\"],[0.8888888888888888,\"#fdca26\"],[1.0,\"#f0f921\"]],\"type\":\"contour\"}],\"contourcarpet\":[{\"colorbar\":{\"outlinewidth\":0,\"ticks\":\"\"},\"type\":\"contourcarpet\"}],\"heatmap\":[{\"colorbar\":{\"outlinewidth\":0,\"ticks\":\"\"},\"colorscale\":[[0.0,\"#0d0887\"],[0.1111111111111111,\"#46039f\"],[0.2222222222222222,\"#7201a8\"],[0.3333333333333333,\"#9c179e\"],[0.4444444444444444,\"#bd3786\"],[0.5555555555555556,\"#d8576b\"],[0.6666666666666666,\"#ed7953\"],[0.7777777777777778,\"#fb9f3a\"],[0.8888888888888888,\"#fdca26\"],[1.0,\"#f0f921\"]],\"type\":\"heatmap\"}],\"heatmapgl\":[{\"colorbar\":{\"outlinewidth\":0,\"ticks\":\"\"},\"colorscale\":[[0.0,\"#0d0887\"],[0.1111111111111111,\"#46039f\"],[0.2222222222222222,\"#7201a8\"],[0.3333333333333333,\"#9c179e\"],[0.4444444444444444,\"#bd3786\"],[0.5555555555555556,\"#d8576b\"],[0.6666666666666666,\"#ed7953\"],[0.7777777777777778,\"#fb9f3a\"],[0.8888888888888888,\"#fdca26\"],[1.0,\"#f0f921\"]],\"type\":\"heatmapgl\"}],\"histogram\":[{\"marker\":{\"pattern\":{\"fillmode\":\"overlay\",\"size\":10,\"solidity\":0.2}},\"type\":\"histogram\"}],\"histogram2d\":[{\"colorbar\":{\"outlinewidth\":0,\"ticks\":\"\"},\"colorscale\":[[0.0,\"#0d0887\"],[0.1111111111111111,\"#46039f\"],[0.2222222222222222,\"#7201a8\"],[0.3333333333333333,\"#9c179e\"],[0.4444444444444444,\"#bd3786\"],[0.5555555555555556,\"#d8576b\"],[0.6666666666666666,\"#ed7953\"],[0.7777777777777778,\"#fb9f3a\"],[0.8888888888888888,\"#fdca26\"],[1.0,\"#f0f921\"]],\"type\":\"histogram2d\"}],\"histogram2dcontour\":[{\"colorbar\":{\"outlinewidth\":0,\"ticks\":\"\"},\"colorscale\":[[0.0,\"#0d0887\"],[0.1111111111111111,\"#46039f\"],[0.2222222222222222,\"#7201a8\"],[0.3333333333333333,\"#9c179e\"],[0.4444444444444444,\"#bd3786\"],[0.5555555555555556,\"#d8576b\"],[0.6666666666666666,\"#ed7953\"],[0.7777777777777778,\"#fb9f3a\"],[0.8888888888888888,\"#fdca26\"],[1.0,\"#f0f921\"]],\"type\":\"histogram2dcontour\"}],\"mesh3d\":[{\"colorbar\":{\"outlinewidth\":0,\"ticks\":\"\"},\"type\":\"mesh3d\"}],\"parcoords\":[{\"line\":{\"colorbar\":{\"outlinewidth\":0,\"ticks\":\"\"}},\"type\":\"parcoords\"}],\"pie\":[{\"automargin\":true,\"type\":\"pie\"}],\"scatter\":[{\"marker\":{\"colorbar\":{\"outlinewidth\":0,\"ticks\":\"\"}},\"type\":\"scatter\"}],\"scatter3d\":[{\"line\":{\"colorbar\":{\"outlinewidth\":0,\"ticks\":\"\"}},\"marker\":{\"colorbar\":{\"outlinewidth\":0,\"ticks\":\"\"}},\"type\":\"scatter3d\"}],\"scattercarpet\":[{\"marker\":{\"colorbar\":{\"outlinewidth\":0,\"ticks\":\"\"}},\"type\":\"scattercarpet\"}],\"scattergeo\":[{\"marker\":{\"colorbar\":{\"outlinewidth\":0,\"ticks\":\"\"}},\"type\":\"scattergeo\"}],\"scattergl\":[{\"marker\":{\"colorbar\":{\"outlinewidth\":0,\"ticks\":\"\"}},\"type\":\"scattergl\"}],\"scattermapbox\":[{\"marker\":{\"colorbar\":{\"outlinewidth\":0,\"ticks\":\"\"}},\"type\":\"scattermapbox\"}],\"scatterpolar\":[{\"marker\":{\"colorbar\":{\"outlinewidth\":0,\"ticks\":\"\"}},\"type\":\"scatterpolar\"}],\"scatterpolargl\":[{\"marker\":{\"colorbar\":{\"outlinewidth\":0,\"ticks\":\"\"}},\"type\":\"scatterpolargl\"}],\"scatterternary\":[{\"marker\":{\"colorbar\":{\"outlinewidth\":0,\"ticks\":\"\"}},\"type\":\"scatterternary\"}],\"surface\":[{\"colorbar\":{\"outlinewidth\":0,\"ticks\":\"\"},\"colorscale\":[[0.0,\"#0d0887\"],[0.1111111111111111,\"#46039f\"],[0.2222222222222222,\"#7201a8\"],[0.3333333333333333,\"#9c179e\"],[0.4444444444444444,\"#bd3786\"],[0.5555555555555556,\"#d8576b\"],[0.6666666666666666,\"#ed7953\"],[0.7777777777777778,\"#fb9f3a\"],[0.8888888888888888,\"#fdca26\"],[1.0,\"#f0f921\"]],\"type\":\"surface\"}],\"table\":[{\"cells\":{\"fill\":{\"color\":\"#EBF0F8\"},\"line\":{\"color\":\"white\"}},\"header\":{\"fill\":{\"color\":\"#C8D4E3\"},\"line\":{\"color\":\"white\"}},\"type\":\"table\"}]},\"layout\":{\"annotationdefaults\":{\"arrowcolor\":\"#2a3f5f\",\"arrowhead\":0,\"arrowwidth\":1},\"autotypenumbers\":\"strict\",\"coloraxis\":{\"colorbar\":{\"outlinewidth\":0,\"ticks\":\"\"}},\"colorscale\":{\"diverging\":[[0,\"#8e0152\"],[0.1,\"#c51b7d\"],[0.2,\"#de77ae\"],[0.3,\"#f1b6da\"],[0.4,\"#fde0ef\"],[0.5,\"#f7f7f7\"],[0.6,\"#e6f5d0\"],[0.7,\"#b8e186\"],[0.8,\"#7fbc41\"],[0.9,\"#4d9221\"],[1,\"#276419\"]],\"sequential\":[[0.0,\"#0d0887\"],[0.1111111111111111,\"#46039f\"],[0.2222222222222222,\"#7201a8\"],[0.3333333333333333,\"#9c179e\"],[0.4444444444444444,\"#bd3786\"],[0.5555555555555556,\"#d8576b\"],[0.6666666666666666,\"#ed7953\"],[0.7777777777777778,\"#fb9f3a\"],[0.8888888888888888,\"#fdca26\"],[1.0,\"#f0f921\"]],\"sequentialminus\":[[0.0,\"#0d0887\"],[0.1111111111111111,\"#46039f\"],[0.2222222222222222,\"#7201a8\"],[0.3333333333333333,\"#9c179e\"],[0.4444444444444444,\"#bd3786\"],[0.5555555555555556,\"#d8576b\"],[0.6666666666666666,\"#ed7953\"],[0.7777777777777778,\"#fb9f3a\"],[0.8888888888888888,\"#fdca26\"],[1.0,\"#f0f921\"]]},\"colorway\":[\"#636efa\",\"#EF553B\",\"#00cc96\",\"#ab63fa\",\"#FFA15A\",\"#19d3f3\",\"#FF6692\",\"#B6E880\",\"#FF97FF\",\"#FECB52\"],\"font\":{\"color\":\"#2a3f5f\"},\"geo\":{\"bgcolor\":\"white\",\"lakecolor\":\"white\",\"landcolor\":\"#E5ECF6\",\"showlakes\":true,\"showland\":true,\"subunitcolor\":\"white\"},\"hoverlabel\":{\"align\":\"left\"},\"hovermode\":\"closest\",\"mapbox\":{\"style\":\"light\"},\"paper_bgcolor\":\"white\",\"plot_bgcolor\":\"#E5ECF6\",\"polar\":{\"angularaxis\":{\"gridcolor\":\"white\",\"linecolor\":\"white\",\"ticks\":\"\"},\"bgcolor\":\"#E5ECF6\",\"radialaxis\":{\"gridcolor\":\"white\",\"linecolor\":\"white\",\"ticks\":\"\"}},\"scene\":{\"xaxis\":{\"backgroundcolor\":\"#E5ECF6\",\"gridcolor\":\"white\",\"gridwidth\":2,\"linecolor\":\"white\",\"showbackground\":true,\"ticks\":\"\",\"zerolinecolor\":\"white\"},\"yaxis\":{\"backgroundcolor\":\"#E5ECF6\",\"gridcolor\":\"white\",\"gridwidth\":2,\"linecolor\":\"white\",\"showbackground\":true,\"ticks\":\"\",\"zerolinecolor\":\"white\"},\"zaxis\":{\"backgroundcolor\":\"#E5ECF6\",\"gridcolor\":\"white\",\"gridwidth\":2,\"linecolor\":\"white\",\"showbackground\":true,\"ticks\":\"\",\"zerolinecolor\":\"white\"}},\"shapedefaults\":{\"line\":{\"color\":\"#2a3f5f\"}},\"ternary\":{\"aaxis\":{\"gridcolor\":\"white\",\"linecolor\":\"white\",\"ticks\":\"\"},\"baxis\":{\"gridcolor\":\"white\",\"linecolor\":\"white\",\"ticks\":\"\"},\"bgcolor\":\"#E5ECF6\",\"caxis\":{\"gridcolor\":\"white\",\"linecolor\":\"white\",\"ticks\":\"\"}},\"title\":{\"x\":0.05},\"xaxis\":{\"automargin\":true,\"gridcolor\":\"white\",\"linecolor\":\"white\",\"ticks\":\"\",\"title\":{\"standoff\":15},\"zerolinecolor\":\"white\",\"zerolinewidth\":2},\"yaxis\":{\"automargin\":true,\"gridcolor\":\"white\",\"linecolor\":\"white\",\"ticks\":\"\",\"title\":{\"standoff\":15},\"zerolinecolor\":\"white\",\"zerolinewidth\":2}}},\"xaxis\":{\"anchor\":\"y\",\"domain\":[0.0,1.0],\"title\":{\"text\":\"Date Rated\"}},\"yaxis\":{\"anchor\":\"x\",\"domain\":[0.0,1.0],\"title\":{\"text\":\"Your Rating\"}},\"legend\":{\"tracegroupgap\":0},\"title\":{\"text\":\"Ratings Over Time\"}},                        {\"responsive\": true}                    ).then(function(){\n",
       "                            \n",
       "var gd = document.getElementById('daa31260-5c59-48a6-bc12-d32e0db8ae3e');\n",
       "var x = new MutationObserver(function (mutations, observer) {{\n",
       "        var display = window.getComputedStyle(gd).display;\n",
       "        if (!display || display === 'none') {{\n",
       "            console.log([gd, 'removed!']);\n",
       "            Plotly.purge(gd);\n",
       "            observer.disconnect();\n",
       "        }}\n",
       "}});\n",
       "\n",
       "// Listen for the removal of the full notebook cells\n",
       "var notebookContainer = gd.closest('#notebook-container');\n",
       "if (notebookContainer) {{\n",
       "    x.observe(notebookContainer, {childList: true});\n",
       "}}\n",
       "\n",
       "// Listen for the clearing of the current output cell\n",
       "var outputEl = gd.closest('.output');\n",
       "if (outputEl) {{\n",
       "    x.observe(outputEl, {childList: true});\n",
       "}}\n",
       "\n",
       "                        })                };                });            </script>        </div>"
      ]
     },
     "metadata": {},
     "output_type": "display_data"
    }
   ],
   "source": [
    "df['Date Rated'] = pd.to_datetime(df['Date Rated'])\n",
    "\n",
    "fig = px.line(df, x='Date Rated', y='Your Rating', title='Ratings Over Time', markers=True)\n",
    "fig.show()\n"
   ]
  },
  {
   "cell_type": "code",
   "execution_count": 7,
   "id": "05e55feb-a592-46f0-aef0-fe7ce2aae560",
   "metadata": {},
   "outputs": [
    {
     "data": {
      "application/vnd.plotly.v1+json": {
       "config": {
        "plotlyServerURL": "https://plot.ly"
       },
       "data": [
        {
         "alignmentgroup": "True",
         "hovertemplate": "Rating Type=Your Rating<br>Title=%{x}<br>Rating=%{y}<extra></extra>",
         "legendgroup": "Your Rating",
         "marker": {
          "color": "#636efa",
          "pattern": {
           "shape": ""
          }
         },
         "name": "Your Rating",
         "offsetgroup": "Your Rating",
         "orientation": "v",
         "showlegend": true,
         "textposition": "auto",
         "type": "bar",
         "x": [
          "Ran",
          "Twisters",
          "Children of Men",
          "Inside Out 2",
          "After Hours",
          "Clarkson's Farm",
          "Furiosa: A Mad Max Saga",
          "The Vanishing",
          "Ad Astra",
          "The Ministry of Ungentlemanly Warfare"
         ],
         "xaxis": "x",
         "y": [
          9,
          7,
          8,
          8,
          8,
          9,
          8,
          8,
          8,
          6
         ],
         "yaxis": "y"
        },
        {
         "alignmentgroup": "True",
         "hovertemplate": "Rating Type=IMDb Rating<br>Title=%{x}<br>Rating=%{y}<extra></extra>",
         "legendgroup": "IMDb Rating",
         "marker": {
          "color": "#EF553B",
          "pattern": {
           "shape": ""
          }
         },
         "name": "IMDb Rating",
         "offsetgroup": "IMDb Rating",
         "orientation": "v",
         "showlegend": true,
         "textposition": "auto",
         "type": "bar",
         "x": [
          "Ran",
          "Twisters",
          "Children of Men",
          "Inside Out 2",
          "After Hours",
          "Clarkson's Farm",
          "Furiosa: A Mad Max Saga",
          "The Vanishing",
          "Ad Astra",
          "The Ministry of Ungentlemanly Warfare"
         ],
         "xaxis": "x",
         "y": [
          8.2,
          7.1,
          7.9,
          7.8,
          7.6,
          9,
          7.6,
          7.7,
          6.5,
          6.8
         ],
         "yaxis": "y"
        }
       ],
       "layout": {
        "autosize": true,
        "barmode": "group",
        "legend": {
         "title": {
          "text": "Rating Type"
         },
         "tracegroupgap": 0
        },
        "template": {
         "data": {
          "bar": [
           {
            "error_x": {
             "color": "#2a3f5f"
            },
            "error_y": {
             "color": "#2a3f5f"
            },
            "marker": {
             "line": {
              "color": "#E5ECF6",
              "width": 0.5
             },
             "pattern": {
              "fillmode": "overlay",
              "size": 10,
              "solidity": 0.2
             }
            },
            "type": "bar"
           }
          ],
          "barpolar": [
           {
            "marker": {
             "line": {
              "color": "#E5ECF6",
              "width": 0.5
             },
             "pattern": {
              "fillmode": "overlay",
              "size": 10,
              "solidity": 0.2
             }
            },
            "type": "barpolar"
           }
          ],
          "carpet": [
           {
            "aaxis": {
             "endlinecolor": "#2a3f5f",
             "gridcolor": "white",
             "linecolor": "white",
             "minorgridcolor": "white",
             "startlinecolor": "#2a3f5f"
            },
            "baxis": {
             "endlinecolor": "#2a3f5f",
             "gridcolor": "white",
             "linecolor": "white",
             "minorgridcolor": "white",
             "startlinecolor": "#2a3f5f"
            },
            "type": "carpet"
           }
          ],
          "choropleth": [
           {
            "colorbar": {
             "outlinewidth": 0,
             "ticks": ""
            },
            "type": "choropleth"
           }
          ],
          "contour": [
           {
            "colorbar": {
             "outlinewidth": 0,
             "ticks": ""
            },
            "colorscale": [
             [
              0,
              "#0d0887"
             ],
             [
              0.1111111111111111,
              "#46039f"
             ],
             [
              0.2222222222222222,
              "#7201a8"
             ],
             [
              0.3333333333333333,
              "#9c179e"
             ],
             [
              0.4444444444444444,
              "#bd3786"
             ],
             [
              0.5555555555555556,
              "#d8576b"
             ],
             [
              0.6666666666666666,
              "#ed7953"
             ],
             [
              0.7777777777777778,
              "#fb9f3a"
             ],
             [
              0.8888888888888888,
              "#fdca26"
             ],
             [
              1,
              "#f0f921"
             ]
            ],
            "type": "contour"
           }
          ],
          "contourcarpet": [
           {
            "colorbar": {
             "outlinewidth": 0,
             "ticks": ""
            },
            "type": "contourcarpet"
           }
          ],
          "heatmap": [
           {
            "colorbar": {
             "outlinewidth": 0,
             "ticks": ""
            },
            "colorscale": [
             [
              0,
              "#0d0887"
             ],
             [
              0.1111111111111111,
              "#46039f"
             ],
             [
              0.2222222222222222,
              "#7201a8"
             ],
             [
              0.3333333333333333,
              "#9c179e"
             ],
             [
              0.4444444444444444,
              "#bd3786"
             ],
             [
              0.5555555555555556,
              "#d8576b"
             ],
             [
              0.6666666666666666,
              "#ed7953"
             ],
             [
              0.7777777777777778,
              "#fb9f3a"
             ],
             [
              0.8888888888888888,
              "#fdca26"
             ],
             [
              1,
              "#f0f921"
             ]
            ],
            "type": "heatmap"
           }
          ],
          "heatmapgl": [
           {
            "colorbar": {
             "outlinewidth": 0,
             "ticks": ""
            },
            "colorscale": [
             [
              0,
              "#0d0887"
             ],
             [
              0.1111111111111111,
              "#46039f"
             ],
             [
              0.2222222222222222,
              "#7201a8"
             ],
             [
              0.3333333333333333,
              "#9c179e"
             ],
             [
              0.4444444444444444,
              "#bd3786"
             ],
             [
              0.5555555555555556,
              "#d8576b"
             ],
             [
              0.6666666666666666,
              "#ed7953"
             ],
             [
              0.7777777777777778,
              "#fb9f3a"
             ],
             [
              0.8888888888888888,
              "#fdca26"
             ],
             [
              1,
              "#f0f921"
             ]
            ],
            "type": "heatmapgl"
           }
          ],
          "histogram": [
           {
            "marker": {
             "pattern": {
              "fillmode": "overlay",
              "size": 10,
              "solidity": 0.2
             }
            },
            "type": "histogram"
           }
          ],
          "histogram2d": [
           {
            "colorbar": {
             "outlinewidth": 0,
             "ticks": ""
            },
            "colorscale": [
             [
              0,
              "#0d0887"
             ],
             [
              0.1111111111111111,
              "#46039f"
             ],
             [
              0.2222222222222222,
              "#7201a8"
             ],
             [
              0.3333333333333333,
              "#9c179e"
             ],
             [
              0.4444444444444444,
              "#bd3786"
             ],
             [
              0.5555555555555556,
              "#d8576b"
             ],
             [
              0.6666666666666666,
              "#ed7953"
             ],
             [
              0.7777777777777778,
              "#fb9f3a"
             ],
             [
              0.8888888888888888,
              "#fdca26"
             ],
             [
              1,
              "#f0f921"
             ]
            ],
            "type": "histogram2d"
           }
          ],
          "histogram2dcontour": [
           {
            "colorbar": {
             "outlinewidth": 0,
             "ticks": ""
            },
            "colorscale": [
             [
              0,
              "#0d0887"
             ],
             [
              0.1111111111111111,
              "#46039f"
             ],
             [
              0.2222222222222222,
              "#7201a8"
             ],
             [
              0.3333333333333333,
              "#9c179e"
             ],
             [
              0.4444444444444444,
              "#bd3786"
             ],
             [
              0.5555555555555556,
              "#d8576b"
             ],
             [
              0.6666666666666666,
              "#ed7953"
             ],
             [
              0.7777777777777778,
              "#fb9f3a"
             ],
             [
              0.8888888888888888,
              "#fdca26"
             ],
             [
              1,
              "#f0f921"
             ]
            ],
            "type": "histogram2dcontour"
           }
          ],
          "mesh3d": [
           {
            "colorbar": {
             "outlinewidth": 0,
             "ticks": ""
            },
            "type": "mesh3d"
           }
          ],
          "parcoords": [
           {
            "line": {
             "colorbar": {
              "outlinewidth": 0,
              "ticks": ""
             }
            },
            "type": "parcoords"
           }
          ],
          "pie": [
           {
            "automargin": true,
            "type": "pie"
           }
          ],
          "scatter": [
           {
            "marker": {
             "colorbar": {
              "outlinewidth": 0,
              "ticks": ""
             }
            },
            "type": "scatter"
           }
          ],
          "scatter3d": [
           {
            "line": {
             "colorbar": {
              "outlinewidth": 0,
              "ticks": ""
             }
            },
            "marker": {
             "colorbar": {
              "outlinewidth": 0,
              "ticks": ""
             }
            },
            "type": "scatter3d"
           }
          ],
          "scattercarpet": [
           {
            "marker": {
             "colorbar": {
              "outlinewidth": 0,
              "ticks": ""
             }
            },
            "type": "scattercarpet"
           }
          ],
          "scattergeo": [
           {
            "marker": {
             "colorbar": {
              "outlinewidth": 0,
              "ticks": ""
             }
            },
            "type": "scattergeo"
           }
          ],
          "scattergl": [
           {
            "marker": {
             "colorbar": {
              "outlinewidth": 0,
              "ticks": ""
             }
            },
            "type": "scattergl"
           }
          ],
          "scattermapbox": [
           {
            "marker": {
             "colorbar": {
              "outlinewidth": 0,
              "ticks": ""
             }
            },
            "type": "scattermapbox"
           }
          ],
          "scatterpolar": [
           {
            "marker": {
             "colorbar": {
              "outlinewidth": 0,
              "ticks": ""
             }
            },
            "type": "scatterpolar"
           }
          ],
          "scatterpolargl": [
           {
            "marker": {
             "colorbar": {
              "outlinewidth": 0,
              "ticks": ""
             }
            },
            "type": "scatterpolargl"
           }
          ],
          "scatterternary": [
           {
            "marker": {
             "colorbar": {
              "outlinewidth": 0,
              "ticks": ""
             }
            },
            "type": "scatterternary"
           }
          ],
          "surface": [
           {
            "colorbar": {
             "outlinewidth": 0,
             "ticks": ""
            },
            "colorscale": [
             [
              0,
              "#0d0887"
             ],
             [
              0.1111111111111111,
              "#46039f"
             ],
             [
              0.2222222222222222,
              "#7201a8"
             ],
             [
              0.3333333333333333,
              "#9c179e"
             ],
             [
              0.4444444444444444,
              "#bd3786"
             ],
             [
              0.5555555555555556,
              "#d8576b"
             ],
             [
              0.6666666666666666,
              "#ed7953"
             ],
             [
              0.7777777777777778,
              "#fb9f3a"
             ],
             [
              0.8888888888888888,
              "#fdca26"
             ],
             [
              1,
              "#f0f921"
             ]
            ],
            "type": "surface"
           }
          ],
          "table": [
           {
            "cells": {
             "fill": {
              "color": "#EBF0F8"
             },
             "line": {
              "color": "white"
             }
            },
            "header": {
             "fill": {
              "color": "#C8D4E3"
             },
             "line": {
              "color": "white"
             }
            },
            "type": "table"
           }
          ]
         },
         "layout": {
          "annotationdefaults": {
           "arrowcolor": "#2a3f5f",
           "arrowhead": 0,
           "arrowwidth": 1
          },
          "autotypenumbers": "strict",
          "coloraxis": {
           "colorbar": {
            "outlinewidth": 0,
            "ticks": ""
           }
          },
          "colorscale": {
           "diverging": [
            [
             0,
             "#8e0152"
            ],
            [
             0.1,
             "#c51b7d"
            ],
            [
             0.2,
             "#de77ae"
            ],
            [
             0.3,
             "#f1b6da"
            ],
            [
             0.4,
             "#fde0ef"
            ],
            [
             0.5,
             "#f7f7f7"
            ],
            [
             0.6,
             "#e6f5d0"
            ],
            [
             0.7,
             "#b8e186"
            ],
            [
             0.8,
             "#7fbc41"
            ],
            [
             0.9,
             "#4d9221"
            ],
            [
             1,
             "#276419"
            ]
           ],
           "sequential": [
            [
             0,
             "#0d0887"
            ],
            [
             0.1111111111111111,
             "#46039f"
            ],
            [
             0.2222222222222222,
             "#7201a8"
            ],
            [
             0.3333333333333333,
             "#9c179e"
            ],
            [
             0.4444444444444444,
             "#bd3786"
            ],
            [
             0.5555555555555556,
             "#d8576b"
            ],
            [
             0.6666666666666666,
             "#ed7953"
            ],
            [
             0.7777777777777778,
             "#fb9f3a"
            ],
            [
             0.8888888888888888,
             "#fdca26"
            ],
            [
             1,
             "#f0f921"
            ]
           ],
           "sequentialminus": [
            [
             0,
             "#0d0887"
            ],
            [
             0.1111111111111111,
             "#46039f"
            ],
            [
             0.2222222222222222,
             "#7201a8"
            ],
            [
             0.3333333333333333,
             "#9c179e"
            ],
            [
             0.4444444444444444,
             "#bd3786"
            ],
            [
             0.5555555555555556,
             "#d8576b"
            ],
            [
             0.6666666666666666,
             "#ed7953"
            ],
            [
             0.7777777777777778,
             "#fb9f3a"
            ],
            [
             0.8888888888888888,
             "#fdca26"
            ],
            [
             1,
             "#f0f921"
            ]
           ]
          },
          "colorway": [
           "#636efa",
           "#EF553B",
           "#00cc96",
           "#ab63fa",
           "#FFA15A",
           "#19d3f3",
           "#FF6692",
           "#B6E880",
           "#FF97FF",
           "#FECB52"
          ],
          "font": {
           "color": "#2a3f5f"
          },
          "geo": {
           "bgcolor": "white",
           "lakecolor": "white",
           "landcolor": "#E5ECF6",
           "showlakes": true,
           "showland": true,
           "subunitcolor": "white"
          },
          "hoverlabel": {
           "align": "left"
          },
          "hovermode": "closest",
          "mapbox": {
           "style": "light"
          },
          "paper_bgcolor": "white",
          "plot_bgcolor": "#E5ECF6",
          "polar": {
           "angularaxis": {
            "gridcolor": "white",
            "linecolor": "white",
            "ticks": ""
           },
           "bgcolor": "#E5ECF6",
           "radialaxis": {
            "gridcolor": "white",
            "linecolor": "white",
            "ticks": ""
           }
          },
          "scene": {
           "xaxis": {
            "backgroundcolor": "#E5ECF6",
            "gridcolor": "white",
            "gridwidth": 2,
            "linecolor": "white",
            "showbackground": true,
            "ticks": "",
            "zerolinecolor": "white"
           },
           "yaxis": {
            "backgroundcolor": "#E5ECF6",
            "gridcolor": "white",
            "gridwidth": 2,
            "linecolor": "white",
            "showbackground": true,
            "ticks": "",
            "zerolinecolor": "white"
           },
           "zaxis": {
            "backgroundcolor": "#E5ECF6",
            "gridcolor": "white",
            "gridwidth": 2,
            "linecolor": "white",
            "showbackground": true,
            "ticks": "",
            "zerolinecolor": "white"
           }
          },
          "shapedefaults": {
           "line": {
            "color": "#2a3f5f"
           }
          },
          "ternary": {
           "aaxis": {
            "gridcolor": "white",
            "linecolor": "white",
            "ticks": ""
           },
           "baxis": {
            "gridcolor": "white",
            "linecolor": "white",
            "ticks": ""
           },
           "bgcolor": "#E5ECF6",
           "caxis": {
            "gridcolor": "white",
            "linecolor": "white",
            "ticks": ""
           }
          },
          "title": {
           "x": 0.05
          },
          "xaxis": {
           "automargin": true,
           "gridcolor": "white",
           "linecolor": "white",
           "ticks": "",
           "title": {
            "standoff": 15
           },
           "zerolinecolor": "white",
           "zerolinewidth": 2
          },
          "yaxis": {
           "automargin": true,
           "gridcolor": "white",
           "linecolor": "white",
           "ticks": "",
           "title": {
            "standoff": 15
           },
           "zerolinecolor": "white",
           "zerolinewidth": 2
          }
         }
        },
        "title": {
         "text": "Your Rating vs IMDb Rating for Top 10 Latest Movies"
        },
        "xaxis": {
         "anchor": "y",
         "autorange": true,
         "domain": [
          0,
          1
         ],
         "range": [
          -0.5,
          9.5
         ],
         "title": {
          "text": "Title"
         },
         "type": "category"
        },
        "yaxis": {
         "anchor": "x",
         "autorange": true,
         "domain": [
          0,
          1
         ],
         "range": [
          0,
          9.473684210526315
         ],
         "title": {
          "text": "Rating"
         },
         "type": "linear"
        }
       }
      },
      "text/html": [
       "<div>                            <div id=\"0c392036-c830-4f52-9b1d-d47ce976cffe\" class=\"plotly-graph-div\" style=\"height:525px; width:100%;\"></div>            <script type=\"text/javascript\">                require([\"plotly\"], function(Plotly) {                    window.PLOTLYENV=window.PLOTLYENV || {};                                    if (document.getElementById(\"0c392036-c830-4f52-9b1d-d47ce976cffe\")) {                    Plotly.newPlot(                        \"0c392036-c830-4f52-9b1d-d47ce976cffe\",                        [{\"alignmentgroup\":\"True\",\"hovertemplate\":\"Rating Type=Your Rating<br>Title=%{x}<br>Rating=%{y}<extra></extra>\",\"legendgroup\":\"Your Rating\",\"marker\":{\"color\":\"#636efa\",\"pattern\":{\"shape\":\"\"}},\"name\":\"Your Rating\",\"offsetgroup\":\"Your Rating\",\"orientation\":\"v\",\"showlegend\":true,\"textposition\":\"auto\",\"x\":[\"Ran\",\"Twisters\",\"Children of Men\",\"Inside Out 2\",\"After Hours\",\"Clarkson's Farm\",\"Furiosa: A Mad Max Saga\",\"The Vanishing\",\"Ad Astra\",\"The Ministry of Ungentlemanly Warfare\"],\"xaxis\":\"x\",\"y\":[9.0,7.0,8.0,8.0,8.0,9.0,8.0,8.0,8.0,6.0],\"yaxis\":\"y\",\"type\":\"bar\"},{\"alignmentgroup\":\"True\",\"hovertemplate\":\"Rating Type=IMDb Rating<br>Title=%{x}<br>Rating=%{y}<extra></extra>\",\"legendgroup\":\"IMDb Rating\",\"marker\":{\"color\":\"#EF553B\",\"pattern\":{\"shape\":\"\"}},\"name\":\"IMDb Rating\",\"offsetgroup\":\"IMDb Rating\",\"orientation\":\"v\",\"showlegend\":true,\"textposition\":\"auto\",\"x\":[\"Ran\",\"Twisters\",\"Children of Men\",\"Inside Out 2\",\"After Hours\",\"Clarkson's Farm\",\"Furiosa: A Mad Max Saga\",\"The Vanishing\",\"Ad Astra\",\"The Ministry of Ungentlemanly Warfare\"],\"xaxis\":\"x\",\"y\":[8.2,7.1,7.9,7.8,7.6,9.0,7.6,7.7,6.5,6.8],\"yaxis\":\"y\",\"type\":\"bar\"}],                        {\"template\":{\"data\":{\"bar\":[{\"error_x\":{\"color\":\"#2a3f5f\"},\"error_y\":{\"color\":\"#2a3f5f\"},\"marker\":{\"line\":{\"color\":\"#E5ECF6\",\"width\":0.5},\"pattern\":{\"fillmode\":\"overlay\",\"size\":10,\"solidity\":0.2}},\"type\":\"bar\"}],\"barpolar\":[{\"marker\":{\"line\":{\"color\":\"#E5ECF6\",\"width\":0.5},\"pattern\":{\"fillmode\":\"overlay\",\"size\":10,\"solidity\":0.2}},\"type\":\"barpolar\"}],\"carpet\":[{\"aaxis\":{\"endlinecolor\":\"#2a3f5f\",\"gridcolor\":\"white\",\"linecolor\":\"white\",\"minorgridcolor\":\"white\",\"startlinecolor\":\"#2a3f5f\"},\"baxis\":{\"endlinecolor\":\"#2a3f5f\",\"gridcolor\":\"white\",\"linecolor\":\"white\",\"minorgridcolor\":\"white\",\"startlinecolor\":\"#2a3f5f\"},\"type\":\"carpet\"}],\"choropleth\":[{\"colorbar\":{\"outlinewidth\":0,\"ticks\":\"\"},\"type\":\"choropleth\"}],\"contour\":[{\"colorbar\":{\"outlinewidth\":0,\"ticks\":\"\"},\"colorscale\":[[0.0,\"#0d0887\"],[0.1111111111111111,\"#46039f\"],[0.2222222222222222,\"#7201a8\"],[0.3333333333333333,\"#9c179e\"],[0.4444444444444444,\"#bd3786\"],[0.5555555555555556,\"#d8576b\"],[0.6666666666666666,\"#ed7953\"],[0.7777777777777778,\"#fb9f3a\"],[0.8888888888888888,\"#fdca26\"],[1.0,\"#f0f921\"]],\"type\":\"contour\"}],\"contourcarpet\":[{\"colorbar\":{\"outlinewidth\":0,\"ticks\":\"\"},\"type\":\"contourcarpet\"}],\"heatmap\":[{\"colorbar\":{\"outlinewidth\":0,\"ticks\":\"\"},\"colorscale\":[[0.0,\"#0d0887\"],[0.1111111111111111,\"#46039f\"],[0.2222222222222222,\"#7201a8\"],[0.3333333333333333,\"#9c179e\"],[0.4444444444444444,\"#bd3786\"],[0.5555555555555556,\"#d8576b\"],[0.6666666666666666,\"#ed7953\"],[0.7777777777777778,\"#fb9f3a\"],[0.8888888888888888,\"#fdca26\"],[1.0,\"#f0f921\"]],\"type\":\"heatmap\"}],\"heatmapgl\":[{\"colorbar\":{\"outlinewidth\":0,\"ticks\":\"\"},\"colorscale\":[[0.0,\"#0d0887\"],[0.1111111111111111,\"#46039f\"],[0.2222222222222222,\"#7201a8\"],[0.3333333333333333,\"#9c179e\"],[0.4444444444444444,\"#bd3786\"],[0.5555555555555556,\"#d8576b\"],[0.6666666666666666,\"#ed7953\"],[0.7777777777777778,\"#fb9f3a\"],[0.8888888888888888,\"#fdca26\"],[1.0,\"#f0f921\"]],\"type\":\"heatmapgl\"}],\"histogram\":[{\"marker\":{\"pattern\":{\"fillmode\":\"overlay\",\"size\":10,\"solidity\":0.2}},\"type\":\"histogram\"}],\"histogram2d\":[{\"colorbar\":{\"outlinewidth\":0,\"ticks\":\"\"},\"colorscale\":[[0.0,\"#0d0887\"],[0.1111111111111111,\"#46039f\"],[0.2222222222222222,\"#7201a8\"],[0.3333333333333333,\"#9c179e\"],[0.4444444444444444,\"#bd3786\"],[0.5555555555555556,\"#d8576b\"],[0.6666666666666666,\"#ed7953\"],[0.7777777777777778,\"#fb9f3a\"],[0.8888888888888888,\"#fdca26\"],[1.0,\"#f0f921\"]],\"type\":\"histogram2d\"}],\"histogram2dcontour\":[{\"colorbar\":{\"outlinewidth\":0,\"ticks\":\"\"},\"colorscale\":[[0.0,\"#0d0887\"],[0.1111111111111111,\"#46039f\"],[0.2222222222222222,\"#7201a8\"],[0.3333333333333333,\"#9c179e\"],[0.4444444444444444,\"#bd3786\"],[0.5555555555555556,\"#d8576b\"],[0.6666666666666666,\"#ed7953\"],[0.7777777777777778,\"#fb9f3a\"],[0.8888888888888888,\"#fdca26\"],[1.0,\"#f0f921\"]],\"type\":\"histogram2dcontour\"}],\"mesh3d\":[{\"colorbar\":{\"outlinewidth\":0,\"ticks\":\"\"},\"type\":\"mesh3d\"}],\"parcoords\":[{\"line\":{\"colorbar\":{\"outlinewidth\":0,\"ticks\":\"\"}},\"type\":\"parcoords\"}],\"pie\":[{\"automargin\":true,\"type\":\"pie\"}],\"scatter\":[{\"marker\":{\"colorbar\":{\"outlinewidth\":0,\"ticks\":\"\"}},\"type\":\"scatter\"}],\"scatter3d\":[{\"line\":{\"colorbar\":{\"outlinewidth\":0,\"ticks\":\"\"}},\"marker\":{\"colorbar\":{\"outlinewidth\":0,\"ticks\":\"\"}},\"type\":\"scatter3d\"}],\"scattercarpet\":[{\"marker\":{\"colorbar\":{\"outlinewidth\":0,\"ticks\":\"\"}},\"type\":\"scattercarpet\"}],\"scattergeo\":[{\"marker\":{\"colorbar\":{\"outlinewidth\":0,\"ticks\":\"\"}},\"type\":\"scattergeo\"}],\"scattergl\":[{\"marker\":{\"colorbar\":{\"outlinewidth\":0,\"ticks\":\"\"}},\"type\":\"scattergl\"}],\"scattermapbox\":[{\"marker\":{\"colorbar\":{\"outlinewidth\":0,\"ticks\":\"\"}},\"type\":\"scattermapbox\"}],\"scatterpolar\":[{\"marker\":{\"colorbar\":{\"outlinewidth\":0,\"ticks\":\"\"}},\"type\":\"scatterpolar\"}],\"scatterpolargl\":[{\"marker\":{\"colorbar\":{\"outlinewidth\":0,\"ticks\":\"\"}},\"type\":\"scatterpolargl\"}],\"scatterternary\":[{\"marker\":{\"colorbar\":{\"outlinewidth\":0,\"ticks\":\"\"}},\"type\":\"scatterternary\"}],\"surface\":[{\"colorbar\":{\"outlinewidth\":0,\"ticks\":\"\"},\"colorscale\":[[0.0,\"#0d0887\"],[0.1111111111111111,\"#46039f\"],[0.2222222222222222,\"#7201a8\"],[0.3333333333333333,\"#9c179e\"],[0.4444444444444444,\"#bd3786\"],[0.5555555555555556,\"#d8576b\"],[0.6666666666666666,\"#ed7953\"],[0.7777777777777778,\"#fb9f3a\"],[0.8888888888888888,\"#fdca26\"],[1.0,\"#f0f921\"]],\"type\":\"surface\"}],\"table\":[{\"cells\":{\"fill\":{\"color\":\"#EBF0F8\"},\"line\":{\"color\":\"white\"}},\"header\":{\"fill\":{\"color\":\"#C8D4E3\"},\"line\":{\"color\":\"white\"}},\"type\":\"table\"}]},\"layout\":{\"annotationdefaults\":{\"arrowcolor\":\"#2a3f5f\",\"arrowhead\":0,\"arrowwidth\":1},\"autotypenumbers\":\"strict\",\"coloraxis\":{\"colorbar\":{\"outlinewidth\":0,\"ticks\":\"\"}},\"colorscale\":{\"diverging\":[[0,\"#8e0152\"],[0.1,\"#c51b7d\"],[0.2,\"#de77ae\"],[0.3,\"#f1b6da\"],[0.4,\"#fde0ef\"],[0.5,\"#f7f7f7\"],[0.6,\"#e6f5d0\"],[0.7,\"#b8e186\"],[0.8,\"#7fbc41\"],[0.9,\"#4d9221\"],[1,\"#276419\"]],\"sequential\":[[0.0,\"#0d0887\"],[0.1111111111111111,\"#46039f\"],[0.2222222222222222,\"#7201a8\"],[0.3333333333333333,\"#9c179e\"],[0.4444444444444444,\"#bd3786\"],[0.5555555555555556,\"#d8576b\"],[0.6666666666666666,\"#ed7953\"],[0.7777777777777778,\"#fb9f3a\"],[0.8888888888888888,\"#fdca26\"],[1.0,\"#f0f921\"]],\"sequentialminus\":[[0.0,\"#0d0887\"],[0.1111111111111111,\"#46039f\"],[0.2222222222222222,\"#7201a8\"],[0.3333333333333333,\"#9c179e\"],[0.4444444444444444,\"#bd3786\"],[0.5555555555555556,\"#d8576b\"],[0.6666666666666666,\"#ed7953\"],[0.7777777777777778,\"#fb9f3a\"],[0.8888888888888888,\"#fdca26\"],[1.0,\"#f0f921\"]]},\"colorway\":[\"#636efa\",\"#EF553B\",\"#00cc96\",\"#ab63fa\",\"#FFA15A\",\"#19d3f3\",\"#FF6692\",\"#B6E880\",\"#FF97FF\",\"#FECB52\"],\"font\":{\"color\":\"#2a3f5f\"},\"geo\":{\"bgcolor\":\"white\",\"lakecolor\":\"white\",\"landcolor\":\"#E5ECF6\",\"showlakes\":true,\"showland\":true,\"subunitcolor\":\"white\"},\"hoverlabel\":{\"align\":\"left\"},\"hovermode\":\"closest\",\"mapbox\":{\"style\":\"light\"},\"paper_bgcolor\":\"white\",\"plot_bgcolor\":\"#E5ECF6\",\"polar\":{\"angularaxis\":{\"gridcolor\":\"white\",\"linecolor\":\"white\",\"ticks\":\"\"},\"bgcolor\":\"#E5ECF6\",\"radialaxis\":{\"gridcolor\":\"white\",\"linecolor\":\"white\",\"ticks\":\"\"}},\"scene\":{\"xaxis\":{\"backgroundcolor\":\"#E5ECF6\",\"gridcolor\":\"white\",\"gridwidth\":2,\"linecolor\":\"white\",\"showbackground\":true,\"ticks\":\"\",\"zerolinecolor\":\"white\"},\"yaxis\":{\"backgroundcolor\":\"#E5ECF6\",\"gridcolor\":\"white\",\"gridwidth\":2,\"linecolor\":\"white\",\"showbackground\":true,\"ticks\":\"\",\"zerolinecolor\":\"white\"},\"zaxis\":{\"backgroundcolor\":\"#E5ECF6\",\"gridcolor\":\"white\",\"gridwidth\":2,\"linecolor\":\"white\",\"showbackground\":true,\"ticks\":\"\",\"zerolinecolor\":\"white\"}},\"shapedefaults\":{\"line\":{\"color\":\"#2a3f5f\"}},\"ternary\":{\"aaxis\":{\"gridcolor\":\"white\",\"linecolor\":\"white\",\"ticks\":\"\"},\"baxis\":{\"gridcolor\":\"white\",\"linecolor\":\"white\",\"ticks\":\"\"},\"bgcolor\":\"#E5ECF6\",\"caxis\":{\"gridcolor\":\"white\",\"linecolor\":\"white\",\"ticks\":\"\"}},\"title\":{\"x\":0.05},\"xaxis\":{\"automargin\":true,\"gridcolor\":\"white\",\"linecolor\":\"white\",\"ticks\":\"\",\"title\":{\"standoff\":15},\"zerolinecolor\":\"white\",\"zerolinewidth\":2},\"yaxis\":{\"automargin\":true,\"gridcolor\":\"white\",\"linecolor\":\"white\",\"ticks\":\"\",\"title\":{\"standoff\":15},\"zerolinecolor\":\"white\",\"zerolinewidth\":2}}},\"xaxis\":{\"anchor\":\"y\",\"domain\":[0.0,1.0],\"title\":{\"text\":\"Title\"}},\"yaxis\":{\"anchor\":\"x\",\"domain\":[0.0,1.0],\"title\":{\"text\":\"Rating\"}},\"legend\":{\"title\":{\"text\":\"Rating Type\"},\"tracegroupgap\":0},\"title\":{\"text\":\"Your Rating vs IMDb Rating for Top 10 Latest Movies\"},\"barmode\":\"group\"},                        {\"responsive\": true}                    ).then(function(){\n",
       "                            \n",
       "var gd = document.getElementById('0c392036-c830-4f52-9b1d-d47ce976cffe');\n",
       "var x = new MutationObserver(function (mutations, observer) {{\n",
       "        var display = window.getComputedStyle(gd).display;\n",
       "        if (!display || display === 'none') {{\n",
       "            console.log([gd, 'removed!']);\n",
       "            Plotly.purge(gd);\n",
       "            observer.disconnect();\n",
       "        }}\n",
       "}});\n",
       "\n",
       "// Listen for the removal of the full notebook cells\n",
       "var notebookContainer = gd.closest('#notebook-container');\n",
       "if (notebookContainer) {{\n",
       "    x.observe(notebookContainer, {childList: true});\n",
       "}}\n",
       "\n",
       "// Listen for the clearing of the current output cell\n",
       "var outputEl = gd.closest('.output');\n",
       "if (outputEl) {{\n",
       "    x.observe(outputEl, {childList: true});\n",
       "}}\n",
       "\n",
       "                        })                };                });            </script>        </div>"
      ]
     },
     "metadata": {},
     "output_type": "display_data"
    }
   ],
   "source": [
    "\n",
    "df['Date Rated'] = pd.to_datetime(df['Date Rated'])\n",
    "\n",
    "# Sorting the DataFrame by 'Date Rated' in descending order and get top 10 latest movies\n",
    "df_sorted = df.sort_values(by='Date Rated', ascending=False).head(10)\n",
    "\n",
    "#bar graph to compare IMDb ratings with my ratings\n",
    "fig = px.bar(\n",
    "    df_sorted,\n",
    "    x='Title',\n",
    "    y=['Your Rating', 'IMDb Rating'],\n",
    "    title='Your Rating vs IMDb Rating for Top 10 Latest Movies',\n",
    "    labels={'value': 'Rating', 'variable': 'Rating Type'},\n",
    "    barmode='group'\n",
    ")\n",
    "\n",
    "fig.show()\n"
   ]
  },
  {
   "cell_type": "code",
   "execution_count": null,
   "id": "2049a28b-8237-4e5b-a68f-e1806fd88788",
   "metadata": {},
   "outputs": [],
   "source": []
  }
 ],
 "metadata": {
  "kernelspec": {
   "display_name": "Python 3 (ipykernel)",
   "language": "python",
   "name": "python3"
  },
  "language_info": {
   "codemirror_mode": {
    "name": "ipython",
    "version": 3
   },
   "file_extension": ".py",
   "mimetype": "text/x-python",
   "name": "python",
   "nbconvert_exporter": "python",
   "pygments_lexer": "ipython3",
   "version": "3.9.7"
  }
 },
 "nbformat": 4,
 "nbformat_minor": 5
}
